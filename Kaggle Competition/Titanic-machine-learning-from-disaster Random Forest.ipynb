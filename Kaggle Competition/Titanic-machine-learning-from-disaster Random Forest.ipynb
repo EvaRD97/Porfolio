{
 "cells": [
  {
   "cell_type": "markdown",
   "id": "16964b1b",
   "metadata": {
    "_cell_guid": "b1076dfc-b9ad-4769-8c92-a6c4dae69d19",
    "_uuid": "8f2839f25d086af736a60e9eeb907d3b93b6e0e5",
    "execution": {
     "iopub.execute_input": "2023-06-07T16:53:31.981801Z",
     "iopub.status.busy": "2023-06-07T16:53:31.980078Z",
     "iopub.status.idle": "2023-06-07T16:53:31.995813Z",
     "shell.execute_reply": "2023-06-07T16:53:31.994757Z"
    },
    "papermill": {
     "duration": 0.044816,
     "end_time": "2023-06-07T16:53:31.998131",
     "exception": false,
     "start_time": "2023-06-07T16:53:31.953315",
     "status": "completed"
    },
    "tags": []
   },
   "source": [
    "# Titanic Random Forest"
   ]
  },
  {
   "cell_type": "code",
   "execution_count": 1,
   "id": "88153b61",
   "metadata": {},
   "outputs": [],
   "source": [
    "import numpy as np\n",
    "import pandas as pd\n",
    "import matplotlib.pyplot as plt\n",
    "import seaborn as sns"
   ]
  },
  {
   "cell_type": "code",
   "execution_count": 2,
   "id": "37ccb2f6",
   "metadata": {
    "execution": {
     "iopub.execute_input": "2023-06-07T16:53:32.040749Z",
     "iopub.status.busy": "2023-06-07T16:53:32.040034Z",
     "iopub.status.idle": "2023-06-07T16:53:32.097246Z",
     "shell.execute_reply": "2023-06-07T16:53:32.096068Z"
    },
    "papermill": {
     "duration": 0.080351,
     "end_time": "2023-06-07T16:53:32.099791",
     "exception": false,
     "start_time": "2023-06-07T16:53:32.019440",
     "status": "completed"
    },
    "tags": []
   },
   "outputs": [
    {
     "data": {
      "text/html": [
       "<div>\n",
       "<style scoped>\n",
       "    .dataframe tbody tr th:only-of-type {\n",
       "        vertical-align: middle;\n",
       "    }\n",
       "\n",
       "    .dataframe tbody tr th {\n",
       "        vertical-align: top;\n",
       "    }\n",
       "\n",
       "    .dataframe thead th {\n",
       "        text-align: right;\n",
       "    }\n",
       "</style>\n",
       "<table border=\"1\" class=\"dataframe\">\n",
       "  <thead>\n",
       "    <tr style=\"text-align: right;\">\n",
       "      <th></th>\n",
       "      <th>PassengerId</th>\n",
       "      <th>Survived</th>\n",
       "      <th>Pclass</th>\n",
       "      <th>Name</th>\n",
       "      <th>Sex</th>\n",
       "      <th>Age</th>\n",
       "      <th>SibSp</th>\n",
       "      <th>Parch</th>\n",
       "      <th>Ticket</th>\n",
       "      <th>Fare</th>\n",
       "      <th>Cabin</th>\n",
       "      <th>Embarked</th>\n",
       "    </tr>\n",
       "  </thead>\n",
       "  <tbody>\n",
       "    <tr>\n",
       "      <th>0</th>\n",
       "      <td>1</td>\n",
       "      <td>0</td>\n",
       "      <td>3</td>\n",
       "      <td>Braund, Mr. Owen Harris</td>\n",
       "      <td>male</td>\n",
       "      <td>22.0</td>\n",
       "      <td>1</td>\n",
       "      <td>0</td>\n",
       "      <td>A/5 21171</td>\n",
       "      <td>7.2500</td>\n",
       "      <td>NaN</td>\n",
       "      <td>S</td>\n",
       "    </tr>\n",
       "    <tr>\n",
       "      <th>1</th>\n",
       "      <td>2</td>\n",
       "      <td>1</td>\n",
       "      <td>1</td>\n",
       "      <td>Cumings, Mrs. John Bradley (Florence Briggs Th...</td>\n",
       "      <td>female</td>\n",
       "      <td>38.0</td>\n",
       "      <td>1</td>\n",
       "      <td>0</td>\n",
       "      <td>PC 17599</td>\n",
       "      <td>71.2833</td>\n",
       "      <td>C85</td>\n",
       "      <td>C</td>\n",
       "    </tr>\n",
       "    <tr>\n",
       "      <th>2</th>\n",
       "      <td>3</td>\n",
       "      <td>1</td>\n",
       "      <td>3</td>\n",
       "      <td>Heikkinen, Miss. Laina</td>\n",
       "      <td>female</td>\n",
       "      <td>26.0</td>\n",
       "      <td>0</td>\n",
       "      <td>0</td>\n",
       "      <td>STON/O2. 3101282</td>\n",
       "      <td>7.9250</td>\n",
       "      <td>NaN</td>\n",
       "      <td>S</td>\n",
       "    </tr>\n",
       "    <tr>\n",
       "      <th>3</th>\n",
       "      <td>4</td>\n",
       "      <td>1</td>\n",
       "      <td>1</td>\n",
       "      <td>Futrelle, Mrs. Jacques Heath (Lily May Peel)</td>\n",
       "      <td>female</td>\n",
       "      <td>35.0</td>\n",
       "      <td>1</td>\n",
       "      <td>0</td>\n",
       "      <td>113803</td>\n",
       "      <td>53.1000</td>\n",
       "      <td>C123</td>\n",
       "      <td>S</td>\n",
       "    </tr>\n",
       "    <tr>\n",
       "      <th>4</th>\n",
       "      <td>5</td>\n",
       "      <td>0</td>\n",
       "      <td>3</td>\n",
       "      <td>Allen, Mr. William Henry</td>\n",
       "      <td>male</td>\n",
       "      <td>35.0</td>\n",
       "      <td>0</td>\n",
       "      <td>0</td>\n",
       "      <td>373450</td>\n",
       "      <td>8.0500</td>\n",
       "      <td>NaN</td>\n",
       "      <td>S</td>\n",
       "    </tr>\n",
       "  </tbody>\n",
       "</table>\n",
       "</div>"
      ],
      "text/plain": [
       "   PassengerId  Survived  Pclass  \\\n",
       "0            1         0       3   \n",
       "1            2         1       1   \n",
       "2            3         1       3   \n",
       "3            4         1       1   \n",
       "4            5         0       3   \n",
       "\n",
       "                                                Name     Sex   Age  SibSp  \\\n",
       "0                            Braund, Mr. Owen Harris    male  22.0      1   \n",
       "1  Cumings, Mrs. John Bradley (Florence Briggs Th...  female  38.0      1   \n",
       "2                             Heikkinen, Miss. Laina  female  26.0      0   \n",
       "3       Futrelle, Mrs. Jacques Heath (Lily May Peel)  female  35.0      1   \n",
       "4                           Allen, Mr. William Henry    male  35.0      0   \n",
       "\n",
       "   Parch            Ticket     Fare Cabin Embarked  \n",
       "0      0         A/5 21171   7.2500   NaN        S  \n",
       "1      0          PC 17599  71.2833   C85        C  \n",
       "2      0  STON/O2. 3101282   7.9250   NaN        S  \n",
       "3      0            113803  53.1000  C123        S  \n",
       "4      0            373450   8.0500   NaN        S  "
      ]
     },
     "execution_count": 2,
     "metadata": {},
     "output_type": "execute_result"
    }
   ],
   "source": [
    "train_df = pd.read_csv('train.csv')\n",
    "train_df.head()"
   ]
  },
  {
   "cell_type": "code",
   "execution_count": 3,
   "id": "6b6cdb61",
   "metadata": {
    "execution": {
     "iopub.execute_input": "2023-06-07T16:53:32.140604Z",
     "iopub.status.busy": "2023-06-07T16:53:32.140235Z",
     "iopub.status.idle": "2023-06-07T16:53:32.161963Z",
     "shell.execute_reply": "2023-06-07T16:53:32.161152Z"
    },
    "papermill": {
     "duration": 0.044188,
     "end_time": "2023-06-07T16:53:32.163943",
     "exception": false,
     "start_time": "2023-06-07T16:53:32.119755",
     "status": "completed"
    },
    "tags": []
   },
   "outputs": [
    {
     "data": {
      "text/html": [
       "<div>\n",
       "<style scoped>\n",
       "    .dataframe tbody tr th:only-of-type {\n",
       "        vertical-align: middle;\n",
       "    }\n",
       "\n",
       "    .dataframe tbody tr th {\n",
       "        vertical-align: top;\n",
       "    }\n",
       "\n",
       "    .dataframe thead th {\n",
       "        text-align: right;\n",
       "    }\n",
       "</style>\n",
       "<table border=\"1\" class=\"dataframe\">\n",
       "  <thead>\n",
       "    <tr style=\"text-align: right;\">\n",
       "      <th></th>\n",
       "      <th>PassengerId</th>\n",
       "      <th>Pclass</th>\n",
       "      <th>Name</th>\n",
       "      <th>Sex</th>\n",
       "      <th>Age</th>\n",
       "      <th>SibSp</th>\n",
       "      <th>Parch</th>\n",
       "      <th>Ticket</th>\n",
       "      <th>Fare</th>\n",
       "      <th>Cabin</th>\n",
       "      <th>Embarked</th>\n",
       "    </tr>\n",
       "  </thead>\n",
       "  <tbody>\n",
       "    <tr>\n",
       "      <th>0</th>\n",
       "      <td>892</td>\n",
       "      <td>3</td>\n",
       "      <td>Kelly, Mr. James</td>\n",
       "      <td>male</td>\n",
       "      <td>34.5</td>\n",
       "      <td>0</td>\n",
       "      <td>0</td>\n",
       "      <td>330911</td>\n",
       "      <td>7.8292</td>\n",
       "      <td>NaN</td>\n",
       "      <td>Q</td>\n",
       "    </tr>\n",
       "    <tr>\n",
       "      <th>1</th>\n",
       "      <td>893</td>\n",
       "      <td>3</td>\n",
       "      <td>Wilkes, Mrs. James (Ellen Needs)</td>\n",
       "      <td>female</td>\n",
       "      <td>47.0</td>\n",
       "      <td>1</td>\n",
       "      <td>0</td>\n",
       "      <td>363272</td>\n",
       "      <td>7.0000</td>\n",
       "      <td>NaN</td>\n",
       "      <td>S</td>\n",
       "    </tr>\n",
       "    <tr>\n",
       "      <th>2</th>\n",
       "      <td>894</td>\n",
       "      <td>2</td>\n",
       "      <td>Myles, Mr. Thomas Francis</td>\n",
       "      <td>male</td>\n",
       "      <td>62.0</td>\n",
       "      <td>0</td>\n",
       "      <td>0</td>\n",
       "      <td>240276</td>\n",
       "      <td>9.6875</td>\n",
       "      <td>NaN</td>\n",
       "      <td>Q</td>\n",
       "    </tr>\n",
       "    <tr>\n",
       "      <th>3</th>\n",
       "      <td>895</td>\n",
       "      <td>3</td>\n",
       "      <td>Wirz, Mr. Albert</td>\n",
       "      <td>male</td>\n",
       "      <td>27.0</td>\n",
       "      <td>0</td>\n",
       "      <td>0</td>\n",
       "      <td>315154</td>\n",
       "      <td>8.6625</td>\n",
       "      <td>NaN</td>\n",
       "      <td>S</td>\n",
       "    </tr>\n",
       "    <tr>\n",
       "      <th>4</th>\n",
       "      <td>896</td>\n",
       "      <td>3</td>\n",
       "      <td>Hirvonen, Mrs. Alexander (Helga E Lindqvist)</td>\n",
       "      <td>female</td>\n",
       "      <td>22.0</td>\n",
       "      <td>1</td>\n",
       "      <td>1</td>\n",
       "      <td>3101298</td>\n",
       "      <td>12.2875</td>\n",
       "      <td>NaN</td>\n",
       "      <td>S</td>\n",
       "    </tr>\n",
       "  </tbody>\n",
       "</table>\n",
       "</div>"
      ],
      "text/plain": [
       "   PassengerId  Pclass                                          Name     Sex  \\\n",
       "0          892       3                              Kelly, Mr. James    male   \n",
       "1          893       3              Wilkes, Mrs. James (Ellen Needs)  female   \n",
       "2          894       2                     Myles, Mr. Thomas Francis    male   \n",
       "3          895       3                              Wirz, Mr. Albert    male   \n",
       "4          896       3  Hirvonen, Mrs. Alexander (Helga E Lindqvist)  female   \n",
       "\n",
       "    Age  SibSp  Parch   Ticket     Fare Cabin Embarked  \n",
       "0  34.5      0      0   330911   7.8292   NaN        Q  \n",
       "1  47.0      1      0   363272   7.0000   NaN        S  \n",
       "2  62.0      0      0   240276   9.6875   NaN        Q  \n",
       "3  27.0      0      0   315154   8.6625   NaN        S  \n",
       "4  22.0      1      1  3101298  12.2875   NaN        S  "
      ]
     },
     "execution_count": 3,
     "metadata": {},
     "output_type": "execute_result"
    }
   ],
   "source": [
    "test_df = pd.read_csv('test.csv')\n",
    "test_df.head()"
   ]
  },
  {
   "cell_type": "markdown",
   "id": "4d73035b",
   "metadata": {
    "papermill": {
     "duration": 0.01942,
     "end_time": "2023-06-07T16:53:32.204461",
     "exception": false,
     "start_time": "2023-06-07T16:53:32.185041",
     "status": "completed"
    },
    "tags": []
   },
   "source": [
    "# **Exploratory Data Analysis (EDA)**"
   ]
  },
  {
   "cell_type": "code",
   "execution_count": 4,
   "id": "c0e2daac",
   "metadata": {
    "execution": {
     "iopub.execute_input": "2023-06-07T16:53:32.245702Z",
     "iopub.status.busy": "2023-06-07T16:53:32.245201Z",
     "iopub.status.idle": "2023-06-07T16:53:32.273563Z",
     "shell.execute_reply": "2023-06-07T16:53:32.271889Z"
    },
    "papermill": {
     "duration": 0.051708,
     "end_time": "2023-06-07T16:53:32.275618",
     "exception": false,
     "start_time": "2023-06-07T16:53:32.223910",
     "status": "completed"
    },
    "tags": []
   },
   "outputs": [
    {
     "name": "stdout",
     "output_type": "stream",
     "text": [
      "<class 'pandas.core.frame.DataFrame'>\n",
      "RangeIndex: 891 entries, 0 to 890\n",
      "Data columns (total 12 columns):\n",
      " #   Column       Non-Null Count  Dtype  \n",
      "---  ------       --------------  -----  \n",
      " 0   PassengerId  891 non-null    int64  \n",
      " 1   Survived     891 non-null    int64  \n",
      " 2   Pclass       891 non-null    int64  \n",
      " 3   Name         891 non-null    object \n",
      " 4   Sex          891 non-null    object \n",
      " 5   Age          714 non-null    float64\n",
      " 6   SibSp        891 non-null    int64  \n",
      " 7   Parch        891 non-null    int64  \n",
      " 8   Ticket       891 non-null    object \n",
      " 9   Fare         891 non-null    float64\n",
      " 10  Cabin        204 non-null    object \n",
      " 11  Embarked     889 non-null    object \n",
      "dtypes: float64(2), int64(5), object(5)\n",
      "memory usage: 83.7+ KB\n"
     ]
    }
   ],
   "source": [
    "train_df.info()"
   ]
  },
  {
   "cell_type": "code",
   "execution_count": 5,
   "id": "ea46be8f",
   "metadata": {
    "execution": {
     "iopub.execute_input": "2023-06-07T16:53:32.317278Z",
     "iopub.status.busy": "2023-06-07T16:53:32.316619Z",
     "iopub.status.idle": "2023-06-07T16:53:32.362387Z",
     "shell.execute_reply": "2023-06-07T16:53:32.361214Z"
    },
    "papermill": {
     "duration": 0.069399,
     "end_time": "2023-06-07T16:53:32.364793",
     "exception": false,
     "start_time": "2023-06-07T16:53:32.295394",
     "status": "completed"
    },
    "tags": []
   },
   "outputs": [
    {
     "data": {
      "text/html": [
       "<div>\n",
       "<style scoped>\n",
       "    .dataframe tbody tr th:only-of-type {\n",
       "        vertical-align: middle;\n",
       "    }\n",
       "\n",
       "    .dataframe tbody tr th {\n",
       "        vertical-align: top;\n",
       "    }\n",
       "\n",
       "    .dataframe thead th {\n",
       "        text-align: right;\n",
       "    }\n",
       "</style>\n",
       "<table border=\"1\" class=\"dataframe\">\n",
       "  <thead>\n",
       "    <tr style=\"text-align: right;\">\n",
       "      <th></th>\n",
       "      <th>PassengerId</th>\n",
       "      <th>Survived</th>\n",
       "      <th>Pclass</th>\n",
       "      <th>Age</th>\n",
       "      <th>SibSp</th>\n",
       "      <th>Parch</th>\n",
       "      <th>Fare</th>\n",
       "    </tr>\n",
       "  </thead>\n",
       "  <tbody>\n",
       "    <tr>\n",
       "      <th>count</th>\n",
       "      <td>891.000000</td>\n",
       "      <td>891.000000</td>\n",
       "      <td>891.000000</td>\n",
       "      <td>714.000000</td>\n",
       "      <td>891.000000</td>\n",
       "      <td>891.000000</td>\n",
       "      <td>891.000000</td>\n",
       "    </tr>\n",
       "    <tr>\n",
       "      <th>mean</th>\n",
       "      <td>446.000000</td>\n",
       "      <td>0.383838</td>\n",
       "      <td>2.308642</td>\n",
       "      <td>29.699118</td>\n",
       "      <td>0.523008</td>\n",
       "      <td>0.381594</td>\n",
       "      <td>32.204208</td>\n",
       "    </tr>\n",
       "    <tr>\n",
       "      <th>std</th>\n",
       "      <td>257.353842</td>\n",
       "      <td>0.486592</td>\n",
       "      <td>0.836071</td>\n",
       "      <td>14.526497</td>\n",
       "      <td>1.102743</td>\n",
       "      <td>0.806057</td>\n",
       "      <td>49.693429</td>\n",
       "    </tr>\n",
       "    <tr>\n",
       "      <th>min</th>\n",
       "      <td>1.000000</td>\n",
       "      <td>0.000000</td>\n",
       "      <td>1.000000</td>\n",
       "      <td>0.420000</td>\n",
       "      <td>0.000000</td>\n",
       "      <td>0.000000</td>\n",
       "      <td>0.000000</td>\n",
       "    </tr>\n",
       "    <tr>\n",
       "      <th>25%</th>\n",
       "      <td>223.500000</td>\n",
       "      <td>0.000000</td>\n",
       "      <td>2.000000</td>\n",
       "      <td>20.125000</td>\n",
       "      <td>0.000000</td>\n",
       "      <td>0.000000</td>\n",
       "      <td>7.910400</td>\n",
       "    </tr>\n",
       "    <tr>\n",
       "      <th>50%</th>\n",
       "      <td>446.000000</td>\n",
       "      <td>0.000000</td>\n",
       "      <td>3.000000</td>\n",
       "      <td>28.000000</td>\n",
       "      <td>0.000000</td>\n",
       "      <td>0.000000</td>\n",
       "      <td>14.454200</td>\n",
       "    </tr>\n",
       "    <tr>\n",
       "      <th>75%</th>\n",
       "      <td>668.500000</td>\n",
       "      <td>1.000000</td>\n",
       "      <td>3.000000</td>\n",
       "      <td>38.000000</td>\n",
       "      <td>1.000000</td>\n",
       "      <td>0.000000</td>\n",
       "      <td>31.000000</td>\n",
       "    </tr>\n",
       "    <tr>\n",
       "      <th>max</th>\n",
       "      <td>891.000000</td>\n",
       "      <td>1.000000</td>\n",
       "      <td>3.000000</td>\n",
       "      <td>80.000000</td>\n",
       "      <td>8.000000</td>\n",
       "      <td>6.000000</td>\n",
       "      <td>512.329200</td>\n",
       "    </tr>\n",
       "  </tbody>\n",
       "</table>\n",
       "</div>"
      ],
      "text/plain": [
       "       PassengerId    Survived      Pclass         Age       SibSp  \\\n",
       "count   891.000000  891.000000  891.000000  714.000000  891.000000   \n",
       "mean    446.000000    0.383838    2.308642   29.699118    0.523008   \n",
       "std     257.353842    0.486592    0.836071   14.526497    1.102743   \n",
       "min       1.000000    0.000000    1.000000    0.420000    0.000000   \n",
       "25%     223.500000    0.000000    2.000000   20.125000    0.000000   \n",
       "50%     446.000000    0.000000    3.000000   28.000000    0.000000   \n",
       "75%     668.500000    1.000000    3.000000   38.000000    1.000000   \n",
       "max     891.000000    1.000000    3.000000   80.000000    8.000000   \n",
       "\n",
       "            Parch        Fare  \n",
       "count  891.000000  891.000000  \n",
       "mean     0.381594   32.204208  \n",
       "std      0.806057   49.693429  \n",
       "min      0.000000    0.000000  \n",
       "25%      0.000000    7.910400  \n",
       "50%      0.000000   14.454200  \n",
       "75%      0.000000   31.000000  \n",
       "max      6.000000  512.329200  "
      ]
     },
     "execution_count": 5,
     "metadata": {},
     "output_type": "execute_result"
    }
   ],
   "source": [
    "train_df.describe()"
   ]
  },
  {
   "cell_type": "code",
   "execution_count": 6,
   "id": "028338f7",
   "metadata": {
    "execution": {
     "iopub.execute_input": "2023-06-07T16:53:32.409796Z",
     "iopub.status.busy": "2023-06-07T16:53:32.409283Z",
     "iopub.status.idle": "2023-06-07T16:53:32.416091Z",
     "shell.execute_reply": "2023-06-07T16:53:32.414819Z"
    },
    "papermill": {
     "duration": 0.03031,
     "end_time": "2023-06-07T16:53:32.418560",
     "exception": false,
     "start_time": "2023-06-07T16:53:32.388250",
     "status": "completed"
    },
    "tags": []
   },
   "outputs": [
    {
     "data": {
      "text/plain": [
       "(891, 12)"
      ]
     },
     "execution_count": 6,
     "metadata": {},
     "output_type": "execute_result"
    }
   ],
   "source": [
    "train_df.shape"
   ]
  },
  {
   "cell_type": "code",
   "execution_count": 7,
   "id": "240f8716",
   "metadata": {
    "execution": {
     "iopub.execute_input": "2023-06-07T16:53:32.460650Z",
     "iopub.status.busy": "2023-06-07T16:53:32.459900Z",
     "iopub.status.idle": "2023-06-07T16:53:32.472604Z",
     "shell.execute_reply": "2023-06-07T16:53:32.471423Z"
    },
    "papermill": {
     "duration": 0.0369,
     "end_time": "2023-06-07T16:53:32.475413",
     "exception": false,
     "start_time": "2023-06-07T16:53:32.438513",
     "status": "completed"
    },
    "tags": []
   },
   "outputs": [
    {
     "name": "stdout",
     "output_type": "stream",
     "text": [
      "<class 'pandas.core.frame.DataFrame'>\n",
      "RangeIndex: 418 entries, 0 to 417\n",
      "Data columns (total 11 columns):\n",
      " #   Column       Non-Null Count  Dtype  \n",
      "---  ------       --------------  -----  \n",
      " 0   PassengerId  418 non-null    int64  \n",
      " 1   Pclass       418 non-null    int64  \n",
      " 2   Name         418 non-null    object \n",
      " 3   Sex          418 non-null    object \n",
      " 4   Age          332 non-null    float64\n",
      " 5   SibSp        418 non-null    int64  \n",
      " 6   Parch        418 non-null    int64  \n",
      " 7   Ticket       418 non-null    object \n",
      " 8   Fare         417 non-null    float64\n",
      " 9   Cabin        91 non-null     object \n",
      " 10  Embarked     418 non-null    object \n",
      "dtypes: float64(2), int64(4), object(5)\n",
      "memory usage: 36.0+ KB\n"
     ]
    }
   ],
   "source": [
    "test_df.info()"
   ]
  },
  {
   "cell_type": "code",
   "execution_count": 8,
   "id": "cdbfb781",
   "metadata": {
    "execution": {
     "iopub.execute_input": "2023-06-07T16:53:32.519271Z",
     "iopub.status.busy": "2023-06-07T16:53:32.518622Z",
     "iopub.status.idle": "2023-06-07T16:53:32.545880Z",
     "shell.execute_reply": "2023-06-07T16:53:32.544889Z"
    },
    "papermill": {
     "duration": 0.052216,
     "end_time": "2023-06-07T16:53:32.548145",
     "exception": false,
     "start_time": "2023-06-07T16:53:32.495929",
     "status": "completed"
    },
    "tags": []
   },
   "outputs": [
    {
     "data": {
      "text/html": [
       "<div>\n",
       "<style scoped>\n",
       "    .dataframe tbody tr th:only-of-type {\n",
       "        vertical-align: middle;\n",
       "    }\n",
       "\n",
       "    .dataframe tbody tr th {\n",
       "        vertical-align: top;\n",
       "    }\n",
       "\n",
       "    .dataframe thead th {\n",
       "        text-align: right;\n",
       "    }\n",
       "</style>\n",
       "<table border=\"1\" class=\"dataframe\">\n",
       "  <thead>\n",
       "    <tr style=\"text-align: right;\">\n",
       "      <th></th>\n",
       "      <th>PassengerId</th>\n",
       "      <th>Pclass</th>\n",
       "      <th>Age</th>\n",
       "      <th>SibSp</th>\n",
       "      <th>Parch</th>\n",
       "      <th>Fare</th>\n",
       "    </tr>\n",
       "  </thead>\n",
       "  <tbody>\n",
       "    <tr>\n",
       "      <th>count</th>\n",
       "      <td>418.000000</td>\n",
       "      <td>418.000000</td>\n",
       "      <td>332.000000</td>\n",
       "      <td>418.000000</td>\n",
       "      <td>418.000000</td>\n",
       "      <td>417.000000</td>\n",
       "    </tr>\n",
       "    <tr>\n",
       "      <th>mean</th>\n",
       "      <td>1100.500000</td>\n",
       "      <td>2.265550</td>\n",
       "      <td>30.272590</td>\n",
       "      <td>0.447368</td>\n",
       "      <td>0.392344</td>\n",
       "      <td>35.627188</td>\n",
       "    </tr>\n",
       "    <tr>\n",
       "      <th>std</th>\n",
       "      <td>120.810458</td>\n",
       "      <td>0.841838</td>\n",
       "      <td>14.181209</td>\n",
       "      <td>0.896760</td>\n",
       "      <td>0.981429</td>\n",
       "      <td>55.907576</td>\n",
       "    </tr>\n",
       "    <tr>\n",
       "      <th>min</th>\n",
       "      <td>892.000000</td>\n",
       "      <td>1.000000</td>\n",
       "      <td>0.170000</td>\n",
       "      <td>0.000000</td>\n",
       "      <td>0.000000</td>\n",
       "      <td>0.000000</td>\n",
       "    </tr>\n",
       "    <tr>\n",
       "      <th>25%</th>\n",
       "      <td>996.250000</td>\n",
       "      <td>1.000000</td>\n",
       "      <td>21.000000</td>\n",
       "      <td>0.000000</td>\n",
       "      <td>0.000000</td>\n",
       "      <td>7.895800</td>\n",
       "    </tr>\n",
       "    <tr>\n",
       "      <th>50%</th>\n",
       "      <td>1100.500000</td>\n",
       "      <td>3.000000</td>\n",
       "      <td>27.000000</td>\n",
       "      <td>0.000000</td>\n",
       "      <td>0.000000</td>\n",
       "      <td>14.454200</td>\n",
       "    </tr>\n",
       "    <tr>\n",
       "      <th>75%</th>\n",
       "      <td>1204.750000</td>\n",
       "      <td>3.000000</td>\n",
       "      <td>39.000000</td>\n",
       "      <td>1.000000</td>\n",
       "      <td>0.000000</td>\n",
       "      <td>31.500000</td>\n",
       "    </tr>\n",
       "    <tr>\n",
       "      <th>max</th>\n",
       "      <td>1309.000000</td>\n",
       "      <td>3.000000</td>\n",
       "      <td>76.000000</td>\n",
       "      <td>8.000000</td>\n",
       "      <td>9.000000</td>\n",
       "      <td>512.329200</td>\n",
       "    </tr>\n",
       "  </tbody>\n",
       "</table>\n",
       "</div>"
      ],
      "text/plain": [
       "       PassengerId      Pclass         Age       SibSp       Parch        Fare\n",
       "count   418.000000  418.000000  332.000000  418.000000  418.000000  417.000000\n",
       "mean   1100.500000    2.265550   30.272590    0.447368    0.392344   35.627188\n",
       "std     120.810458    0.841838   14.181209    0.896760    0.981429   55.907576\n",
       "min     892.000000    1.000000    0.170000    0.000000    0.000000    0.000000\n",
       "25%     996.250000    1.000000   21.000000    0.000000    0.000000    7.895800\n",
       "50%    1100.500000    3.000000   27.000000    0.000000    0.000000   14.454200\n",
       "75%    1204.750000    3.000000   39.000000    1.000000    0.000000   31.500000\n",
       "max    1309.000000    3.000000   76.000000    8.000000    9.000000  512.329200"
      ]
     },
     "execution_count": 8,
     "metadata": {},
     "output_type": "execute_result"
    }
   ],
   "source": [
    "test_df.describe()"
   ]
  },
  {
   "cell_type": "code",
   "execution_count": 9,
   "id": "a0957fe2",
   "metadata": {
    "execution": {
     "iopub.execute_input": "2023-06-07T16:53:32.591985Z",
     "iopub.status.busy": "2023-06-07T16:53:32.591631Z",
     "iopub.status.idle": "2023-06-07T16:53:32.598663Z",
     "shell.execute_reply": "2023-06-07T16:53:32.597548Z"
    },
    "papermill": {
     "duration": 0.030922,
     "end_time": "2023-06-07T16:53:32.600850",
     "exception": false,
     "start_time": "2023-06-07T16:53:32.569928",
     "status": "completed"
    },
    "tags": []
   },
   "outputs": [
    {
     "data": {
      "text/plain": [
       "(418, 11)"
      ]
     },
     "execution_count": 9,
     "metadata": {},
     "output_type": "execute_result"
    }
   ],
   "source": [
    "test_df.shape"
   ]
  },
  {
   "cell_type": "code",
   "execution_count": 10,
   "id": "f3acfd63",
   "metadata": {
    "execution": {
     "iopub.execute_input": "2023-06-07T16:53:32.644714Z",
     "iopub.status.busy": "2023-06-07T16:53:32.644168Z",
     "iopub.status.idle": "2023-06-07T16:53:32.654852Z",
     "shell.execute_reply": "2023-06-07T16:53:32.653793Z"
    },
    "papermill": {
     "duration": 0.035056,
     "end_time": "2023-06-07T16:53:32.657157",
     "exception": false,
     "start_time": "2023-06-07T16:53:32.622101",
     "status": "completed"
    },
    "tags": []
   },
   "outputs": [
    {
     "data": {
      "text/plain": [
       "PassengerId      0\n",
       "Survived         0\n",
       "Pclass           0\n",
       "Name             0\n",
       "Sex              0\n",
       "Age            177\n",
       "SibSp            0\n",
       "Parch            0\n",
       "Ticket           0\n",
       "Fare             0\n",
       "Cabin          687\n",
       "Embarked         2\n",
       "dtype: int64"
      ]
     },
     "execution_count": 10,
     "metadata": {},
     "output_type": "execute_result"
    }
   ],
   "source": [
    "train_df.isnull().sum()"
   ]
  },
  {
   "cell_type": "code",
   "execution_count": 11,
   "id": "54080ed8",
   "metadata": {
    "execution": {
     "iopub.execute_input": "2023-06-07T16:53:32.700598Z",
     "iopub.status.busy": "2023-06-07T16:53:32.700210Z",
     "iopub.status.idle": "2023-06-07T16:53:32.707919Z",
     "shell.execute_reply": "2023-06-07T16:53:32.707255Z"
    },
    "papermill": {
     "duration": 0.031417,
     "end_time": "2023-06-07T16:53:32.709855",
     "exception": false,
     "start_time": "2023-06-07T16:53:32.678438",
     "status": "completed"
    },
    "tags": []
   },
   "outputs": [
    {
     "data": {
      "text/plain": [
       "PassengerId      0\n",
       "Pclass           0\n",
       "Name             0\n",
       "Sex              0\n",
       "Age             86\n",
       "SibSp            0\n",
       "Parch            0\n",
       "Ticket           0\n",
       "Fare             1\n",
       "Cabin          327\n",
       "Embarked         0\n",
       "dtype: int64"
      ]
     },
     "execution_count": 11,
     "metadata": {},
     "output_type": "execute_result"
    }
   ],
   "source": [
    "test_df.isnull().sum()"
   ]
  },
  {
   "cell_type": "code",
   "execution_count": 12,
   "id": "2d3c7fe6",
   "metadata": {
    "execution": {
     "iopub.execute_input": "2023-06-07T16:53:32.752627Z",
     "iopub.status.busy": "2023-06-07T16:53:32.752220Z",
     "iopub.status.idle": "2023-06-07T16:53:32.762155Z",
     "shell.execute_reply": "2023-06-07T16:53:32.761175Z"
    },
    "papermill": {
     "duration": 0.033975,
     "end_time": "2023-06-07T16:53:32.764242",
     "exception": false,
     "start_time": "2023-06-07T16:53:32.730267",
     "status": "completed"
    },
    "tags": []
   },
   "outputs": [
    {
     "data": {
      "text/plain": [
       "count                         891\n",
       "unique                        891\n",
       "top       Braund, Mr. Owen Harris\n",
       "freq                            1\n",
       "Name: Name, dtype: object"
      ]
     },
     "execution_count": 12,
     "metadata": {},
     "output_type": "execute_result"
    }
   ],
   "source": [
    "train_df['Name'].describe()"
   ]
  },
  {
   "cell_type": "code",
   "execution_count": 13,
   "id": "9b01129f",
   "metadata": {
    "execution": {
     "iopub.execute_input": "2023-06-07T16:53:32.808920Z",
     "iopub.status.busy": "2023-06-07T16:53:32.808318Z",
     "iopub.status.idle": "2023-06-07T16:53:32.816590Z",
     "shell.execute_reply": "2023-06-07T16:53:32.815469Z"
    },
    "papermill": {
     "duration": 0.033878,
     "end_time": "2023-06-07T16:53:32.818939",
     "exception": false,
     "start_time": "2023-06-07T16:53:32.785061",
     "status": "completed"
    },
    "tags": []
   },
   "outputs": [
    {
     "data": {
      "text/plain": [
       "count      891\n",
       "unique       2\n",
       "top       male\n",
       "freq       577\n",
       "Name: Sex, dtype: object"
      ]
     },
     "execution_count": 13,
     "metadata": {},
     "output_type": "execute_result"
    }
   ],
   "source": [
    "train_df['Sex'].describe()"
   ]
  },
  {
   "cell_type": "code",
   "execution_count": 14,
   "id": "81d1b8c0",
   "metadata": {
    "execution": {
     "iopub.execute_input": "2023-06-07T16:53:32.862781Z",
     "iopub.status.busy": "2023-06-07T16:53:32.862186Z",
     "iopub.status.idle": "2023-06-07T16:53:32.870298Z",
     "shell.execute_reply": "2023-06-07T16:53:32.869402Z"
    },
    "papermill": {
     "duration": 0.032468,
     "end_time": "2023-06-07T16:53:32.872323",
     "exception": false,
     "start_time": "2023-06-07T16:53:32.839855",
     "status": "completed"
    },
    "tags": []
   },
   "outputs": [
    {
     "data": {
      "text/plain": [
       "count        891\n",
       "unique       681\n",
       "top       347082\n",
       "freq           7\n",
       "Name: Ticket, dtype: object"
      ]
     },
     "execution_count": 14,
     "metadata": {},
     "output_type": "execute_result"
    }
   ],
   "source": [
    "train_df['Ticket'].describe()"
   ]
  },
  {
   "cell_type": "code",
   "execution_count": 15,
   "id": "baa496fb",
   "metadata": {
    "execution": {
     "iopub.execute_input": "2023-06-07T16:53:32.916078Z",
     "iopub.status.busy": "2023-06-07T16:53:32.915513Z",
     "iopub.status.idle": "2023-06-07T16:53:32.923348Z",
     "shell.execute_reply": "2023-06-07T16:53:32.922314Z"
    },
    "papermill": {
     "duration": 0.032384,
     "end_time": "2023-06-07T16:53:32.925516",
     "exception": false,
     "start_time": "2023-06-07T16:53:32.893132",
     "status": "completed"
    },
    "tags": []
   },
   "outputs": [
    {
     "data": {
      "text/plain": [
       "count         204\n",
       "unique        147\n",
       "top       B96 B98\n",
       "freq            4\n",
       "Name: Cabin, dtype: object"
      ]
     },
     "execution_count": 15,
     "metadata": {},
     "output_type": "execute_result"
    }
   ],
   "source": [
    "train_df['Cabin'].describe()"
   ]
  },
  {
   "cell_type": "code",
   "execution_count": 16,
   "id": "e2782d38",
   "metadata": {
    "execution": {
     "iopub.execute_input": "2023-06-07T16:53:32.969910Z",
     "iopub.status.busy": "2023-06-07T16:53:32.969289Z",
     "iopub.status.idle": "2023-06-07T16:53:32.977273Z",
     "shell.execute_reply": "2023-06-07T16:53:32.976392Z"
    },
    "papermill": {
     "duration": 0.032668,
     "end_time": "2023-06-07T16:53:32.979496",
     "exception": false,
     "start_time": "2023-06-07T16:53:32.946828",
     "status": "completed"
    },
    "tags": []
   },
   "outputs": [
    {
     "data": {
      "text/plain": [
       "count     889\n",
       "unique      3\n",
       "top         S\n",
       "freq      644\n",
       "Name: Embarked, dtype: object"
      ]
     },
     "execution_count": 16,
     "metadata": {},
     "output_type": "execute_result"
    }
   ],
   "source": [
    "train_df['Embarked'].describe()"
   ]
  },
  {
   "cell_type": "code",
   "execution_count": 17,
   "id": "50bdecc4",
   "metadata": {
    "execution": {
     "iopub.execute_input": "2023-06-07T16:53:33.025844Z",
     "iopub.status.busy": "2023-06-07T16:53:33.025125Z",
     "iopub.status.idle": "2023-06-07T16:53:33.034299Z",
     "shell.execute_reply": "2023-06-07T16:53:33.033459Z"
    },
    "papermill": {
     "duration": 0.034662,
     "end_time": "2023-06-07T16:53:33.036292",
     "exception": false,
     "start_time": "2023-06-07T16:53:33.001630",
     "status": "completed"
    },
    "tags": []
   },
   "outputs": [
    {
     "data": {
      "text/plain": [
       "count                  418\n",
       "unique                 418\n",
       "top       Kelly, Mr. James\n",
       "freq                     1\n",
       "Name: Name, dtype: object"
      ]
     },
     "execution_count": 17,
     "metadata": {},
     "output_type": "execute_result"
    }
   ],
   "source": [
    "test_df['Name'].describe()"
   ]
  },
  {
   "cell_type": "code",
   "execution_count": 18,
   "id": "931f4c2c",
   "metadata": {
    "execution": {
     "iopub.execute_input": "2023-06-07T16:53:33.081976Z",
     "iopub.status.busy": "2023-06-07T16:53:33.081332Z",
     "iopub.status.idle": "2023-06-07T16:53:33.089914Z",
     "shell.execute_reply": "2023-06-07T16:53:33.088839Z"
    },
    "papermill": {
     "duration": 0.034132,
     "end_time": "2023-06-07T16:53:33.092132",
     "exception": false,
     "start_time": "2023-06-07T16:53:33.058000",
     "status": "completed"
    },
    "tags": []
   },
   "outputs": [
    {
     "data": {
      "text/plain": [
       "count      418\n",
       "unique       2\n",
       "top       male\n",
       "freq       266\n",
       "Name: Sex, dtype: object"
      ]
     },
     "execution_count": 18,
     "metadata": {},
     "output_type": "execute_result"
    }
   ],
   "source": [
    "test_df['Sex'].describe()"
   ]
  },
  {
   "cell_type": "code",
   "execution_count": 19,
   "id": "143d1ce6",
   "metadata": {
    "execution": {
     "iopub.execute_input": "2023-06-07T16:53:33.137226Z",
     "iopub.status.busy": "2023-06-07T16:53:33.136830Z",
     "iopub.status.idle": "2023-06-07T16:53:33.146774Z",
     "shell.execute_reply": "2023-06-07T16:53:33.145690Z"
    },
    "papermill": {
     "duration": 0.034584,
     "end_time": "2023-06-07T16:53:33.148883",
     "exception": false,
     "start_time": "2023-06-07T16:53:33.114299",
     "status": "completed"
    },
    "tags": []
   },
   "outputs": [
    {
     "data": {
      "text/plain": [
       "count          418\n",
       "unique         363\n",
       "top       PC 17608\n",
       "freq             5\n",
       "Name: Ticket, dtype: object"
      ]
     },
     "execution_count": 19,
     "metadata": {},
     "output_type": "execute_result"
    }
   ],
   "source": [
    "test_df['Ticket'].describe()"
   ]
  },
  {
   "cell_type": "code",
   "execution_count": 20,
   "id": "a7b9845f",
   "metadata": {
    "execution": {
     "iopub.execute_input": "2023-06-07T16:53:33.194538Z",
     "iopub.status.busy": "2023-06-07T16:53:33.194074Z",
     "iopub.status.idle": "2023-06-07T16:53:33.203310Z",
     "shell.execute_reply": "2023-06-07T16:53:33.202245Z"
    },
    "papermill": {
     "duration": 0.035056,
     "end_time": "2023-06-07T16:53:33.205516",
     "exception": false,
     "start_time": "2023-06-07T16:53:33.170460",
     "status": "completed"
    },
    "tags": []
   },
   "outputs": [
    {
     "data": {
      "text/plain": [
       "count                  91\n",
       "unique                 76\n",
       "top       B57 B59 B63 B66\n",
       "freq                    3\n",
       "Name: Cabin, dtype: object"
      ]
     },
     "execution_count": 20,
     "metadata": {},
     "output_type": "execute_result"
    }
   ],
   "source": [
    "test_df['Cabin'].describe()"
   ]
  },
  {
   "cell_type": "code",
   "execution_count": 21,
   "id": "82e0c08d",
   "metadata": {
    "execution": {
     "iopub.execute_input": "2023-06-07T16:53:33.250797Z",
     "iopub.status.busy": "2023-06-07T16:53:33.250400Z",
     "iopub.status.idle": "2023-06-07T16:53:33.259475Z",
     "shell.execute_reply": "2023-06-07T16:53:33.258463Z"
    },
    "papermill": {
     "duration": 0.033993,
     "end_time": "2023-06-07T16:53:33.261501",
     "exception": false,
     "start_time": "2023-06-07T16:53:33.227508",
     "status": "completed"
    },
    "tags": []
   },
   "outputs": [
    {
     "data": {
      "text/plain": [
       "count     418\n",
       "unique      3\n",
       "top         S\n",
       "freq      270\n",
       "Name: Embarked, dtype: object"
      ]
     },
     "execution_count": 21,
     "metadata": {},
     "output_type": "execute_result"
    }
   ],
   "source": [
    "test_df['Embarked'].describe()"
   ]
  },
  {
   "cell_type": "markdown",
   "id": "0587b2cf",
   "metadata": {
    "papermill": {
     "duration": 0.021092,
     "end_time": "2023-06-07T16:53:33.304094",
     "exception": false,
     "start_time": "2023-06-07T16:53:33.283002",
     "status": "completed"
    },
    "tags": []
   },
   "source": [
    "Las columnas 'Cabin', 'Age', 'Embarked' tienen valores perdidos en el dataset train_df. Y las columnas 'Cabin', 'Age' y 'Fare' tienen valores perdidos en el dataset test_df. Además, las columnas 'Cabin' y 'Ticket' tienen datos duplicados. En ambos casos se podría explicar a que pertenecen a familias."
   ]
  },
  {
   "cell_type": "markdown",
   "id": "57162650",
   "metadata": {
    "papermill": {
     "duration": 0.021838,
     "end_time": "2023-06-07T16:53:33.347446",
     "exception": false,
     "start_time": "2023-06-07T16:53:33.325608",
     "status": "completed"
    },
    "tags": []
   },
   "source": [
    "# **Data Cleaning**"
   ]
  },
  {
   "cell_type": "markdown",
   "id": "2a816e25",
   "metadata": {
    "papermill": {
     "duration": 0.021214,
     "end_time": "2023-06-07T16:53:33.390970",
     "exception": false,
     "start_time": "2023-06-07T16:53:33.369756",
     "status": "completed"
    },
    "tags": []
   },
   "source": [
    "La variable 'Cabin' tiene muchos valores NaN (687 en train_df y 327 en test_df) así que vamos a eliminarla."
   ]
  },
  {
   "cell_type": "code",
   "execution_count": 22,
   "id": "4e6571bf",
   "metadata": {
    "execution": {
     "iopub.execute_input": "2023-06-07T16:53:33.436224Z",
     "iopub.status.busy": "2023-06-07T16:53:33.435636Z",
     "iopub.status.idle": "2023-06-07T16:53:33.443156Z",
     "shell.execute_reply": "2023-06-07T16:53:33.442298Z"
    },
    "papermill": {
     "duration": 0.032906,
     "end_time": "2023-06-07T16:53:33.445475",
     "exception": false,
     "start_time": "2023-06-07T16:53:33.412569",
     "status": "completed"
    },
    "tags": []
   },
   "outputs": [],
   "source": [
    "train_df=train_df.drop('Cabin', axis=1)"
   ]
  },
  {
   "cell_type": "code",
   "execution_count": 23,
   "id": "ce5b4827",
   "metadata": {
    "execution": {
     "iopub.execute_input": "2023-06-07T16:53:33.490691Z",
     "iopub.status.busy": "2023-06-07T16:53:33.490295Z",
     "iopub.status.idle": "2023-06-07T16:53:33.496336Z",
     "shell.execute_reply": "2023-06-07T16:53:33.495199Z"
    },
    "papermill": {
     "duration": 0.031243,
     "end_time": "2023-06-07T16:53:33.498790",
     "exception": false,
     "start_time": "2023-06-07T16:53:33.467547",
     "status": "completed"
    },
    "tags": []
   },
   "outputs": [],
   "source": [
    "test_df=test_df.drop('Cabin', axis=1)"
   ]
  },
  {
   "cell_type": "markdown",
   "id": "657490f9",
   "metadata": {
    "papermill": {
     "duration": 0.02685,
     "end_time": "2023-06-07T16:53:33.551144",
     "exception": false,
     "start_time": "2023-06-07T16:53:33.524294",
     "status": "completed"
    },
    "tags": []
   },
   "source": [
    "La variable 'Embarked' tiene solo 2 NaN, así que asignaremos el valor más frecuente.test_df['Title']=test_df.Name.str.extract('([A-Za-z]+)\\.')"
   ]
  },
  {
   "cell_type": "code",
   "execution_count": 24,
   "id": "afb06413",
   "metadata": {
    "execution": {
     "iopub.execute_input": "2023-06-07T16:53:33.604601Z",
     "iopub.status.busy": "2023-06-07T16:53:33.604188Z",
     "iopub.status.idle": "2023-06-07T16:53:33.613069Z",
     "shell.execute_reply": "2023-06-07T16:53:33.612074Z"
    },
    "papermill": {
     "duration": 0.03725,
     "end_time": "2023-06-07T16:53:33.615314",
     "exception": false,
     "start_time": "2023-06-07T16:53:33.578064",
     "status": "completed"
    },
    "tags": []
   },
   "outputs": [
    {
     "data": {
      "text/plain": [
       "S    644\n",
       "C    168\n",
       "Q     77\n",
       "Name: Embarked, dtype: int64"
      ]
     },
     "execution_count": 24,
     "metadata": {},
     "output_type": "execute_result"
    }
   ],
   "source": [
    "train_df['Embarked'].value_counts()"
   ]
  },
  {
   "cell_type": "code",
   "execution_count": 25,
   "id": "e9e2343c",
   "metadata": {
    "execution": {
     "iopub.execute_input": "2023-06-07T16:53:33.662556Z",
     "iopub.status.busy": "2023-06-07T16:53:33.662131Z",
     "iopub.status.idle": "2023-06-07T16:53:33.668442Z",
     "shell.execute_reply": "2023-06-07T16:53:33.667533Z"
    },
    "papermill": {
     "duration": 0.032908,
     "end_time": "2023-06-07T16:53:33.670668",
     "exception": false,
     "start_time": "2023-06-07T16:53:33.637760",
     "status": "completed"
    },
    "tags": []
   },
   "outputs": [],
   "source": [
    "train_df['Embarked']= train_df['Embarked'].fillna('S')"
   ]
  },
  {
   "cell_type": "code",
   "execution_count": 26,
   "id": "89a62f23",
   "metadata": {
    "execution": {
     "iopub.execute_input": "2023-06-07T16:53:33.716617Z",
     "iopub.status.busy": "2023-06-07T16:53:33.716181Z",
     "iopub.status.idle": "2023-06-07T16:53:33.725702Z",
     "shell.execute_reply": "2023-06-07T16:53:33.724748Z"
    },
    "papermill": {
     "duration": 0.035173,
     "end_time": "2023-06-07T16:53:33.727885",
     "exception": false,
     "start_time": "2023-06-07T16:53:33.692712",
     "status": "completed"
    },
    "tags": []
   },
   "outputs": [],
   "source": [
    "train_df['Title']=train_df.Name.str.extract('([A-Za-z]+)\\.')"
   ]
  },
  {
   "cell_type": "code",
   "execution_count": 27,
   "id": "6631b2a1",
   "metadata": {
    "execution": {
     "iopub.execute_input": "2023-06-07T16:53:33.775293Z",
     "iopub.status.busy": "2023-06-07T16:53:33.774239Z",
     "iopub.status.idle": "2023-06-07T16:53:33.782664Z",
     "shell.execute_reply": "2023-06-07T16:53:33.781835Z"
    },
    "papermill": {
     "duration": 0.034342,
     "end_time": "2023-06-07T16:53:33.784877",
     "exception": false,
     "start_time": "2023-06-07T16:53:33.750535",
     "status": "completed"
    },
    "tags": []
   },
   "outputs": [
    {
     "data": {
      "text/plain": [
       "Mr          517\n",
       "Miss        182\n",
       "Mrs         125\n",
       "Master       40\n",
       "Dr            7\n",
       "Rev           6\n",
       "Mlle          2\n",
       "Major         2\n",
       "Col           2\n",
       "Countess      1\n",
       "Capt          1\n",
       "Ms            1\n",
       "Sir           1\n",
       "Lady          1\n",
       "Mme           1\n",
       "Don           1\n",
       "Jonkheer      1\n",
       "Name: Title, dtype: int64"
      ]
     },
     "execution_count": 27,
     "metadata": {},
     "output_type": "execute_result"
    }
   ],
   "source": [
    "train_df['Title'].value_counts()"
   ]
  },
  {
   "cell_type": "code",
   "execution_count": 28,
   "id": "652da840",
   "metadata": {
    "execution": {
     "iopub.execute_input": "2023-06-07T16:53:33.831112Z",
     "iopub.status.busy": "2023-06-07T16:53:33.830332Z",
     "iopub.status.idle": "2023-06-07T16:53:33.835887Z",
     "shell.execute_reply": "2023-06-07T16:53:33.835040Z"
    },
    "papermill": {
     "duration": 0.03098,
     "end_time": "2023-06-07T16:53:33.838275",
     "exception": false,
     "start_time": "2023-06-07T16:53:33.807295",
     "status": "completed"
    },
    "tags": []
   },
   "outputs": [],
   "source": [
    "Title_dict ={'Master':'Master', 'Miss':'Miss', 'Mrs':'Mrs', 'Mr':'Mr', 'Mme':'Mrs', \\\n",
    "             'Mlle':'Miss', 'Dr': 'Dr', 'Rev': 'Rev', 'Major': 'Officer', 'Col': 'Officer', \\\n",
    "             'Countess':'Royalty', 'Capt': 'Officer', 'Ms':'Mrs', 'Sir': 'Royalty', 'Lady': 'Royalty', \\\n",
    "             'Don': 'Royalty', 'Jonkheer': 'Royalty', 'Dona':'Royalty'}"
   ]
  },
  {
   "cell_type": "code",
   "execution_count": 29,
   "id": "35f483a1",
   "metadata": {
    "execution": {
     "iopub.execute_input": "2023-06-07T16:53:33.886251Z",
     "iopub.status.busy": "2023-06-07T16:53:33.885299Z",
     "iopub.status.idle": "2023-06-07T16:53:33.892165Z",
     "shell.execute_reply": "2023-06-07T16:53:33.891146Z"
    },
    "papermill": {
     "duration": 0.033834,
     "end_time": "2023-06-07T16:53:33.894712",
     "exception": false,
     "start_time": "2023-06-07T16:53:33.860878",
     "status": "completed"
    },
    "tags": []
   },
   "outputs": [],
   "source": [
    "train_df['Title']=train_df['Title'].map(Title_dict)"
   ]
  },
  {
   "cell_type": "code",
   "execution_count": 30,
   "id": "184061ac",
   "metadata": {
    "execution": {
     "iopub.execute_input": "2023-06-07T16:53:33.942218Z",
     "iopub.status.busy": "2023-06-07T16:53:33.941810Z",
     "iopub.status.idle": "2023-06-07T16:53:33.948171Z",
     "shell.execute_reply": "2023-06-07T16:53:33.947048Z"
    },
    "papermill": {
     "duration": 0.033961,
     "end_time": "2023-06-07T16:53:33.950738",
     "exception": false,
     "start_time": "2023-06-07T16:53:33.916777",
     "status": "completed"
    },
    "tags": []
   },
   "outputs": [],
   "source": [
    "train_df['Title']=train_df['Title'].astype('category')"
   ]
  },
  {
   "cell_type": "code",
   "execution_count": 31,
   "id": "e6ccdc31",
   "metadata": {
    "execution": {
     "iopub.execute_input": "2023-06-07T16:53:33.997823Z",
     "iopub.status.busy": "2023-06-07T16:53:33.997448Z",
     "iopub.status.idle": "2023-06-07T16:53:34.008075Z",
     "shell.execute_reply": "2023-06-07T16:53:34.006918Z"
    },
    "papermill": {
     "duration": 0.036487,
     "end_time": "2023-06-07T16:53:34.010600",
     "exception": false,
     "start_time": "2023-06-07T16:53:33.974113",
     "status": "completed"
    },
    "tags": []
   },
   "outputs": [
    {
     "data": {
      "text/plain": [
       "count     891\n",
       "unique      8\n",
       "top        Mr\n",
       "freq      517\n",
       "Name: Title, dtype: object"
      ]
     },
     "execution_count": 31,
     "metadata": {},
     "output_type": "execute_result"
    }
   ],
   "source": [
    "train_df['Title'].describe()"
   ]
  },
  {
   "cell_type": "code",
   "execution_count": 32,
   "id": "8365153e",
   "metadata": {
    "execution": {
     "iopub.execute_input": "2023-06-07T16:53:34.056924Z",
     "iopub.status.busy": "2023-06-07T16:53:34.055782Z",
     "iopub.status.idle": "2023-06-07T16:53:34.072930Z",
     "shell.execute_reply": "2023-06-07T16:53:34.071716Z"
    },
    "papermill": {
     "duration": 0.04271,
     "end_time": "2023-06-07T16:53:34.075332",
     "exception": false,
     "start_time": "2023-06-07T16:53:34.032622",
     "status": "completed"
    },
    "tags": []
   },
   "outputs": [
    {
     "data": {
      "text/html": [
       "<div>\n",
       "<style scoped>\n",
       "    .dataframe tbody tr th:only-of-type {\n",
       "        vertical-align: middle;\n",
       "    }\n",
       "\n",
       "    .dataframe tbody tr th {\n",
       "        vertical-align: top;\n",
       "    }\n",
       "\n",
       "    .dataframe thead th {\n",
       "        text-align: right;\n",
       "    }\n",
       "</style>\n",
       "<table border=\"1\" class=\"dataframe\">\n",
       "  <thead>\n",
       "    <tr style=\"text-align: right;\">\n",
       "      <th></th>\n",
       "      <th>mean</th>\n",
       "      <th>count</th>\n",
       "    </tr>\n",
       "    <tr>\n",
       "      <th>Title</th>\n",
       "      <th></th>\n",
       "      <th></th>\n",
       "    </tr>\n",
       "  </thead>\n",
       "  <tbody>\n",
       "    <tr>\n",
       "      <th>Master</th>\n",
       "      <td>4.6</td>\n",
       "      <td>36</td>\n",
       "    </tr>\n",
       "    <tr>\n",
       "      <th>Miss</th>\n",
       "      <td>21.8</td>\n",
       "      <td>148</td>\n",
       "    </tr>\n",
       "    <tr>\n",
       "      <th>Mr</th>\n",
       "      <td>32.4</td>\n",
       "      <td>398</td>\n",
       "    </tr>\n",
       "    <tr>\n",
       "      <th>Mrs</th>\n",
       "      <td>35.7</td>\n",
       "      <td>110</td>\n",
       "    </tr>\n",
       "    <tr>\n",
       "      <th>Royalty</th>\n",
       "      <td>41.6</td>\n",
       "      <td>5</td>\n",
       "    </tr>\n",
       "    <tr>\n",
       "      <th>Dr</th>\n",
       "      <td>42.0</td>\n",
       "      <td>6</td>\n",
       "    </tr>\n",
       "    <tr>\n",
       "      <th>Rev</th>\n",
       "      <td>43.2</td>\n",
       "      <td>6</td>\n",
       "    </tr>\n",
       "    <tr>\n",
       "      <th>Officer</th>\n",
       "      <td>56.6</td>\n",
       "      <td>5</td>\n",
       "    </tr>\n",
       "  </tbody>\n",
       "</table>\n",
       "</div>"
      ],
      "text/plain": [
       "         mean  count\n",
       "Title               \n",
       "Master    4.6     36\n",
       "Miss     21.8    148\n",
       "Mr       32.4    398\n",
       "Mrs      35.7    110\n",
       "Royalty  41.6      5\n",
       "Dr       42.0      6\n",
       "Rev      43.2      6\n",
       "Officer  56.6      5"
      ]
     },
     "execution_count": 32,
     "metadata": {},
     "output_type": "execute_result"
    }
   ],
   "source": [
    "round(train_df.groupby('Title')['Age'].agg(['mean','count']).sort_values('mean'),1)"
   ]
  },
  {
   "cell_type": "code",
   "execution_count": 33,
   "id": "e8b0d4a5",
   "metadata": {
    "execution": {
     "iopub.execute_input": "2023-06-07T16:53:34.121101Z",
     "iopub.status.busy": "2023-06-07T16:53:34.120722Z",
     "iopub.status.idle": "2023-06-07T16:53:34.128389Z",
     "shell.execute_reply": "2023-06-07T16:53:34.127261Z"
    },
    "papermill": {
     "duration": 0.033413,
     "end_time": "2023-06-07T16:53:34.130815",
     "exception": false,
     "start_time": "2023-06-07T16:53:34.097402",
     "status": "completed"
    },
    "tags": []
   },
   "outputs": [],
   "source": [
    "test_df['Title']=test_df.Name.str.extract('([A-Za-z]+)\\.')"
   ]
  },
  {
   "cell_type": "code",
   "execution_count": 34,
   "id": "b1369832",
   "metadata": {
    "execution": {
     "iopub.execute_input": "2023-06-07T16:53:34.177863Z",
     "iopub.status.busy": "2023-06-07T16:53:34.177488Z",
     "iopub.status.idle": "2023-06-07T16:53:34.185288Z",
     "shell.execute_reply": "2023-06-07T16:53:34.184451Z"
    },
    "papermill": {
     "duration": 0.03318,
     "end_time": "2023-06-07T16:53:34.187312",
     "exception": false,
     "start_time": "2023-06-07T16:53:34.154132",
     "status": "completed"
    },
    "tags": []
   },
   "outputs": [
    {
     "data": {
      "text/plain": [
       "Mr        240\n",
       "Miss       78\n",
       "Mrs        72\n",
       "Master     21\n",
       "Col         2\n",
       "Rev         2\n",
       "Ms          1\n",
       "Dr          1\n",
       "Dona        1\n",
       "Name: Title, dtype: int64"
      ]
     },
     "execution_count": 34,
     "metadata": {},
     "output_type": "execute_result"
    }
   ],
   "source": [
    "test_df['Title'].value_counts()"
   ]
  },
  {
   "cell_type": "code",
   "execution_count": 35,
   "id": "0e51cec7",
   "metadata": {
    "execution": {
     "iopub.execute_input": "2023-06-07T16:53:34.235920Z",
     "iopub.status.busy": "2023-06-07T16:53:34.234945Z",
     "iopub.status.idle": "2023-06-07T16:53:34.241525Z",
     "shell.execute_reply": "2023-06-07T16:53:34.240209Z"
    },
    "papermill": {
     "duration": 0.032866,
     "end_time": "2023-06-07T16:53:34.244144",
     "exception": false,
     "start_time": "2023-06-07T16:53:34.211278",
     "status": "completed"
    },
    "tags": []
   },
   "outputs": [],
   "source": [
    "test_df['Title']=test_df['Title'].map(Title_dict)"
   ]
  },
  {
   "cell_type": "code",
   "execution_count": 36,
   "id": "2686cf9c",
   "metadata": {
    "execution": {
     "iopub.execute_input": "2023-06-07T16:53:34.290589Z",
     "iopub.status.busy": "2023-06-07T16:53:34.290187Z",
     "iopub.status.idle": "2023-06-07T16:53:34.296653Z",
     "shell.execute_reply": "2023-06-07T16:53:34.295399Z"
    },
    "papermill": {
     "duration": 0.032298,
     "end_time": "2023-06-07T16:53:34.299039",
     "exception": false,
     "start_time": "2023-06-07T16:53:34.266741",
     "status": "completed"
    },
    "tags": []
   },
   "outputs": [],
   "source": [
    "test_df['Title']=test_df['Title'].astype('category')"
   ]
  },
  {
   "cell_type": "code",
   "execution_count": 37,
   "id": "2612b713",
   "metadata": {
    "execution": {
     "iopub.execute_input": "2023-06-07T16:53:34.347059Z",
     "iopub.status.busy": "2023-06-07T16:53:34.346659Z",
     "iopub.status.idle": "2023-06-07T16:53:34.356527Z",
     "shell.execute_reply": "2023-06-07T16:53:34.355317Z"
    },
    "papermill": {
     "duration": 0.037524,
     "end_time": "2023-06-07T16:53:34.358956",
     "exception": false,
     "start_time": "2023-06-07T16:53:34.321432",
     "status": "completed"
    },
    "tags": []
   },
   "outputs": [
    {
     "data": {
      "text/plain": [
       "count     418\n",
       "unique      8\n",
       "top        Mr\n",
       "freq      240\n",
       "Name: Title, dtype: object"
      ]
     },
     "execution_count": 37,
     "metadata": {},
     "output_type": "execute_result"
    }
   ],
   "source": [
    "test_df['Title'].describe()"
   ]
  },
  {
   "cell_type": "code",
   "execution_count": 38,
   "id": "001d2af2",
   "metadata": {
    "execution": {
     "iopub.execute_input": "2023-06-07T16:53:34.406843Z",
     "iopub.status.busy": "2023-06-07T16:53:34.406470Z",
     "iopub.status.idle": "2023-06-07T16:53:34.421477Z",
     "shell.execute_reply": "2023-06-07T16:53:34.420134Z"
    },
    "papermill": {
     "duration": 0.041955,
     "end_time": "2023-06-07T16:53:34.423873",
     "exception": false,
     "start_time": "2023-06-07T16:53:34.381918",
     "status": "completed"
    },
    "tags": []
   },
   "outputs": [
    {
     "data": {
      "text/html": [
       "<div>\n",
       "<style scoped>\n",
       "    .dataframe tbody tr th:only-of-type {\n",
       "        vertical-align: middle;\n",
       "    }\n",
       "\n",
       "    .dataframe tbody tr th {\n",
       "        vertical-align: top;\n",
       "    }\n",
       "\n",
       "    .dataframe thead th {\n",
       "        text-align: right;\n",
       "    }\n",
       "</style>\n",
       "<table border=\"1\" class=\"dataframe\">\n",
       "  <thead>\n",
       "    <tr style=\"text-align: right;\">\n",
       "      <th></th>\n",
       "      <th>mean</th>\n",
       "      <th>count</th>\n",
       "    </tr>\n",
       "    <tr>\n",
       "      <th>Title</th>\n",
       "      <th></th>\n",
       "      <th></th>\n",
       "    </tr>\n",
       "  </thead>\n",
       "  <tbody>\n",
       "    <tr>\n",
       "      <th>Master</th>\n",
       "      <td>7.4</td>\n",
       "      <td>17</td>\n",
       "    </tr>\n",
       "    <tr>\n",
       "      <th>Miss</th>\n",
       "      <td>21.8</td>\n",
       "      <td>64</td>\n",
       "    </tr>\n",
       "    <tr>\n",
       "      <th>Mr</th>\n",
       "      <td>32.0</td>\n",
       "      <td>183</td>\n",
       "    </tr>\n",
       "    <tr>\n",
       "      <th>Rev</th>\n",
       "      <td>35.5</td>\n",
       "      <td>2</td>\n",
       "    </tr>\n",
       "    <tr>\n",
       "      <th>Mrs</th>\n",
       "      <td>38.9</td>\n",
       "      <td>62</td>\n",
       "    </tr>\n",
       "    <tr>\n",
       "      <th>Royalty</th>\n",
       "      <td>39.0</td>\n",
       "      <td>1</td>\n",
       "    </tr>\n",
       "    <tr>\n",
       "      <th>Officer</th>\n",
       "      <td>50.0</td>\n",
       "      <td>2</td>\n",
       "    </tr>\n",
       "    <tr>\n",
       "      <th>Dr</th>\n",
       "      <td>53.0</td>\n",
       "      <td>1</td>\n",
       "    </tr>\n",
       "  </tbody>\n",
       "</table>\n",
       "</div>"
      ],
      "text/plain": [
       "         mean  count\n",
       "Title               \n",
       "Master    7.4     17\n",
       "Miss     21.8     64\n",
       "Mr       32.0    183\n",
       "Rev      35.5      2\n",
       "Mrs      38.9     62\n",
       "Royalty  39.0      1\n",
       "Officer  50.0      2\n",
       "Dr       53.0      1"
      ]
     },
     "execution_count": 38,
     "metadata": {},
     "output_type": "execute_result"
    }
   ],
   "source": [
    "round(test_df.groupby('Title')['Age'].agg(['mean','count']).sort_values('mean'),1)"
   ]
  },
  {
   "cell_type": "code",
   "execution_count": 39,
   "id": "a1b2161e",
   "metadata": {
    "execution": {
     "iopub.execute_input": "2023-06-07T16:53:34.472177Z",
     "iopub.status.busy": "2023-06-07T16:53:34.471813Z",
     "iopub.status.idle": "2023-06-07T16:53:34.481223Z",
     "shell.execute_reply": "2023-06-07T16:53:34.480053Z"
    },
    "papermill": {
     "duration": 0.035787,
     "end_time": "2023-06-07T16:53:34.483337",
     "exception": false,
     "start_time": "2023-06-07T16:53:34.447550",
     "status": "completed"
    },
    "tags": []
   },
   "outputs": [],
   "source": [
    "train_df['Title']=np.where(((train_df['Sex']=='female') & (train_df['SibSp']==0) & (train_df['Parch']>0) &(train_df['Title']=='Miss') & (train_df['Age']<=18.0)), 'Miss_Child', train_df['Title'])"
   ]
  },
  {
   "cell_type": "code",
   "execution_count": 40,
   "id": "de36c407",
   "metadata": {
    "execution": {
     "iopub.execute_input": "2023-06-07T16:53:34.532192Z",
     "iopub.status.busy": "2023-06-07T16:53:34.531799Z",
     "iopub.status.idle": "2023-06-07T16:53:34.540629Z",
     "shell.execute_reply": "2023-06-07T16:53:34.539410Z"
    },
    "papermill": {
     "duration": 0.036251,
     "end_time": "2023-06-07T16:53:34.543198",
     "exception": false,
     "start_time": "2023-06-07T16:53:34.506947",
     "status": "completed"
    },
    "tags": []
   },
   "outputs": [
    {
     "data": {
      "text/plain": [
       "Mr            517\n",
       "Miss          167\n",
       "Mrs           127\n",
       "Master         40\n",
       "Miss_Child     17\n",
       "Dr              7\n",
       "Rev             6\n",
       "Royalty         5\n",
       "Officer         5\n",
       "Name: Title, dtype: int64"
      ]
     },
     "execution_count": 40,
     "metadata": {},
     "output_type": "execute_result"
    }
   ],
   "source": [
    "train_df['Title'].value_counts()"
   ]
  },
  {
   "cell_type": "code",
   "execution_count": 41,
   "id": "a35bcb5e",
   "metadata": {
    "execution": {
     "iopub.execute_input": "2023-06-07T16:53:34.590838Z",
     "iopub.status.busy": "2023-06-07T16:53:34.590477Z",
     "iopub.status.idle": "2023-06-07T16:53:34.597384Z",
     "shell.execute_reply": "2023-06-07T16:53:34.596469Z"
    },
    "papermill": {
     "duration": 0.03347,
     "end_time": "2023-06-07T16:53:34.599558",
     "exception": false,
     "start_time": "2023-06-07T16:53:34.566088",
     "status": "completed"
    },
    "tags": []
   },
   "outputs": [],
   "source": [
    "test_df['Title']=np.where(((test_df['Sex']=='female') & (test_df['Parch']>0) & (test_df['Title']=='Miss') &(test_df['Age']<=18.0)), 'Miss_Child', test_df['Title'])"
   ]
  },
  {
   "cell_type": "code",
   "execution_count": 42,
   "id": "84d103c0",
   "metadata": {
    "execution": {
     "iopub.execute_input": "2023-06-07T16:53:34.647104Z",
     "iopub.status.busy": "2023-06-07T16:53:34.646733Z",
     "iopub.status.idle": "2023-06-07T16:53:34.654572Z",
     "shell.execute_reply": "2023-06-07T16:53:34.653736Z"
    },
    "papermill": {
     "duration": 0.033983,
     "end_time": "2023-06-07T16:53:34.656424",
     "exception": false,
     "start_time": "2023-06-07T16:53:34.622441",
     "status": "completed"
    },
    "tags": []
   },
   "outputs": [
    {
     "data": {
      "text/plain": [
       "Mr            240\n",
       "Mrs            73\n",
       "Miss           64\n",
       "Master         21\n",
       "Miss_Child     14\n",
       "Officer         2\n",
       "Rev             2\n",
       "Dr              1\n",
       "Royalty         1\n",
       "Name: Title, dtype: int64"
      ]
     },
     "execution_count": 42,
     "metadata": {},
     "output_type": "execute_result"
    }
   ],
   "source": [
    "test_df['Title'].value_counts()"
   ]
  },
  {
   "cell_type": "code",
   "execution_count": 43,
   "id": "73e6352f",
   "metadata": {
    "execution": {
     "iopub.execute_input": "2023-06-07T16:53:34.704976Z",
     "iopub.status.busy": "2023-06-07T16:53:34.704030Z",
     "iopub.status.idle": "2023-06-07T16:53:34.719110Z",
     "shell.execute_reply": "2023-06-07T16:53:34.718120Z"
    },
    "papermill": {
     "duration": 0.041401,
     "end_time": "2023-06-07T16:53:34.721474",
     "exception": false,
     "start_time": "2023-06-07T16:53:34.680073",
     "status": "completed"
    },
    "tags": []
   },
   "outputs": [
    {
     "data": {
      "text/html": [
       "<div>\n",
       "<style scoped>\n",
       "    .dataframe tbody tr th:only-of-type {\n",
       "        vertical-align: middle;\n",
       "    }\n",
       "\n",
       "    .dataframe tbody tr th {\n",
       "        vertical-align: top;\n",
       "    }\n",
       "\n",
       "    .dataframe thead th {\n",
       "        text-align: right;\n",
       "    }\n",
       "</style>\n",
       "<table border=\"1\" class=\"dataframe\">\n",
       "  <thead>\n",
       "    <tr style=\"text-align: right;\">\n",
       "      <th></th>\n",
       "      <th>mean</th>\n",
       "      <th>count</th>\n",
       "    </tr>\n",
       "    <tr>\n",
       "      <th>Title</th>\n",
       "      <th></th>\n",
       "      <th></th>\n",
       "    </tr>\n",
       "  </thead>\n",
       "  <tbody>\n",
       "    <tr>\n",
       "      <th>Master</th>\n",
       "      <td>4.6</td>\n",
       "      <td>36</td>\n",
       "    </tr>\n",
       "    <tr>\n",
       "      <th>Miss_Child</th>\n",
       "      <td>10.4</td>\n",
       "      <td>17</td>\n",
       "    </tr>\n",
       "    <tr>\n",
       "      <th>Miss</th>\n",
       "      <td>23.3</td>\n",
       "      <td>131</td>\n",
       "    </tr>\n",
       "    <tr>\n",
       "      <th>Mr</th>\n",
       "      <td>32.4</td>\n",
       "      <td>398</td>\n",
       "    </tr>\n",
       "    <tr>\n",
       "      <th>Mrs</th>\n",
       "      <td>35.7</td>\n",
       "      <td>110</td>\n",
       "    </tr>\n",
       "    <tr>\n",
       "      <th>Royalty</th>\n",
       "      <td>41.6</td>\n",
       "      <td>5</td>\n",
       "    </tr>\n",
       "    <tr>\n",
       "      <th>Dr</th>\n",
       "      <td>42.0</td>\n",
       "      <td>6</td>\n",
       "    </tr>\n",
       "    <tr>\n",
       "      <th>Rev</th>\n",
       "      <td>43.2</td>\n",
       "      <td>6</td>\n",
       "    </tr>\n",
       "    <tr>\n",
       "      <th>Officer</th>\n",
       "      <td>56.6</td>\n",
       "      <td>5</td>\n",
       "    </tr>\n",
       "  </tbody>\n",
       "</table>\n",
       "</div>"
      ],
      "text/plain": [
       "            mean  count\n",
       "Title                  \n",
       "Master       4.6     36\n",
       "Miss_Child  10.4     17\n",
       "Miss        23.3    131\n",
       "Mr          32.4    398\n",
       "Mrs         35.7    110\n",
       "Royalty     41.6      5\n",
       "Dr          42.0      6\n",
       "Rev         43.2      6\n",
       "Officer     56.6      5"
      ]
     },
     "execution_count": 43,
     "metadata": {},
     "output_type": "execute_result"
    }
   ],
   "source": [
    "round(train_df.groupby('Title')['Age'].agg(['mean','count']).sort_values('mean'),1)"
   ]
  },
  {
   "cell_type": "code",
   "execution_count": 44,
   "id": "286a64a4",
   "metadata": {
    "execution": {
     "iopub.execute_input": "2023-06-07T16:53:34.769658Z",
     "iopub.status.busy": "2023-06-07T16:53:34.769218Z",
     "iopub.status.idle": "2023-06-07T16:53:34.783869Z",
     "shell.execute_reply": "2023-06-07T16:53:34.782750Z"
    },
    "papermill": {
     "duration": 0.041214,
     "end_time": "2023-06-07T16:53:34.786094",
     "exception": false,
     "start_time": "2023-06-07T16:53:34.744880",
     "status": "completed"
    },
    "tags": []
   },
   "outputs": [
    {
     "data": {
      "text/html": [
       "<div>\n",
       "<style scoped>\n",
       "    .dataframe tbody tr th:only-of-type {\n",
       "        vertical-align: middle;\n",
       "    }\n",
       "\n",
       "    .dataframe tbody tr th {\n",
       "        vertical-align: top;\n",
       "    }\n",
       "\n",
       "    .dataframe thead th {\n",
       "        text-align: right;\n",
       "    }\n",
       "</style>\n",
       "<table border=\"1\" class=\"dataframe\">\n",
       "  <thead>\n",
       "    <tr style=\"text-align: right;\">\n",
       "      <th></th>\n",
       "      <th>mean</th>\n",
       "      <th>count</th>\n",
       "    </tr>\n",
       "    <tr>\n",
       "      <th>Title</th>\n",
       "      <th></th>\n",
       "      <th></th>\n",
       "    </tr>\n",
       "  </thead>\n",
       "  <tbody>\n",
       "    <tr>\n",
       "      <th>Miss_Child</th>\n",
       "      <td>7.0</td>\n",
       "      <td>14</td>\n",
       "    </tr>\n",
       "    <tr>\n",
       "      <th>Master</th>\n",
       "      <td>7.4</td>\n",
       "      <td>17</td>\n",
       "    </tr>\n",
       "    <tr>\n",
       "      <th>Miss</th>\n",
       "      <td>25.9</td>\n",
       "      <td>50</td>\n",
       "    </tr>\n",
       "    <tr>\n",
       "      <th>Mr</th>\n",
       "      <td>32.0</td>\n",
       "      <td>183</td>\n",
       "    </tr>\n",
       "    <tr>\n",
       "      <th>Rev</th>\n",
       "      <td>35.5</td>\n",
       "      <td>2</td>\n",
       "    </tr>\n",
       "    <tr>\n",
       "      <th>Mrs</th>\n",
       "      <td>38.9</td>\n",
       "      <td>62</td>\n",
       "    </tr>\n",
       "    <tr>\n",
       "      <th>Royalty</th>\n",
       "      <td>39.0</td>\n",
       "      <td>1</td>\n",
       "    </tr>\n",
       "    <tr>\n",
       "      <th>Officer</th>\n",
       "      <td>50.0</td>\n",
       "      <td>2</td>\n",
       "    </tr>\n",
       "    <tr>\n",
       "      <th>Dr</th>\n",
       "      <td>53.0</td>\n",
       "      <td>1</td>\n",
       "    </tr>\n",
       "  </tbody>\n",
       "</table>\n",
       "</div>"
      ],
      "text/plain": [
       "            mean  count\n",
       "Title                  \n",
       "Miss_Child   7.0     14\n",
       "Master       7.4     17\n",
       "Miss        25.9     50\n",
       "Mr          32.0    183\n",
       "Rev         35.5      2\n",
       "Mrs         38.9     62\n",
       "Royalty     39.0      1\n",
       "Officer     50.0      2\n",
       "Dr          53.0      1"
      ]
     },
     "execution_count": 44,
     "metadata": {},
     "output_type": "execute_result"
    }
   ],
   "source": [
    "round(test_df.groupby('Title')['Age'].agg(['mean','count']).sort_values('mean'),1)"
   ]
  },
  {
   "cell_type": "code",
   "execution_count": 45,
   "id": "50f1a185",
   "metadata": {
    "execution": {
     "iopub.execute_input": "2023-06-07T16:53:34.836340Z",
     "iopub.status.busy": "2023-06-07T16:53:34.835951Z",
     "iopub.status.idle": "2023-06-07T16:53:34.843529Z",
     "shell.execute_reply": "2023-06-07T16:53:34.842526Z"
    },
    "papermill": {
     "duration": 0.03546,
     "end_time": "2023-06-07T16:53:34.845704",
     "exception": false,
     "start_time": "2023-06-07T16:53:34.810244",
     "status": "completed"
    },
    "tags": []
   },
   "outputs": [],
   "source": [
    "train_df['Age'].fillna(train_df.groupby('Title')['Age'].transform('mean'), inplace=True)"
   ]
  },
  {
   "cell_type": "code",
   "execution_count": 46,
   "id": "121243a9",
   "metadata": {
    "execution": {
     "iopub.execute_input": "2023-06-07T16:53:34.894541Z",
     "iopub.status.busy": "2023-06-07T16:53:34.894083Z",
     "iopub.status.idle": "2023-06-07T16:53:34.903777Z",
     "shell.execute_reply": "2023-06-07T16:53:34.902742Z"
    },
    "papermill": {
     "duration": 0.036758,
     "end_time": "2023-06-07T16:53:34.905962",
     "exception": false,
     "start_time": "2023-06-07T16:53:34.869204",
     "status": "completed"
    },
    "tags": []
   },
   "outputs": [
    {
     "data": {
      "text/plain": [
       "PassengerId    0\n",
       "Survived       0\n",
       "Pclass         0\n",
       "Name           0\n",
       "Sex            0\n",
       "Age            0\n",
       "SibSp          0\n",
       "Parch          0\n",
       "Ticket         0\n",
       "Fare           0\n",
       "Embarked       0\n",
       "Title          0\n",
       "dtype: int64"
      ]
     },
     "execution_count": 46,
     "metadata": {},
     "output_type": "execute_result"
    }
   ],
   "source": [
    "train_df.isnull().sum()"
   ]
  },
  {
   "cell_type": "code",
   "execution_count": 47,
   "id": "8dcc60d1",
   "metadata": {
    "execution": {
     "iopub.execute_input": "2023-06-07T16:53:34.957094Z",
     "iopub.status.busy": "2023-06-07T16:53:34.956701Z",
     "iopub.status.idle": "2023-06-07T16:53:34.963387Z",
     "shell.execute_reply": "2023-06-07T16:53:34.962184Z"
    },
    "papermill": {
     "duration": 0.034935,
     "end_time": "2023-06-07T16:53:34.965578",
     "exception": false,
     "start_time": "2023-06-07T16:53:34.930643",
     "status": "completed"
    },
    "tags": []
   },
   "outputs": [],
   "source": [
    "test_df['Age'].fillna(test_df.groupby('Title')['Age'].transform('mean'), inplace=True)"
   ]
  },
  {
   "cell_type": "code",
   "execution_count": 48,
   "id": "c66665aa",
   "metadata": {
    "execution": {
     "iopub.execute_input": "2023-06-07T16:53:35.014722Z",
     "iopub.status.busy": "2023-06-07T16:53:35.014325Z",
     "iopub.status.idle": "2023-06-07T16:53:35.029219Z",
     "shell.execute_reply": "2023-06-07T16:53:35.028162Z"
    },
    "papermill": {
     "duration": 0.042351,
     "end_time": "2023-06-07T16:53:35.031646",
     "exception": false,
     "start_time": "2023-06-07T16:53:34.989295",
     "status": "completed"
    },
    "tags": []
   },
   "outputs": [
    {
     "data": {
      "text/html": [
       "<div>\n",
       "<style scoped>\n",
       "    .dataframe tbody tr th:only-of-type {\n",
       "        vertical-align: middle;\n",
       "    }\n",
       "\n",
       "    .dataframe tbody tr th {\n",
       "        vertical-align: top;\n",
       "    }\n",
       "\n",
       "    .dataframe thead th {\n",
       "        text-align: right;\n",
       "    }\n",
       "</style>\n",
       "<table border=\"1\" class=\"dataframe\">\n",
       "  <thead>\n",
       "    <tr style=\"text-align: right;\">\n",
       "      <th></th>\n",
       "      <th>PassengerId</th>\n",
       "      <th>Pclass</th>\n",
       "      <th>Name</th>\n",
       "      <th>Sex</th>\n",
       "      <th>Age</th>\n",
       "      <th>SibSp</th>\n",
       "      <th>Parch</th>\n",
       "      <th>Ticket</th>\n",
       "      <th>Fare</th>\n",
       "      <th>Embarked</th>\n",
       "      <th>Title</th>\n",
       "    </tr>\n",
       "  </thead>\n",
       "  <tbody>\n",
       "    <tr>\n",
       "      <th>152</th>\n",
       "      <td>1044</td>\n",
       "      <td>3</td>\n",
       "      <td>Storey, Mr. Thomas</td>\n",
       "      <td>male</td>\n",
       "      <td>60.5</td>\n",
       "      <td>0</td>\n",
       "      <td>0</td>\n",
       "      <td>3701</td>\n",
       "      <td>NaN</td>\n",
       "      <td>S</td>\n",
       "      <td>Mr</td>\n",
       "    </tr>\n",
       "  </tbody>\n",
       "</table>\n",
       "</div>"
      ],
      "text/plain": [
       "     PassengerId  Pclass                Name   Sex   Age  SibSp  Parch Ticket  \\\n",
       "152         1044       3  Storey, Mr. Thomas  male  60.5      0      0   3701   \n",
       "\n",
       "     Fare Embarked Title  \n",
       "152   NaN        S    Mr  "
      ]
     },
     "execution_count": 48,
     "metadata": {},
     "output_type": "execute_result"
    }
   ],
   "source": [
    "test_df[test_df['Fare'].isnull()]"
   ]
  },
  {
   "cell_type": "code",
   "execution_count": 49,
   "id": "091ae4be",
   "metadata": {
    "execution": {
     "iopub.execute_input": "2023-06-07T16:53:35.079834Z",
     "iopub.status.busy": "2023-06-07T16:53:35.079440Z",
     "iopub.status.idle": "2023-06-07T16:53:35.093253Z",
     "shell.execute_reply": "2023-06-07T16:53:35.092029Z"
    },
    "papermill": {
     "duration": 0.040372,
     "end_time": "2023-06-07T16:53:35.095409",
     "exception": false,
     "start_time": "2023-06-07T16:53:35.055037",
     "status": "completed"
    },
    "tags": []
   },
   "outputs": [
    {
     "data": {
      "text/html": [
       "<div>\n",
       "<style scoped>\n",
       "    .dataframe tbody tr th:only-of-type {\n",
       "        vertical-align: middle;\n",
       "    }\n",
       "\n",
       "    .dataframe tbody tr th {\n",
       "        vertical-align: top;\n",
       "    }\n",
       "\n",
       "    .dataframe thead th {\n",
       "        text-align: right;\n",
       "    }\n",
       "</style>\n",
       "<table border=\"1\" class=\"dataframe\">\n",
       "  <thead>\n",
       "    <tr style=\"text-align: right;\">\n",
       "      <th></th>\n",
       "      <th>Fare</th>\n",
       "    </tr>\n",
       "  </thead>\n",
       "  <tbody>\n",
       "    <tr>\n",
       "      <th>mean</th>\n",
       "      <td>8.62669</td>\n",
       "    </tr>\n",
       "    <tr>\n",
       "      <th>count</th>\n",
       "      <td>106.00000</td>\n",
       "    </tr>\n",
       "  </tbody>\n",
       "</table>\n",
       "</div>"
      ],
      "text/plain": [
       "            Fare\n",
       "mean     8.62669\n",
       "count  106.00000"
      ]
     },
     "execution_count": 49,
     "metadata": {},
     "output_type": "execute_result"
    }
   ],
   "source": [
    "test_df[(test_df['Pclass']==3) & (test_df['SibSp']==0) & (test_df['Parch']==0) & (test_df['Title']=='Mr')].agg({'Fare':['mean','count']})"
   ]
  },
  {
   "cell_type": "code",
   "execution_count": 50,
   "id": "4ccf1fa6",
   "metadata": {
    "execution": {
     "iopub.execute_input": "2023-06-07T16:53:35.145026Z",
     "iopub.status.busy": "2023-06-07T16:53:35.144342Z",
     "iopub.status.idle": "2023-06-07T16:53:35.149195Z",
     "shell.execute_reply": "2023-06-07T16:53:35.148438Z"
    },
    "papermill": {
     "duration": 0.031543,
     "end_time": "2023-06-07T16:53:35.151187",
     "exception": false,
     "start_time": "2023-06-07T16:53:35.119644",
     "status": "completed"
    },
    "tags": []
   },
   "outputs": [],
   "source": [
    "test_df['Fare']=test_df['Fare'].fillna(8.6267)"
   ]
  },
  {
   "cell_type": "code",
   "execution_count": 51,
   "id": "a9d99ce2",
   "metadata": {
    "execution": {
     "iopub.execute_input": "2023-06-07T16:53:35.200627Z",
     "iopub.status.busy": "2023-06-07T16:53:35.200019Z",
     "iopub.status.idle": "2023-06-07T16:53:35.207783Z",
     "shell.execute_reply": "2023-06-07T16:53:35.206797Z"
    },
    "papermill": {
     "duration": 0.034389,
     "end_time": "2023-06-07T16:53:35.209717",
     "exception": false,
     "start_time": "2023-06-07T16:53:35.175328",
     "status": "completed"
    },
    "tags": []
   },
   "outputs": [
    {
     "data": {
      "text/plain": [
       "PassengerId    0\n",
       "Pclass         0\n",
       "Name           0\n",
       "Sex            0\n",
       "Age            0\n",
       "SibSp          0\n",
       "Parch          0\n",
       "Ticket         0\n",
       "Fare           0\n",
       "Embarked       0\n",
       "Title          0\n",
       "dtype: int64"
      ]
     },
     "execution_count": 51,
     "metadata": {},
     "output_type": "execute_result"
    }
   ],
   "source": [
    "test_df.isnull().sum()"
   ]
  },
  {
   "cell_type": "markdown",
   "id": "d7946b3c",
   "metadata": {
    "papermill": {
     "duration": 0.02291,
     "end_time": "2023-06-07T16:53:35.256182",
     "exception": false,
     "start_time": "2023-06-07T16:53:35.233272",
     "status": "completed"
    },
    "tags": []
   },
   "source": [
    "# **Data Visualization**"
   ]
  },
  {
   "cell_type": "code",
   "execution_count": 52,
   "id": "11448d45",
   "metadata": {
    "execution": {
     "iopub.execute_input": "2023-06-07T16:53:35.304397Z",
     "iopub.status.busy": "2023-06-07T16:53:35.303992Z",
     "iopub.status.idle": "2023-06-07T16:53:36.978753Z",
     "shell.execute_reply": "2023-06-07T16:53:36.977586Z"
    },
    "papermill": {
     "duration": 1.701743,
     "end_time": "2023-06-07T16:53:36.981152",
     "exception": false,
     "start_time": "2023-06-07T16:53:35.279409",
     "status": "completed"
    },
    "tags": []
   },
   "outputs": [
    {
     "data": {
      "image/png": "[encoded data removed]",
      "text/plain": [
       "<Figure size 640x480 with 1 Axes>"
      ]
     },
     "metadata": {},
     "output_type": "display_data"
    }
   ],
   "source": [
    "sns.countplot(x='Survived', data=train_df, \n",
    "              palette='Set1',\n",
    "             edgecolor='black')\n",
    "plt.title('Titanic Survived')\n",
    "plt.show()"
   ]
  },
  {
   "cell_type": "code",
   "execution_count": 53,
   "id": "08ee1f7e",
   "metadata": {
    "execution": {
     "iopub.execute_input": "2023-06-07T16:53:37.033099Z",
     "iopub.status.busy": "2023-06-07T16:53:37.032725Z",
     "iopub.status.idle": "2023-06-07T16:53:37.215612Z",
     "shell.execute_reply": "2023-06-07T16:53:37.214321Z"
    },
    "papermill": {
     "duration": 0.213041,
     "end_time": "2023-06-07T16:53:37.218120",
     "exception": false,
     "start_time": "2023-06-07T16:53:37.005079",
     "status": "completed"
    },
    "tags": []
   },
   "outputs": [
    {
     "data": {
      "image/png": "[encoded data removed]",
      "text/plain": [
       "<Figure size 400x400 with 1 Axes>"
      ]
     },
     "metadata": {},
     "output_type": "display_data"
    }
   ],
   "source": [
    "plot=train_df['Survived'].value_counts().plot(kind='pie', title='Titanic Survived', figsize=(4,4), autopct='%1.2f%%')"
   ]
  },
  {
   "cell_type": "markdown",
   "id": "08f9c733",
   "metadata": {
    "papermill": {
     "duration": 0.024689,
     "end_time": "2023-06-07T16:53:37.267334",
     "exception": false,
     "start_time": "2023-06-07T16:53:37.242645",
     "status": "completed"
    },
    "tags": []
   },
   "source": [
    "Según el gráfico de arriba, solo el 38,38% de los pasajeros del Titanic sobrevivió basándonos en este training data."
   ]
  },
  {
   "cell_type": "code",
   "execution_count": 54,
   "id": "76984508",
   "metadata": {
    "execution": {
     "iopub.execute_input": "2023-06-07T16:53:37.318342Z",
     "iopub.status.busy": "2023-06-07T16:53:37.317941Z",
     "iopub.status.idle": "2023-06-07T16:53:37.488971Z",
     "shell.execute_reply": "2023-06-07T16:53:37.487757Z"
    },
    "papermill": {
     "duration": 0.19904,
     "end_time": "2023-06-07T16:53:37.491343",
     "exception": false,
     "start_time": "2023-06-07T16:53:37.292303",
     "status": "completed"
    },
    "tags": []
   },
   "outputs": [
    {
     "data": {
      "image/png": "[encoded data removed]",
      "text/plain": [
       "<Figure size 640x480 with 1 Axes>"
      ]
     },
     "metadata": {},
     "output_type": "display_data"
    }
   ],
   "source": [
    "sns.countplot(x='Pclass', data=train_df, \n",
    "              palette='Set1',\n",
    "             edgecolor='black')\n",
    "plt.title('Passengers by Pclass')\n",
    "plt.show()"
   ]
  },
  {
   "cell_type": "markdown",
   "id": "50bf1ea6",
   "metadata": {
    "papermill": {
     "duration": 0.024986,
     "end_time": "2023-06-07T16:53:37.541938",
     "exception": false,
     "start_time": "2023-06-07T16:53:37.516952",
     "status": "completed"
    },
    "tags": []
   },
   "source": [
    "De este gráfico podemos observar que la mayoría de los pasajeros iban en 3ra. clase."
   ]
  },
  {
   "cell_type": "code",
   "execution_count": 55,
   "id": "7b2e15ce",
   "metadata": {
    "execution": {
     "iopub.execute_input": "2023-06-07T16:53:37.592967Z",
     "iopub.status.busy": "2023-06-07T16:53:37.591981Z",
     "iopub.status.idle": "2023-06-07T16:53:37.859544Z",
     "shell.execute_reply": "2023-06-07T16:53:37.858439Z"
    },
    "papermill": {
     "duration": 0.295403,
     "end_time": "2023-06-07T16:53:37.861794",
     "exception": false,
     "start_time": "2023-06-07T16:53:37.566391",
     "status": "completed"
    },
    "tags": []
   },
   "outputs": [
    {
     "data": {
      "image/png": "[encoded data removed]",
      "text/plain": [
       "<Figure size 640x480 with 1 Axes>"
      ]
     },
     "metadata": {},
     "output_type": "display_data"
    }
   ],
   "source": [
    "sns.barplot(x='Pclass', \n",
    "            y='Survived',\n",
    "            data=train_df,\n",
    "              palette= 'Set1',\n",
    "             edgecolor='black')\n",
    "plt.title('Survivors by Pclass')\n",
    "plt.show()"
   ]
  },
  {
   "cell_type": "markdown",
   "id": "53004288",
   "metadata": {
    "papermill": {
     "duration": 0.024483,
     "end_time": "2023-06-07T16:53:37.910991",
     "exception": false,
     "start_time": "2023-06-07T16:53:37.886508",
     "status": "completed"
    },
    "tags": []
   },
   "source": [
    "En el gráfico superior observamos que de todas las clases, los pasajeros que iban en 1ra. son los que más sobrevivieron."
   ]
  },
  {
   "cell_type": "code",
   "execution_count": 56,
   "id": "ff907201",
   "metadata": {
    "execution": {
     "iopub.execute_input": "2023-06-07T16:53:37.962517Z",
     "iopub.status.busy": "2023-06-07T16:53:37.962119Z",
     "iopub.status.idle": "2023-06-07T16:53:38.206608Z",
     "shell.execute_reply": "2023-06-07T16:53:38.205459Z"
    },
    "papermill": {
     "duration": 0.272962,
     "end_time": "2023-06-07T16:53:38.208812",
     "exception": false,
     "start_time": "2023-06-07T16:53:37.935850",
     "status": "completed"
    },
    "tags": []
   },
   "outputs": [
    {
     "data": {
      "image/png": "[encoded data removed]",
      "text/plain": [
       "<Figure size 640x480 with 1 Axes>"
      ]
     },
     "metadata": {},
     "output_type": "display_data"
    }
   ],
   "source": [
    "sns.barplot(x='Sex', \n",
    "            y='Survived',\n",
    "            data=train_df,\n",
    "              palette= 'Set1',\n",
    "             edgecolor='black')\n",
    "plt.title('Survivors by Sex')\n",
    "plt.show()"
   ]
  },
  {
   "cell_type": "markdown",
   "id": "986ab3f9",
   "metadata": {
    "papermill": {
     "duration": 0.025052,
     "end_time": "2023-06-07T16:53:38.259047",
     "exception": false,
     "start_time": "2023-06-07T16:53:38.233995",
     "status": "completed"
    },
    "tags": []
   },
   "source": [
    "Aquí sacamos en conclusión que sobrevivieron más mujeres que hombres."
   ]
  },
  {
   "cell_type": "code",
   "execution_count": 57,
   "id": "f856c573",
   "metadata": {
    "execution": {
     "iopub.execute_input": "2023-06-07T16:53:38.311166Z",
     "iopub.status.busy": "2023-06-07T16:53:38.310728Z",
     "iopub.status.idle": "2023-06-07T16:53:38.680692Z",
     "shell.execute_reply": "2023-06-07T16:53:38.679591Z"
    },
    "papermill": {
     "duration": 0.399001,
     "end_time": "2023-06-07T16:53:38.683089",
     "exception": false,
     "start_time": "2023-06-07T16:53:38.284088",
     "status": "completed"
    },
    "tags": []
   },
   "outputs": [
    {
     "data": {
      "image/png": "[encoded data removed]",
      "text/plain": [
       "<Figure size 640x480 with 1 Axes>"
      ]
     },
     "metadata": {},
     "output_type": "display_data"
    }
   ],
   "source": [
    "sns.pointplot(x='Pclass',\n",
    "             y='Survived',\n",
    "              data=train_df,\n",
    "             hue='Sex',\n",
    "             palette={'male':'g',\n",
    "                     'female':'m'},\n",
    "             markers=[\"^\", \"o\"],\n",
    "             linestyles=[\"-\", \"--\"])\n",
    "plt.title('Survivors by Class and by Sex')\n",
    "plt.show()"
   ]
  },
  {
   "cell_type": "markdown",
   "id": "979f8b8d",
   "metadata": {
    "papermill": {
     "duration": 0.025369,
     "end_time": "2023-06-07T16:53:38.734140",
     "exception": false,
     "start_time": "2023-06-07T16:53:38.708771",
     "status": "completed"
    },
    "tags": []
   },
   "source": [
    "En este gráfico confirmamos lo mismo que veíamos en los dos anteriores, que de los pasajeros, los que iban en 1ra. clase son los que más sobrevivieron y que sobrevivieron más mujeres que hombres."
   ]
  },
  {
   "cell_type": "code",
   "execution_count": 58,
   "id": "dce26296",
   "metadata": {
    "execution": {
     "iopub.execute_input": "2023-06-07T16:53:38.791188Z",
     "iopub.status.busy": "2023-06-07T16:53:38.790423Z",
     "iopub.status.idle": "2023-06-07T16:53:39.059860Z",
     "shell.execute_reply": "2023-06-07T16:53:39.058660Z"
    },
    "papermill": {
     "duration": 0.300773,
     "end_time": "2023-06-07T16:53:39.062245",
     "exception": false,
     "start_time": "2023-06-07T16:53:38.761472",
     "status": "completed"
    },
    "tags": []
   },
   "outputs": [
    {
     "data": {
      "image/png": "[encoded data removed]",
      "text/plain": [
       "<Figure size 640x480 with 1 Axes>"
      ]
     },
     "metadata": {},
     "output_type": "display_data"
    }
   ],
   "source": [
    "sns.barplot(x='Embarked', \n",
    "            y='Survived',\n",
    "            data=train_df,\n",
    "              palette='Set1',\n",
    "             edgecolor='black')\n",
    "plt.title('Survivors by Port of Embarkation')\n",
    "plt.show()"
   ]
  },
  {
   "cell_type": "markdown",
   "id": "1696f5e7",
   "metadata": {
    "papermill": {
     "duration": 0.0256,
     "end_time": "2023-06-07T16:53:39.113841",
     "exception": false,
     "start_time": "2023-06-07T16:53:39.088241",
     "status": "completed"
    },
    "tags": []
   },
   "source": [
    "De este gráfico observamos que según el pueto de embarcación, parece que sobrevieron más pasajeros procedentes de Cherbourg."
   ]
  },
  {
   "cell_type": "code",
   "execution_count": 59,
   "id": "87e48ee2",
   "metadata": {
    "execution": {
     "iopub.execute_input": "2023-06-07T16:53:39.168928Z",
     "iopub.status.busy": "2023-06-07T16:53:39.168172Z",
     "iopub.status.idle": "2023-06-07T16:53:39.476033Z",
     "shell.execute_reply": "2023-06-07T16:53:39.474971Z"
    },
    "papermill": {
     "duration": 0.337889,
     "end_time": "2023-06-07T16:53:39.478440",
     "exception": false,
     "start_time": "2023-06-07T16:53:39.140551",
     "status": "completed"
    },
    "tags": []
   },
   "outputs": [
    {
     "data": {
      "image/png": "[encoded data removed]",
      "text/plain": [
       "<Figure size 640x480 with 1 Axes>"
      ]
     },
     "metadata": {},
     "output_type": "display_data"
    }
   ],
   "source": [
    "sns.violinplot(x='Age',\n",
    "           y='Sex',\n",
    "           data=train_df,\n",
    "            hue='Survived')\n",
    "plt.title('Age vs Sex vs Survived')\n",
    "plt.show()"
   ]
  },
  {
   "cell_type": "markdown",
   "id": "1147e5e4",
   "metadata": {
    "papermill": {
     "duration": 0.026456,
     "end_time": "2023-06-07T16:53:39.531595",
     "exception": false,
     "start_time": "2023-06-07T16:53:39.505139",
     "status": "completed"
    },
    "tags": []
   },
   "source": [
    "De este gráfico podemos observar que la mayoría de los pasajeros estaba entre los 20 y los 40 años, tanto hombres como mujeres. También podemos apreciar que sobrevivieron más niños y niñas que personas mayores de 60."
   ]
  },
  {
   "cell_type": "code",
   "execution_count": 60,
   "id": "cb0b4896",
   "metadata": {
    "execution": {
     "iopub.execute_input": "2023-06-07T16:53:39.587399Z",
     "iopub.status.busy": "2023-06-07T16:53:39.586662Z",
     "iopub.status.idle": "2023-06-07T16:53:40.794264Z",
     "shell.execute_reply": "2023-06-07T16:53:40.793416Z"
    },
    "papermill": {
     "duration": 1.238279,
     "end_time": "2023-06-07T16:53:40.796756",
     "exception": false,
     "start_time": "2023-06-07T16:53:39.558477",
     "status": "completed"
    },
    "tags": []
   },
   "outputs": [
    {
     "data": {
      "image/png": "[encoded data removed]",
      "text/plain": [
       "<Figure size 1598x500 with 3 Axes>"
      ]
     },
     "metadata": {},
     "output_type": "display_data"
    }
   ],
   "source": [
    "sns.relplot(x='Age', \n",
    "            y='Fare',\n",
    "           data=train_df,\n",
    "           col='Pclass',\n",
    "           hue='Sex')\n",
    "plt.show()"
   ]
  },
  {
   "cell_type": "markdown",
   "id": "71d06314",
   "metadata": {
    "papermill": {
     "duration": 0.028021,
     "end_time": "2023-06-07T16:53:40.853730",
     "exception": false,
     "start_time": "2023-06-07T16:53:40.825709",
     "status": "completed"
    },
    "tags": []
   },
   "source": [
    "Por último, en este gráfico encontramos que los tickets de segunda y tercera clase tienen un precio similar, mientras que los de primera clase son más caros. Además, en los tickets de primera clase parece que el precio es superior para las mujeres que para los hombres. "
   ]
  },
  {
   "cell_type": "markdown",
   "id": "bb702ae8",
   "metadata": {
    "papermill": {
     "duration": 0.027726,
     "end_time": "2023-06-07T16:53:40.909456",
     "exception": false,
     "start_time": "2023-06-07T16:53:40.881730",
     "status": "completed"
    },
    "tags": []
   },
   "source": [
    "# **Feature Engineering**"
   ]
  },
  {
   "cell_type": "markdown",
   "id": "7e511b90",
   "metadata": {
    "papermill": {
     "duration": 0.027688,
     "end_time": "2023-06-07T16:53:40.965092",
     "exception": false,
     "start_time": "2023-06-07T16:53:40.937404",
     "status": "completed"
    },
    "tags": []
   },
   "source": [
    "Ahora vamos a transformar las variables 'Sex' y 'Embarked' en las variables categóricas 'Categ_Sex' y 'Categ_Embarked', respectivamente. Utilizaremos 1 para hombre y 0 para mujer, así como 0 para 'S', 1 para 'C' y 2 para 'Q'. También, vamos a crear una nueva variable llamada 'Family', en la que recogeremos si tienen familia o no (0 para no y 1 para sí) según las variables 'SibSp', 'Parch'."
   ]
  },
  {
   "cell_type": "code",
   "execution_count": 61,
   "id": "beddb8d1",
   "metadata": {
    "execution": {
     "iopub.execute_input": "2023-06-07T16:53:41.023921Z",
     "iopub.status.busy": "2023-06-07T16:53:41.022963Z",
     "iopub.status.idle": "2023-06-07T16:53:41.028115Z",
     "shell.execute_reply": "2023-06-07T16:53:41.027426Z"
    },
    "papermill": {
     "duration": 0.037088,
     "end_time": "2023-06-07T16:53:41.030072",
     "exception": false,
     "start_time": "2023-06-07T16:53:40.992984",
     "status": "completed"
    },
    "tags": []
   },
   "outputs": [],
   "source": [
    "train_df['Sex'].replace('male', 1, inplace=True)"
   ]
  },
  {
   "cell_type": "code",
   "execution_count": 62,
   "id": "77950167",
   "metadata": {
    "execution": {
     "iopub.execute_input": "2023-06-07T16:53:41.088481Z",
     "iopub.status.busy": "2023-06-07T16:53:41.087743Z",
     "iopub.status.idle": "2023-06-07T16:53:41.093192Z",
     "shell.execute_reply": "2023-06-07T16:53:41.092415Z"
    },
    "papermill": {
     "duration": 0.037068,
     "end_time": "2023-06-07T16:53:41.095255",
     "exception": false,
     "start_time": "2023-06-07T16:53:41.058187",
     "status": "completed"
    },
    "tags": []
   },
   "outputs": [],
   "source": [
    "train_df['Sex'].replace('female', 0, inplace=True)"
   ]
  },
  {
   "cell_type": "code",
   "execution_count": 63,
   "id": "81f31baa",
   "metadata": {
    "execution": {
     "iopub.execute_input": "2023-06-07T16:53:41.153663Z",
     "iopub.status.busy": "2023-06-07T16:53:41.153233Z",
     "iopub.status.idle": "2023-06-07T16:53:41.158551Z",
     "shell.execute_reply": "2023-06-07T16:53:41.157774Z"
    },
    "papermill": {
     "duration": 0.036962,
     "end_time": "2023-06-07T16:53:41.160727",
     "exception": false,
     "start_time": "2023-06-07T16:53:41.123765",
     "status": "completed"
    },
    "tags": []
   },
   "outputs": [],
   "source": [
    "test_df['Sex'].replace('male', 1, inplace=True)"
   ]
  },
  {
   "cell_type": "code",
   "execution_count": 64,
   "id": "9a1c76e9",
   "metadata": {
    "execution": {
     "iopub.execute_input": "2023-06-07T16:53:41.220925Z",
     "iopub.status.busy": "2023-06-07T16:53:41.219710Z",
     "iopub.status.idle": "2023-06-07T16:53:41.225327Z",
     "shell.execute_reply": "2023-06-07T16:53:41.224588Z"
    },
    "papermill": {
     "duration": 0.037841,
     "end_time": "2023-06-07T16:53:41.227466",
     "exception": false,
     "start_time": "2023-06-07T16:53:41.189625",
     "status": "completed"
    },
    "tags": []
   },
   "outputs": [],
   "source": [
    "test_df['Sex'].replace('female', 0, inplace=True)"
   ]
  },
  {
   "cell_type": "code",
   "execution_count": 65,
   "id": "3b44cee6",
   "metadata": {
    "execution": {
     "iopub.execute_input": "2023-06-07T16:53:41.286829Z",
     "iopub.status.busy": "2023-06-07T16:53:41.285582Z",
     "iopub.status.idle": "2023-06-07T16:53:41.292596Z",
     "shell.execute_reply": "2023-06-07T16:53:41.291167Z"
    },
    "papermill": {
     "duration": 0.039038,
     "end_time": "2023-06-07T16:53:41.295187",
     "exception": false,
     "start_time": "2023-06-07T16:53:41.256149",
     "status": "completed"
    },
    "tags": []
   },
   "outputs": [],
   "source": [
    "train_df['Embarked']=train_df['Embarked'].replace({'S':0, 'C':1, 'Q': 2})"
   ]
  },
  {
   "cell_type": "code",
   "execution_count": 66,
   "id": "7b46f132",
   "metadata": {
    "execution": {
     "iopub.execute_input": "2023-06-07T16:53:41.353601Z",
     "iopub.status.busy": "2023-06-07T16:53:41.353193Z",
     "iopub.status.idle": "2023-06-07T16:53:41.359786Z",
     "shell.execute_reply": "2023-06-07T16:53:41.358699Z"
    },
    "papermill": {
     "duration": 0.038225,
     "end_time": "2023-06-07T16:53:41.361893",
     "exception": false,
     "start_time": "2023-06-07T16:53:41.323668",
     "status": "completed"
    },
    "tags": []
   },
   "outputs": [],
   "source": [
    "test_df['Embarked']=test_df['Embarked'].replace({'S':0, 'C':1, 'Q': 2})"
   ]
  },
  {
   "cell_type": "code",
   "execution_count": 67,
   "id": "74978637",
   "metadata": {
    "execution": {
     "iopub.execute_input": "2023-06-07T16:53:41.420787Z",
     "iopub.status.busy": "2023-06-07T16:53:41.419407Z",
     "iopub.status.idle": "2023-06-07T16:53:41.425258Z",
     "shell.execute_reply": "2023-06-07T16:53:41.424478Z"
    },
    "papermill": {
     "duration": 0.037742,
     "end_time": "2023-06-07T16:53:41.427591",
     "exception": false,
     "start_time": "2023-06-07T16:53:41.389849",
     "status": "completed"
    },
    "tags": []
   },
   "outputs": [],
   "source": [
    "train_df['Size_family']=train_df['SibSp'] + train_df['Parch']"
   ]
  },
  {
   "cell_type": "code",
   "execution_count": 68,
   "id": "c91e66ab",
   "metadata": {
    "execution": {
     "iopub.execute_input": "2023-06-07T16:53:41.486214Z",
     "iopub.status.busy": "2023-06-07T16:53:41.485822Z",
     "iopub.status.idle": "2023-06-07T16:53:41.493004Z",
     "shell.execute_reply": "2023-06-07T16:53:41.491950Z"
    },
    "papermill": {
     "duration": 0.038897,
     "end_time": "2023-06-07T16:53:41.495054",
     "exception": false,
     "start_time": "2023-06-07T16:53:41.456157",
     "status": "completed"
    },
    "tags": []
   },
   "outputs": [],
   "source": [
    "train_df['Family']=train_df['Size_family'].apply(lambda val:1 if val>=1 else 0)"
   ]
  },
  {
   "cell_type": "code",
   "execution_count": 69,
   "id": "fff31043",
   "metadata": {
    "execution": {
     "iopub.execute_input": "2023-06-07T16:53:41.561163Z",
     "iopub.status.busy": "2023-06-07T16:53:41.560439Z",
     "iopub.status.idle": "2023-06-07T16:53:41.565993Z",
     "shell.execute_reply": "2023-06-07T16:53:41.564890Z"
    },
    "papermill": {
     "duration": 0.037715,
     "end_time": "2023-06-07T16:53:41.568319",
     "exception": false,
     "start_time": "2023-06-07T16:53:41.530604",
     "status": "completed"
    },
    "tags": []
   },
   "outputs": [],
   "source": [
    "test_df['Size_family']=test_df['SibSp'] + test_df['Parch']"
   ]
  },
  {
   "cell_type": "code",
   "execution_count": 70,
   "id": "1dfc56e9",
   "metadata": {
    "execution": {
     "iopub.execute_input": "2023-06-07T16:53:41.626679Z",
     "iopub.status.busy": "2023-06-07T16:53:41.626054Z",
     "iopub.status.idle": "2023-06-07T16:53:41.633017Z",
     "shell.execute_reply": "2023-06-07T16:53:41.631839Z"
    },
    "papermill": {
     "duration": 0.03941,
     "end_time": "2023-06-07T16:53:41.635690",
     "exception": false,
     "start_time": "2023-06-07T16:53:41.596280",
     "status": "completed"
    },
    "tags": []
   },
   "outputs": [],
   "source": [
    "test_df['Family']=test_df['Size_family'].apply(lambda val:1 if val>=1 else 0)"
   ]
  },
  {
   "cell_type": "markdown",
   "id": "7c6340ec",
   "metadata": {
    "papermill": {
     "duration": 0.02827,
     "end_time": "2023-06-07T16:53:41.693772",
     "exception": false,
     "start_time": "2023-06-07T16:53:41.665502",
     "status": "completed"
    },
    "tags": []
   },
   "source": [
    "Finalmente, vamos a eliminar las columnas que no son útiles para el algoritmo ('PassengerId', 'Name', 'SibSp', 'Parch', 'Size_family', 'Ticket' y 'Title')"
   ]
  },
  {
   "cell_type": "code",
   "execution_count": 71,
   "id": "13ae5c55",
   "metadata": {
    "execution": {
     "iopub.execute_input": "2023-06-07T16:53:41.752152Z",
     "iopub.status.busy": "2023-06-07T16:53:41.751796Z",
     "iopub.status.idle": "2023-06-07T16:53:41.758125Z",
     "shell.execute_reply": "2023-06-07T16:53:41.757057Z"
    },
    "papermill": {
     "duration": 0.038543,
     "end_time": "2023-06-07T16:53:41.760391",
     "exception": false,
     "start_time": "2023-06-07T16:53:41.721848",
     "status": "completed"
    },
    "tags": []
   },
   "outputs": [],
   "source": [
    "train_data=train_df.drop(['PassengerId', 'Name', 'SibSp', 'Parch', 'Size_family', 'Ticket', 'Title'], axis=1)"
   ]
  },
  {
   "cell_type": "code",
   "execution_count": 72,
   "id": "a3199ea2",
   "metadata": {
    "execution": {
     "iopub.execute_input": "2023-06-07T16:53:41.818935Z",
     "iopub.status.busy": "2023-06-07T16:53:41.817797Z",
     "iopub.status.idle": "2023-06-07T16:53:41.824575Z",
     "shell.execute_reply": "2023-06-07T16:53:41.823270Z"
    },
    "papermill": {
     "duration": 0.038369,
     "end_time": "2023-06-07T16:53:41.826921",
     "exception": false,
     "start_time": "2023-06-07T16:53:41.788552",
     "status": "completed"
    },
    "tags": []
   },
   "outputs": [],
   "source": [
    "test_data=test_df.drop(['PassengerId', 'Name', 'SibSp', 'Parch', 'Size_family','Ticket', 'Title'], axis=1)"
   ]
  },
  {
   "cell_type": "code",
   "execution_count": 73,
   "id": "e0e0d6d2",
   "metadata": {
    "execution": {
     "iopub.execute_input": "2023-06-07T16:53:41.886421Z",
     "iopub.status.busy": "2023-06-07T16:53:41.885686Z",
     "iopub.status.idle": "2023-06-07T16:53:41.897592Z",
     "shell.execute_reply": "2023-06-07T16:53:41.896455Z"
    },
    "papermill": {
     "duration": 0.044065,
     "end_time": "2023-06-07T16:53:41.899657",
     "exception": false,
     "start_time": "2023-06-07T16:53:41.855592",
     "status": "completed"
    },
    "tags": []
   },
   "outputs": [
    {
     "data": {
      "text/html": [
       "<div>\n",
       "<style scoped>\n",
       "    .dataframe tbody tr th:only-of-type {\n",
       "        vertical-align: middle;\n",
       "    }\n",
       "\n",
       "    .dataframe tbody tr th {\n",
       "        vertical-align: top;\n",
       "    }\n",
       "\n",
       "    .dataframe thead th {\n",
       "        text-align: right;\n",
       "    }\n",
       "</style>\n",
       "<table border=\"1\" class=\"dataframe\">\n",
       "  <thead>\n",
       "    <tr style=\"text-align: right;\">\n",
       "      <th></th>\n",
       "      <th>Survived</th>\n",
       "      <th>Pclass</th>\n",
       "      <th>Sex</th>\n",
       "      <th>Age</th>\n",
       "      <th>Fare</th>\n",
       "      <th>Embarked</th>\n",
       "      <th>Family</th>\n",
       "    </tr>\n",
       "  </thead>\n",
       "  <tbody>\n",
       "    <tr>\n",
       "      <th>0</th>\n",
       "      <td>0</td>\n",
       "      <td>3</td>\n",
       "      <td>1</td>\n",
       "      <td>22.0</td>\n",
       "      <td>7.2500</td>\n",
       "      <td>0</td>\n",
       "      <td>1</td>\n",
       "    </tr>\n",
       "    <tr>\n",
       "      <th>1</th>\n",
       "      <td>1</td>\n",
       "      <td>1</td>\n",
       "      <td>0</td>\n",
       "      <td>38.0</td>\n",
       "      <td>71.2833</td>\n",
       "      <td>1</td>\n",
       "      <td>1</td>\n",
       "    </tr>\n",
       "    <tr>\n",
       "      <th>2</th>\n",
       "      <td>1</td>\n",
       "      <td>3</td>\n",
       "      <td>0</td>\n",
       "      <td>26.0</td>\n",
       "      <td>7.9250</td>\n",
       "      <td>0</td>\n",
       "      <td>0</td>\n",
       "    </tr>\n",
       "    <tr>\n",
       "      <th>3</th>\n",
       "      <td>1</td>\n",
       "      <td>1</td>\n",
       "      <td>0</td>\n",
       "      <td>35.0</td>\n",
       "      <td>53.1000</td>\n",
       "      <td>0</td>\n",
       "      <td>1</td>\n",
       "    </tr>\n",
       "    <tr>\n",
       "      <th>4</th>\n",
       "      <td>0</td>\n",
       "      <td>3</td>\n",
       "      <td>1</td>\n",
       "      <td>35.0</td>\n",
       "      <td>8.0500</td>\n",
       "      <td>0</td>\n",
       "      <td>0</td>\n",
       "    </tr>\n",
       "  </tbody>\n",
       "</table>\n",
       "</div>"
      ],
      "text/plain": [
       "   Survived  Pclass  Sex   Age     Fare  Embarked  Family\n",
       "0         0       3    1  22.0   7.2500         0       1\n",
       "1         1       1    0  38.0  71.2833         1       1\n",
       "2         1       3    0  26.0   7.9250         0       0\n",
       "3         1       1    0  35.0  53.1000         0       1\n",
       "4         0       3    1  35.0   8.0500         0       0"
      ]
     },
     "execution_count": 73,
     "metadata": {},
     "output_type": "execute_result"
    }
   ],
   "source": [
    "train_data.head()"
   ]
  },
  {
   "cell_type": "code",
   "execution_count": 74,
   "id": "5b920e7d",
   "metadata": {
    "execution": {
     "iopub.execute_input": "2023-06-07T16:53:41.959531Z",
     "iopub.status.busy": "2023-06-07T16:53:41.958833Z",
     "iopub.status.idle": "2023-06-07T16:53:41.969994Z",
     "shell.execute_reply": "2023-06-07T16:53:41.968986Z"
    },
    "papermill": {
     "duration": 0.043614,
     "end_time": "2023-06-07T16:53:41.972098",
     "exception": false,
     "start_time": "2023-06-07T16:53:41.928484",
     "status": "completed"
    },
    "tags": []
   },
   "outputs": [
    {
     "data": {
      "text/html": [
       "<div>\n",
       "<style scoped>\n",
       "    .dataframe tbody tr th:only-of-type {\n",
       "        vertical-align: middle;\n",
       "    }\n",
       "\n",
       "    .dataframe tbody tr th {\n",
       "        vertical-align: top;\n",
       "    }\n",
       "\n",
       "    .dataframe thead th {\n",
       "        text-align: right;\n",
       "    }\n",
       "</style>\n",
       "<table border=\"1\" class=\"dataframe\">\n",
       "  <thead>\n",
       "    <tr style=\"text-align: right;\">\n",
       "      <th></th>\n",
       "      <th>Pclass</th>\n",
       "      <th>Sex</th>\n",
       "      <th>Age</th>\n",
       "      <th>Fare</th>\n",
       "      <th>Embarked</th>\n",
       "      <th>Family</th>\n",
       "    </tr>\n",
       "  </thead>\n",
       "  <tbody>\n",
       "    <tr>\n",
       "      <th>0</th>\n",
       "      <td>3</td>\n",
       "      <td>1</td>\n",
       "      <td>34.5</td>\n",
       "      <td>7.8292</td>\n",
       "      <td>2</td>\n",
       "      <td>0</td>\n",
       "    </tr>\n",
       "    <tr>\n",
       "      <th>1</th>\n",
       "      <td>3</td>\n",
       "      <td>0</td>\n",
       "      <td>47.0</td>\n",
       "      <td>7.0000</td>\n",
       "      <td>0</td>\n",
       "      <td>1</td>\n",
       "    </tr>\n",
       "    <tr>\n",
       "      <th>2</th>\n",
       "      <td>2</td>\n",
       "      <td>1</td>\n",
       "      <td>62.0</td>\n",
       "      <td>9.6875</td>\n",
       "      <td>2</td>\n",
       "      <td>0</td>\n",
       "    </tr>\n",
       "    <tr>\n",
       "      <th>3</th>\n",
       "      <td>3</td>\n",
       "      <td>1</td>\n",
       "      <td>27.0</td>\n",
       "      <td>8.6625</td>\n",
       "      <td>0</td>\n",
       "      <td>0</td>\n",
       "    </tr>\n",
       "    <tr>\n",
       "      <th>4</th>\n",
       "      <td>3</td>\n",
       "      <td>0</td>\n",
       "      <td>22.0</td>\n",
       "      <td>12.2875</td>\n",
       "      <td>0</td>\n",
       "      <td>1</td>\n",
       "    </tr>\n",
       "  </tbody>\n",
       "</table>\n",
       "</div>"
      ],
      "text/plain": [
       "   Pclass  Sex   Age     Fare  Embarked  Family\n",
       "0       3    1  34.5   7.8292         2       0\n",
       "1       3    0  47.0   7.0000         0       1\n",
       "2       2    1  62.0   9.6875         2       0\n",
       "3       3    1  27.0   8.6625         0       0\n",
       "4       3    0  22.0  12.2875         0       1"
      ]
     },
     "execution_count": 74,
     "metadata": {},
     "output_type": "execute_result"
    }
   ],
   "source": [
    "test_data.head()"
   ]
  },
  {
   "cell_type": "code",
   "execution_count": 75,
   "id": "49f90328",
   "metadata": {
    "execution": {
     "iopub.execute_input": "2023-06-07T16:53:42.033412Z",
     "iopub.status.busy": "2023-06-07T16:53:42.032892Z",
     "iopub.status.idle": "2023-06-07T16:53:42.049060Z",
     "shell.execute_reply": "2023-06-07T16:53:42.047452Z"
    },
    "papermill": {
     "duration": 0.051399,
     "end_time": "2023-06-07T16:53:42.052024",
     "exception": false,
     "start_time": "2023-06-07T16:53:42.000625",
     "status": "completed"
    },
    "tags": []
   },
   "outputs": [
    {
     "name": "stdout",
     "output_type": "stream",
     "text": [
      "<class 'pandas.core.frame.DataFrame'>\n",
      "RangeIndex: 891 entries, 0 to 890\n",
      "Data columns (total 7 columns):\n",
      " #   Column    Non-Null Count  Dtype  \n",
      "---  ------    --------------  -----  \n",
      " 0   Survived  891 non-null    int64  \n",
      " 1   Pclass    891 non-null    int64  \n",
      " 2   Sex       891 non-null    int64  \n",
      " 3   Age       891 non-null    float64\n",
      " 4   Fare      891 non-null    float64\n",
      " 5   Embarked  891 non-null    int64  \n",
      " 6   Family    891 non-null    int64  \n",
      "dtypes: float64(2), int64(5)\n",
      "memory usage: 48.9 KB\n"
     ]
    }
   ],
   "source": [
    "train_data.info()"
   ]
  },
  {
   "cell_type": "markdown",
   "id": "34f28a3c",
   "metadata": {
    "papermill": {
     "duration": 0.028793,
     "end_time": "2023-06-07T16:53:42.114538",
     "exception": false,
     "start_time": "2023-06-07T16:53:42.085745",
     "status": "completed"
    },
    "tags": []
   },
   "source": [
    "# **Standardizing Data**"
   ]
  },
  {
   "cell_type": "code",
   "execution_count": 76,
   "id": "5fbac2b7",
   "metadata": {
    "execution": {
     "iopub.execute_input": "2023-06-07T16:53:42.181130Z",
     "iopub.status.busy": "2023-06-07T16:53:42.180187Z",
     "iopub.status.idle": "2023-06-07T16:53:42.211082Z",
     "shell.execute_reply": "2023-06-07T16:53:42.210025Z"
    },
    "papermill": {
     "duration": 0.0693,
     "end_time": "2023-06-07T16:53:42.213356",
     "exception": false,
     "start_time": "2023-06-07T16:53:42.144056",
     "status": "completed"
    },
    "tags": []
   },
   "outputs": [
    {
     "data": {
      "text/html": [
       "<div>\n",
       "<style scoped>\n",
       "    .dataframe tbody tr th:only-of-type {\n",
       "        vertical-align: middle;\n",
       "    }\n",
       "\n",
       "    .dataframe tbody tr th {\n",
       "        vertical-align: top;\n",
       "    }\n",
       "\n",
       "    .dataframe thead th {\n",
       "        text-align: right;\n",
       "    }\n",
       "</style>\n",
       "<table border=\"1\" class=\"dataframe\">\n",
       "  <thead>\n",
       "    <tr style=\"text-align: right;\">\n",
       "      <th></th>\n",
       "      <th>Survived</th>\n",
       "      <th>Pclass</th>\n",
       "      <th>Sex</th>\n",
       "      <th>Age</th>\n",
       "      <th>Fare</th>\n",
       "      <th>Embarked</th>\n",
       "      <th>Family</th>\n",
       "    </tr>\n",
       "  </thead>\n",
       "  <tbody>\n",
       "    <tr>\n",
       "      <th>0</th>\n",
       "      <td>0.0</td>\n",
       "      <td>1.0</td>\n",
       "      <td>1.0</td>\n",
       "      <td>0.271174</td>\n",
       "      <td>0.014151</td>\n",
       "      <td>0.0</td>\n",
       "      <td>1.0</td>\n",
       "    </tr>\n",
       "    <tr>\n",
       "      <th>1</th>\n",
       "      <td>1.0</td>\n",
       "      <td>0.0</td>\n",
       "      <td>0.0</td>\n",
       "      <td>0.472229</td>\n",
       "      <td>0.139136</td>\n",
       "      <td>0.5</td>\n",
       "      <td>1.0</td>\n",
       "    </tr>\n",
       "    <tr>\n",
       "      <th>2</th>\n",
       "      <td>1.0</td>\n",
       "      <td>1.0</td>\n",
       "      <td>0.0</td>\n",
       "      <td>0.321438</td>\n",
       "      <td>0.015469</td>\n",
       "      <td>0.0</td>\n",
       "      <td>0.0</td>\n",
       "    </tr>\n",
       "    <tr>\n",
       "      <th>3</th>\n",
       "      <td>1.0</td>\n",
       "      <td>0.0</td>\n",
       "      <td>0.0</td>\n",
       "      <td>0.434531</td>\n",
       "      <td>0.103644</td>\n",
       "      <td>0.0</td>\n",
       "      <td>1.0</td>\n",
       "    </tr>\n",
       "    <tr>\n",
       "      <th>4</th>\n",
       "      <td>0.0</td>\n",
       "      <td>1.0</td>\n",
       "      <td>1.0</td>\n",
       "      <td>0.434531</td>\n",
       "      <td>0.015713</td>\n",
       "      <td>0.0</td>\n",
       "      <td>0.0</td>\n",
       "    </tr>\n",
       "  </tbody>\n",
       "</table>\n",
       "</div>"
      ],
      "text/plain": [
       "   Survived  Pclass  Sex       Age      Fare  Embarked  Family\n",
       "0       0.0     1.0  1.0  0.271174  0.014151       0.0     1.0\n",
       "1       1.0     0.0  0.0  0.472229  0.139136       0.5     1.0\n",
       "2       1.0     1.0  0.0  0.321438  0.015469       0.0     0.0\n",
       "3       1.0     0.0  0.0  0.434531  0.103644       0.0     1.0\n",
       "4       0.0     1.0  1.0  0.434531  0.015713       0.0     0.0"
      ]
     },
     "execution_count": 76,
     "metadata": {},
     "output_type": "execute_result"
    }
   ],
   "source": [
    "def normalize(df):\n",
    "    result=df.copy()\n",
    "    for feature in df.columns:\n",
    "        max_value=df[feature].max()\n",
    "        min_value=df[feature].min()\n",
    "        result[feature] =(df[feature] - min_value)/(max_value - min_value)\n",
    "    return result\n",
    "\n",
    "train_data=normalize(train_data)\n",
    "test_data=normalize(test_data)\n",
    "\n",
    "train_data.head()"
   ]
  },
  {
   "cell_type": "markdown",
   "id": "4b5b1f06",
   "metadata": {
    "papermill": {
     "duration": 0.028513,
     "end_time": "2023-06-07T16:53:42.271702",
     "exception": false,
     "start_time": "2023-06-07T16:53:42.243189",
     "status": "completed"
    },
    "tags": []
   },
   "source": [
    "# **Correlation Analysis**"
   ]
  },
  {
   "cell_type": "code",
   "execution_count": 77,
   "id": "643e7464",
   "metadata": {
    "execution": {
     "iopub.execute_input": "2023-06-07T16:53:42.347162Z",
     "iopub.status.busy": "2023-06-07T16:53:42.345374Z",
     "iopub.status.idle": "2023-06-07T16:53:42.798115Z",
     "shell.execute_reply": "2023-06-07T16:53:42.797221Z"
    },
    "papermill": {
     "duration": 0.489619,
     "end_time": "2023-06-07T16:53:42.801140",
     "exception": false,
     "start_time": "2023-06-07T16:53:42.311521",
     "status": "completed"
    },
    "tags": []
   },
   "outputs": [
    {
     "data": {
      "image/png": "[encoded data removed]",
      "text/plain": [
       "<Figure size 640x480 with 2 Axes>"
      ]
     },
     "metadata": {},
     "output_type": "display_data"
    }
   ],
   "source": [
    "sns.heatmap(train_data.corr(), vmin=-1, vmax=1, annot=True, cmap='BrBG')\n",
    "plt.title('Correlation Heatmap')\n",
    "plt.show()"
   ]
  },
  {
   "cell_type": "markdown",
   "id": "774dcbd9",
   "metadata": {
    "papermill": {
     "duration": 0.029556,
     "end_time": "2023-06-07T16:53:42.865112",
     "exception": false,
     "start_time": "2023-06-07T16:53:42.835556",
     "status": "completed"
    },
    "tags": []
   },
   "source": [
    "# **Random Forest Classification**"
   ]
  },
  {
   "cell_type": "code",
   "execution_count": 78,
   "id": "45e0154b",
   "metadata": {
    "execution": {
     "iopub.execute_input": "2023-06-07T16:53:42.926795Z",
     "iopub.status.busy": "2023-06-07T16:53:42.926061Z",
     "iopub.status.idle": "2023-06-07T16:53:43.341420Z",
     "shell.execute_reply": "2023-06-07T16:53:43.340600Z"
    },
    "papermill": {
     "duration": 0.449035,
     "end_time": "2023-06-07T16:53:43.344001",
     "exception": false,
     "start_time": "2023-06-07T16:53:42.894966",
     "status": "completed"
    },
    "tags": []
   },
   "outputs": [],
   "source": [
    "from sklearn.model_selection import train_test_split\n",
    "from sklearn.ensemble import RandomForestClassifier\n",
    "from sklearn.metrics import accuracy_score, classification_report, confusion_matrix"
   ]
  },
  {
   "cell_type": "code",
   "execution_count": 79,
   "id": "eeb33324",
   "metadata": {
    "execution": {
     "iopub.execute_input": "2023-06-07T16:53:43.405794Z",
     "iopub.status.busy": "2023-06-07T16:53:43.404777Z",
     "iopub.status.idle": "2023-06-07T16:53:43.410877Z",
     "shell.execute_reply": "2023-06-07T16:53:43.409858Z"
    },
    "papermill": {
     "duration": 0.039181,
     "end_time": "2023-06-07T16:53:43.413034",
     "exception": false,
     "start_time": "2023-06-07T16:53:43.373853",
     "status": "completed"
    },
    "tags": []
   },
   "outputs": [],
   "source": [
    "train_data=train_data.sample(frac=1).reset_index(drop=True)"
   ]
  },
  {
   "cell_type": "code",
   "execution_count": 80,
   "id": "968769fa",
   "metadata": {},
   "outputs": [],
   "source": [
    "train, val = train_test_split(train_data, test_size=0.2, random_state=1)"
   ]
  },
  {
   "cell_type": "code",
   "execution_count": 81,
   "id": "e79eaadb",
   "metadata": {},
   "outputs": [],
   "source": [
    "X_train=train.drop('Survived', axis=1)\n",
    "y_train= train['Survived']\n",
    "X_val= val.drop('Survived', axis=1)\n",
    "y_val = val['Survived']"
   ]
  },
  {
   "cell_type": "code",
   "execution_count": 82,
   "id": "48efccbf",
   "metadata": {
    "execution": {
     "iopub.execute_input": "2023-06-07T16:53:43.616343Z",
     "iopub.status.busy": "2023-06-07T16:53:43.615982Z",
     "iopub.status.idle": "2023-06-07T16:53:43.640015Z",
     "shell.execute_reply": "2023-06-07T16:53:43.639085Z"
    },
    "papermill": {
     "duration": 0.058679,
     "end_time": "2023-06-07T16:53:43.642723",
     "exception": false,
     "start_time": "2023-06-07T16:53:43.584044",
     "status": "completed"
    },
    "tags": []
   },
   "outputs": [],
   "source": [
    "model=RandomForestClassifier(random_state=1)\n",
    "model.fit(X_train, y_train)\n",
    "y_pred=model.predict(X_val)"
   ]
  },
  {
   "cell_type": "markdown",
   "id": "e92367ac",
   "metadata": {},
   "source": [
    "**Evaluation the model**"
   ]
  },
  {
   "cell_type": "code",
   "execution_count": 83,
   "id": "3fa980fd",
   "metadata": {},
   "outputs": [
    {
     "data": {
      "text/plain": [
       "0.8268156424581006"
      ]
     },
     "execution_count": 83,
     "metadata": {},
     "output_type": "execute_result"
    }
   ],
   "source": [
    "accuracy_score(y_val, y_pred)"
   ]
  },
  {
   "cell_type": "code",
   "execution_count": 84,
   "id": "297b31bc",
   "metadata": {},
   "outputs": [
    {
     "name": "stdout",
     "output_type": "stream",
     "text": [
      "[[90 14]\n",
      " [17 58]]\n"
     ]
    }
   ],
   "source": [
    "print(confusion_matrix(y_val, y_pred))"
   ]
  },
  {
   "cell_type": "code",
   "execution_count": 85,
   "id": "af860cde",
   "metadata": {},
   "outputs": [
    {
     "name": "stdout",
     "output_type": "stream",
     "text": [
      "              precision    recall  f1-score   support\n",
      "\n",
      "         0.0       0.84      0.87      0.85       104\n",
      "         1.0       0.81      0.77      0.79        75\n",
      "\n",
      "    accuracy                           0.83       179\n",
      "   macro avg       0.82      0.82      0.82       179\n",
      "weighted avg       0.83      0.83      0.83       179\n",
      "\n"
     ]
    }
   ],
   "source": [
    "print(classification_report(y_val, y_pred))"
   ]
  },
  {
   "cell_type": "markdown",
   "id": "89f1ddb1",
   "metadata": {},
   "source": [
    "**Getting the Test Set Predictions**"
   ]
  },
  {
   "cell_type": "code",
   "execution_count": 86,
   "id": "11f4496b",
   "metadata": {},
   "outputs": [],
   "source": [
    "test_pred=model.predict(test_data)"
   ]
  },
  {
   "cell_type": "code",
   "execution_count": 87,
   "id": "4ac2e7b8",
   "metadata": {},
   "outputs": [
    {
     "data": {
      "text/plain": [
       "(418,)"
      ]
     },
     "execution_count": 87,
     "metadata": {},
     "output_type": "execute_result"
    }
   ],
   "source": [
    "test_pred.shape"
   ]
  },
  {
   "cell_type": "code",
   "execution_count": 88,
   "id": "29a96300",
   "metadata": {},
   "outputs": [],
   "source": [
    "test_pred=test_pred.astype(int)"
   ]
  },
  {
   "cell_type": "code",
   "execution_count": 89,
   "id": "6e9a9dab",
   "metadata": {
    "execution": {
     "iopub.execute_input": "2023-06-07T16:53:43.704271Z",
     "iopub.status.busy": "2023-06-07T16:53:43.703897Z",
     "iopub.status.idle": "2023-06-07T16:53:43.717914Z",
     "shell.execute_reply": "2023-06-07T16:53:43.716727Z"
    },
    "papermill": {
     "duration": 0.047341,
     "end_time": "2023-06-07T16:53:43.720241",
     "exception": false,
     "start_time": "2023-06-07T16:53:43.672900",
     "status": "completed"
    },
    "tags": []
   },
   "outputs": [
    {
     "name": "stdout",
     "output_type": "stream",
     "text": [
      "Your submission was successfully saved!\n"
     ]
    }
   ],
   "source": [
    "output= pd.DataFrame({'PassengerId':test_df.PassengerId, 'Survived': test_pred})\n",
    "output.to_csv('submission2.csv', index=False)\n",
    "print('Your submission was successfully saved!')"
   ]
  }
 ],
 "metadata": {
  "kernelspec": {
   "display_name": "Python 3 (ipykernel)",
   "language": "python",
   "name": "python3"
  },
  "language_info": {
   "codemirror_mode": {
    "name": "ipython",
    "version": 3
   },
   "file_extension": ".py",
   "mimetype": "text/x-python",
   "name": "python",
   "nbconvert_exporter": "python",
   "pygments_lexer": "ipython3",
   "version": "3.9.13"
  },
  "papermill": {
   "default_parameters": {},
   "duration": 23.197826,
   "end_time": "2023-06-07T16:53:44.774406",
   "environment_variables": {},
   "exception": null,
   "input_path": "__notebook__.ipynb",
   "output_path": "__notebook__.ipynb",
   "parameters": {},
   "start_time": "2023-06-07T16:53:21.576580",
   "version": "2.4.0"
  }
 },
 "nbformat": 4,
 "nbformat_minor": 5
}
