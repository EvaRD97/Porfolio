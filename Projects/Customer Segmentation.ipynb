{
 "cells": [
  {
   "cell_type": "markdown",
   "id": "be35736d",
   "metadata": {},
   "source": [
    "# Shop Customer Segmentation"
   ]
  },
  {
   "cell_type": "code",
   "execution_count": 1,
   "id": "2b6bf185",
   "metadata": {},
   "outputs": [],
   "source": [
    "import numpy as np\n",
    "import pandas as pd\n",
    "import matplotlib.pyplot as plt\n",
    "import seaborn as sns"
   ]
  },
  {
   "cell_type": "code",
   "execution_count": 2,
   "id": "c8a10d94",
   "metadata": {},
   "outputs": [],
   "source": [
    "customers=pd.read_csv('customers.csv', index_col=0)"
   ]
  },
  {
   "cell_type": "markdown",
   "id": "074dc0d1",
   "metadata": {},
   "source": [
    "# Análisis Exploratorio de Datos"
   ]
  },
  {
   "cell_type": "code",
   "execution_count": 3,
   "id": "900c902e",
   "metadata": {},
   "outputs": [
    {
     "data": {
      "text/html": [
       "<div>\n",
       "<style scoped>\n",
       "    .dataframe tbody tr th:only-of-type {\n",
       "        vertical-align: middle;\n",
       "    }\n",
       "\n",
       "    .dataframe tbody tr th {\n",
       "        vertical-align: top;\n",
       "    }\n",
       "\n",
       "    .dataframe thead th {\n",
       "        text-align: right;\n",
       "    }\n",
       "</style>\n",
       "<table border=\"1\" class=\"dataframe\">\n",
       "  <thead>\n",
       "    <tr style=\"text-align: right;\">\n",
       "      <th></th>\n",
       "      <th>Gender</th>\n",
       "      <th>Age</th>\n",
       "      <th>Annual Income ($)</th>\n",
       "      <th>Spending Score (1-100)</th>\n",
       "      <th>Profession</th>\n",
       "      <th>Work Experience</th>\n",
       "      <th>Family Size</th>\n",
       "    </tr>\n",
       "    <tr>\n",
       "      <th>CustomerID</th>\n",
       "      <th></th>\n",
       "      <th></th>\n",
       "      <th></th>\n",
       "      <th></th>\n",
       "      <th></th>\n",
       "      <th></th>\n",
       "      <th></th>\n",
       "    </tr>\n",
       "  </thead>\n",
       "  <tbody>\n",
       "    <tr>\n",
       "      <th>1</th>\n",
       "      <td>Male</td>\n",
       "      <td>19</td>\n",
       "      <td>15000</td>\n",
       "      <td>39</td>\n",
       "      <td>Healthcare</td>\n",
       "      <td>1</td>\n",
       "      <td>4</td>\n",
       "    </tr>\n",
       "    <tr>\n",
       "      <th>2</th>\n",
       "      <td>Male</td>\n",
       "      <td>21</td>\n",
       "      <td>35000</td>\n",
       "      <td>81</td>\n",
       "      <td>Engineer</td>\n",
       "      <td>3</td>\n",
       "      <td>3</td>\n",
       "    </tr>\n",
       "    <tr>\n",
       "      <th>3</th>\n",
       "      <td>Female</td>\n",
       "      <td>20</td>\n",
       "      <td>86000</td>\n",
       "      <td>6</td>\n",
       "      <td>Engineer</td>\n",
       "      <td>1</td>\n",
       "      <td>1</td>\n",
       "    </tr>\n",
       "    <tr>\n",
       "      <th>4</th>\n",
       "      <td>Female</td>\n",
       "      <td>23</td>\n",
       "      <td>59000</td>\n",
       "      <td>77</td>\n",
       "      <td>Lawyer</td>\n",
       "      <td>0</td>\n",
       "      <td>2</td>\n",
       "    </tr>\n",
       "    <tr>\n",
       "      <th>5</th>\n",
       "      <td>Female</td>\n",
       "      <td>31</td>\n",
       "      <td>38000</td>\n",
       "      <td>40</td>\n",
       "      <td>Entertainment</td>\n",
       "      <td>2</td>\n",
       "      <td>6</td>\n",
       "    </tr>\n",
       "  </tbody>\n",
       "</table>\n",
       "</div>"
      ],
      "text/plain": [
       "            Gender  Age  Annual Income ($)  Spending Score (1-100)  \\\n",
       "CustomerID                                                           \n",
       "1             Male   19              15000                      39   \n",
       "2             Male   21              35000                      81   \n",
       "3           Female   20              86000                       6   \n",
       "4           Female   23              59000                      77   \n",
       "5           Female   31              38000                      40   \n",
       "\n",
       "               Profession  Work Experience  Family Size  \n",
       "CustomerID                                               \n",
       "1              Healthcare                1            4  \n",
       "2                Engineer                3            3  \n",
       "3                Engineer                1            1  \n",
       "4                  Lawyer                0            2  \n",
       "5           Entertainment                2            6  "
      ]
     },
     "execution_count": 3,
     "metadata": {},
     "output_type": "execute_result"
    }
   ],
   "source": [
    "customers.head()"
   ]
  },
  {
   "cell_type": "code",
   "execution_count": 4,
   "id": "c734d877",
   "metadata": {},
   "outputs": [
    {
     "data": {
      "text/plain": [
       "(2000, 7)"
      ]
     },
     "execution_count": 4,
     "metadata": {},
     "output_type": "execute_result"
    }
   ],
   "source": [
    "customers.shape"
   ]
  },
  {
   "cell_type": "markdown",
   "id": "1e9d6693",
   "metadata": {},
   "source": [
    "El conjunto de datos está formado por 2000 observaciones y 8 características.\n",
    "\n",
    "- CustomerID: ID del cliente.\n",
    "- Gender: Género.\n",
    "- Age: Edad en años.\n",
    "- Annual Income: Ingresos anuales en dólares.\n",
    "- Spending Score (1-100): Puntuación asignada por la tienda, basada en el comportamiento del cliente y la naturaleza del gasto.\n",
    "- Profession: Profesión.\n",
    "- Work Experience: Experiencia laboral en años.\n",
    "- Family Size: Tamaño familia."
   ]
  },
  {
   "cell_type": "code",
   "execution_count": 5,
   "id": "f67f2e62",
   "metadata": {},
   "outputs": [
    {
     "name": "stdout",
     "output_type": "stream",
     "text": [
      "<class 'pandas.core.frame.DataFrame'>\n",
      "Index: 2000 entries, 1 to 2000\n",
      "Data columns (total 7 columns):\n",
      " #   Column                  Non-Null Count  Dtype \n",
      "---  ------                  --------------  ----- \n",
      " 0   Gender                  2000 non-null   object\n",
      " 1   Age                     2000 non-null   int64 \n",
      " 2   Annual Income ($)       2000 non-null   int64 \n",
      " 3   Spending Score (1-100)  2000 non-null   int64 \n",
      " 4   Profession              1965 non-null   object\n",
      " 5   Work Experience         2000 non-null   int64 \n",
      " 6   Family Size             2000 non-null   int64 \n",
      "dtypes: int64(5), object(2)\n",
      "memory usage: 125.0+ KB\n"
     ]
    }
   ],
   "source": [
    "customers.info()"
   ]
  },
  {
   "cell_type": "code",
   "execution_count": 6,
   "id": "4cdc6b77",
   "metadata": {},
   "outputs": [
    {
     "data": {
      "text/html": [
       "<div>\n",
       "<style scoped>\n",
       "    .dataframe tbody tr th:only-of-type {\n",
       "        vertical-align: middle;\n",
       "    }\n",
       "\n",
       "    .dataframe tbody tr th {\n",
       "        vertical-align: top;\n",
       "    }\n",
       "\n",
       "    .dataframe thead th {\n",
       "        text-align: right;\n",
       "    }\n",
       "</style>\n",
       "<table border=\"1\" class=\"dataframe\">\n",
       "  <thead>\n",
       "    <tr style=\"text-align: right;\">\n",
       "      <th></th>\n",
       "      <th>Age</th>\n",
       "      <th>Annual Income ($)</th>\n",
       "      <th>Spending Score (1-100)</th>\n",
       "      <th>Work Experience</th>\n",
       "      <th>Family Size</th>\n",
       "    </tr>\n",
       "  </thead>\n",
       "  <tbody>\n",
       "    <tr>\n",
       "      <th>count</th>\n",
       "      <td>2000.000000</td>\n",
       "      <td>2000.000000</td>\n",
       "      <td>2000.000000</td>\n",
       "      <td>2000.000000</td>\n",
       "      <td>2000.000000</td>\n",
       "    </tr>\n",
       "    <tr>\n",
       "      <th>mean</th>\n",
       "      <td>48.960000</td>\n",
       "      <td>110731.821500</td>\n",
       "      <td>50.962500</td>\n",
       "      <td>4.102500</td>\n",
       "      <td>3.768500</td>\n",
       "    </tr>\n",
       "    <tr>\n",
       "      <th>std</th>\n",
       "      <td>28.429747</td>\n",
       "      <td>45739.536688</td>\n",
       "      <td>27.934661</td>\n",
       "      <td>3.922204</td>\n",
       "      <td>1.970749</td>\n",
       "    </tr>\n",
       "    <tr>\n",
       "      <th>min</th>\n",
       "      <td>0.000000</td>\n",
       "      <td>0.000000</td>\n",
       "      <td>0.000000</td>\n",
       "      <td>0.000000</td>\n",
       "      <td>1.000000</td>\n",
       "    </tr>\n",
       "    <tr>\n",
       "      <th>25%</th>\n",
       "      <td>25.000000</td>\n",
       "      <td>74572.000000</td>\n",
       "      <td>28.000000</td>\n",
       "      <td>1.000000</td>\n",
       "      <td>2.000000</td>\n",
       "    </tr>\n",
       "    <tr>\n",
       "      <th>50%</th>\n",
       "      <td>48.000000</td>\n",
       "      <td>110045.000000</td>\n",
       "      <td>50.000000</td>\n",
       "      <td>3.000000</td>\n",
       "      <td>4.000000</td>\n",
       "    </tr>\n",
       "    <tr>\n",
       "      <th>75%</th>\n",
       "      <td>73.000000</td>\n",
       "      <td>149092.750000</td>\n",
       "      <td>75.000000</td>\n",
       "      <td>7.000000</td>\n",
       "      <td>5.000000</td>\n",
       "    </tr>\n",
       "    <tr>\n",
       "      <th>max</th>\n",
       "      <td>99.000000</td>\n",
       "      <td>189974.000000</td>\n",
       "      <td>100.000000</td>\n",
       "      <td>17.000000</td>\n",
       "      <td>9.000000</td>\n",
       "    </tr>\n",
       "  </tbody>\n",
       "</table>\n",
       "</div>"
      ],
      "text/plain": [
       "               Age  Annual Income ($)  Spending Score (1-100)  \\\n",
       "count  2000.000000        2000.000000             2000.000000   \n",
       "mean     48.960000      110731.821500               50.962500   \n",
       "std      28.429747       45739.536688               27.934661   \n",
       "min       0.000000           0.000000                0.000000   \n",
       "25%      25.000000       74572.000000               28.000000   \n",
       "50%      48.000000      110045.000000               50.000000   \n",
       "75%      73.000000      149092.750000               75.000000   \n",
       "max      99.000000      189974.000000              100.000000   \n",
       "\n",
       "       Work Experience  Family Size  \n",
       "count      2000.000000  2000.000000  \n",
       "mean          4.102500     3.768500  \n",
       "std           3.922204     1.970749  \n",
       "min           0.000000     1.000000  \n",
       "25%           1.000000     2.000000  \n",
       "50%           3.000000     4.000000  \n",
       "75%           7.000000     5.000000  \n",
       "max          17.000000     9.000000  "
      ]
     },
     "execution_count": 6,
     "metadata": {},
     "output_type": "execute_result"
    }
   ],
   "source": [
    "customers.describe()"
   ]
  },
  {
   "cell_type": "code",
   "execution_count": 7,
   "id": "3d95b6ef",
   "metadata": {},
   "outputs": [
    {
     "data": {
      "text/plain": [
       "Gender                     0\n",
       "Age                        0\n",
       "Annual Income ($)          0\n",
       "Spending Score (1-100)     0\n",
       "Profession                35\n",
       "Work Experience            0\n",
       "Family Size                0\n",
       "dtype: int64"
      ]
     },
     "execution_count": 7,
     "metadata": {},
     "output_type": "execute_result"
    }
   ],
   "source": [
    "customers.isna().sum()"
   ]
  },
  {
   "cell_type": "code",
   "execution_count": 8,
   "id": "4c8b87ed",
   "metadata": {},
   "outputs": [],
   "source": [
    "customers_14= customers[customers['Age']<=14]"
   ]
  },
  {
   "cell_type": "code",
   "execution_count": 9,
   "id": "9cca9d2a",
   "metadata": {},
   "outputs": [
    {
     "data": {
      "text/html": [
       "<div>\n",
       "<style scoped>\n",
       "    .dataframe tbody tr th:only-of-type {\n",
       "        vertical-align: middle;\n",
       "    }\n",
       "\n",
       "    .dataframe tbody tr th {\n",
       "        vertical-align: top;\n",
       "    }\n",
       "\n",
       "    .dataframe thead th {\n",
       "        text-align: right;\n",
       "    }\n",
       "</style>\n",
       "<table border=\"1\" class=\"dataframe\">\n",
       "  <thead>\n",
       "    <tr style=\"text-align: right;\">\n",
       "      <th></th>\n",
       "      <th>Gender</th>\n",
       "      <th>Age</th>\n",
       "      <th>Annual Income ($)</th>\n",
       "      <th>Spending Score (1-100)</th>\n",
       "      <th>Profession</th>\n",
       "      <th>Work Experience</th>\n",
       "      <th>Family Size</th>\n",
       "    </tr>\n",
       "    <tr>\n",
       "      <th>CustomerID</th>\n",
       "      <th></th>\n",
       "      <th></th>\n",
       "      <th></th>\n",
       "      <th></th>\n",
       "      <th></th>\n",
       "      <th></th>\n",
       "      <th></th>\n",
       "    </tr>\n",
       "  </thead>\n",
       "  <tbody>\n",
       "    <tr>\n",
       "      <th>211</th>\n",
       "      <td>Female</td>\n",
       "      <td>1</td>\n",
       "      <td>57000</td>\n",
       "      <td>93</td>\n",
       "      <td>Engineer</td>\n",
       "      <td>1</td>\n",
       "      <td>2</td>\n",
       "    </tr>\n",
       "    <tr>\n",
       "      <th>212</th>\n",
       "      <td>Female</td>\n",
       "      <td>0</td>\n",
       "      <td>22000</td>\n",
       "      <td>92</td>\n",
       "      <td>Artist</td>\n",
       "      <td>2</td>\n",
       "      <td>1</td>\n",
       "    </tr>\n",
       "    <tr>\n",
       "      <th>229</th>\n",
       "      <td>Male</td>\n",
       "      <td>0</td>\n",
       "      <td>33000</td>\n",
       "      <td>64</td>\n",
       "      <td>Marketing</td>\n",
       "      <td>1</td>\n",
       "      <td>1</td>\n",
       "    </tr>\n",
       "    <tr>\n",
       "      <th>231</th>\n",
       "      <td>Female</td>\n",
       "      <td>6</td>\n",
       "      <td>93000</td>\n",
       "      <td>53</td>\n",
       "      <td>Lawyer</td>\n",
       "      <td>8</td>\n",
       "      <td>2</td>\n",
       "    </tr>\n",
       "    <tr>\n",
       "      <th>235</th>\n",
       "      <td>Female</td>\n",
       "      <td>4</td>\n",
       "      <td>84000</td>\n",
       "      <td>54</td>\n",
       "      <td>Artist</td>\n",
       "      <td>9</td>\n",
       "      <td>1</td>\n",
       "    </tr>\n",
       "    <tr>\n",
       "      <th>...</th>\n",
       "      <td>...</td>\n",
       "      <td>...</td>\n",
       "      <td>...</td>\n",
       "      <td>...</td>\n",
       "      <td>...</td>\n",
       "      <td>...</td>\n",
       "      <td>...</td>\n",
       "    </tr>\n",
       "    <tr>\n",
       "      <th>1975</th>\n",
       "      <td>Female</td>\n",
       "      <td>14</td>\n",
       "      <td>153145</td>\n",
       "      <td>59</td>\n",
       "      <td>Healthcare</td>\n",
       "      <td>8</td>\n",
       "      <td>6</td>\n",
       "    </tr>\n",
       "    <tr>\n",
       "      <th>1980</th>\n",
       "      <td>Male</td>\n",
       "      <td>0</td>\n",
       "      <td>165321</td>\n",
       "      <td>93</td>\n",
       "      <td>Doctor</td>\n",
       "      <td>8</td>\n",
       "      <td>1</td>\n",
       "    </tr>\n",
       "    <tr>\n",
       "      <th>1981</th>\n",
       "      <td>Female</td>\n",
       "      <td>10</td>\n",
       "      <td>86925</td>\n",
       "      <td>76</td>\n",
       "      <td>Artist</td>\n",
       "      <td>7</td>\n",
       "      <td>2</td>\n",
       "    </tr>\n",
       "    <tr>\n",
       "      <th>1985</th>\n",
       "      <td>Female</td>\n",
       "      <td>2</td>\n",
       "      <td>153622</td>\n",
       "      <td>51</td>\n",
       "      <td>Lawyer</td>\n",
       "      <td>6</td>\n",
       "      <td>6</td>\n",
       "    </tr>\n",
       "    <tr>\n",
       "      <th>1987</th>\n",
       "      <td>Female</td>\n",
       "      <td>4</td>\n",
       "      <td>68094</td>\n",
       "      <td>61</td>\n",
       "      <td>Doctor</td>\n",
       "      <td>4</td>\n",
       "      <td>7</td>\n",
       "    </tr>\n",
       "  </tbody>\n",
       "</table>\n",
       "<p>274 rows × 7 columns</p>\n",
       "</div>"
      ],
      "text/plain": [
       "            Gender  Age  Annual Income ($)  Spending Score (1-100)  \\\n",
       "CustomerID                                                           \n",
       "211         Female    1              57000                      93   \n",
       "212         Female    0              22000                      92   \n",
       "229           Male    0              33000                      64   \n",
       "231         Female    6              93000                      53   \n",
       "235         Female    4              84000                      54   \n",
       "...            ...  ...                ...                     ...   \n",
       "1975        Female   14             153145                      59   \n",
       "1980          Male    0             165321                      93   \n",
       "1981        Female   10              86925                      76   \n",
       "1985        Female    2             153622                      51   \n",
       "1987        Female    4              68094                      61   \n",
       "\n",
       "            Profession  Work Experience  Family Size  \n",
       "CustomerID                                            \n",
       "211           Engineer                1            2  \n",
       "212             Artist                2            1  \n",
       "229          Marketing                1            1  \n",
       "231             Lawyer                8            2  \n",
       "235             Artist                9            1  \n",
       "...                ...              ...          ...  \n",
       "1975        Healthcare                8            6  \n",
       "1980            Doctor                8            1  \n",
       "1981            Artist                7            2  \n",
       "1985            Lawyer                6            6  \n",
       "1987            Doctor                4            7  \n",
       "\n",
       "[274 rows x 7 columns]"
      ]
     },
     "execution_count": 9,
     "metadata": {},
     "output_type": "execute_result"
    }
   ],
   "source": [
    "customers_14"
   ]
  },
  {
   "cell_type": "code",
   "execution_count": 10,
   "id": "1d76a779",
   "metadata": {},
   "outputs": [
    {
     "data": {
      "text/plain": [
       "Profession\n",
       "Artist           78\n",
       "Healthcare       44\n",
       "Entertainment    33\n",
       "Doctor           32\n",
       "Lawyer           23\n",
       "Executive        23\n",
       "Engineer         16\n",
       "Marketing        13\n",
       "Homemaker         8\n",
       "Name: count, dtype: int64"
      ]
     },
     "execution_count": 10,
     "metadata": {},
     "output_type": "execute_result"
    }
   ],
   "source": [
    "customers_14['Profession'].value_counts()"
   ]
  },
  {
   "cell_type": "code",
   "execution_count": 11,
   "id": "dd01e4e6",
   "metadata": {},
   "outputs": [
    {
     "data": {
      "text/plain": [
       "Work Experience\n",
       "1     68\n",
       "0     52\n",
       "8     30\n",
       "9     25\n",
       "6     19\n",
       "7     17\n",
       "4     12\n",
       "10    10\n",
       "2      9\n",
       "5      9\n",
       "3      7\n",
       "13     5\n",
       "14     4\n",
       "15     3\n",
       "12     2\n",
       "11     2\n",
       "Name: count, dtype: int64"
      ]
     },
     "execution_count": 11,
     "metadata": {},
     "output_type": "execute_result"
    }
   ],
   "source": [
    "customers_14['Work Experience'].value_counts()"
   ]
  },
  {
   "cell_type": "code",
   "execution_count": 12,
   "id": "a3ee81c4",
   "metadata": {},
   "outputs": [
    {
     "data": {
      "text/plain": [
       "Profession\n",
       "Artist           612\n",
       "Healthcare       339\n",
       "Entertainment    234\n",
       "Engineer         179\n",
       "Doctor           161\n",
       "Executive        153\n",
       "Lawyer           142\n",
       "Marketing         85\n",
       "Homemaker         60\n",
       "Name: count, dtype: int64"
      ]
     },
     "execution_count": 12,
     "metadata": {},
     "output_type": "execute_result"
    }
   ],
   "source": [
    "customers['Profession'].value_counts()"
   ]
  },
  {
   "cell_type": "code",
   "execution_count": 13,
   "id": "f4e5f29f",
   "metadata": {},
   "outputs": [
    {
     "data": {
      "text/html": [
       "<div>\n",
       "<style scoped>\n",
       "    .dataframe tbody tr th:only-of-type {\n",
       "        vertical-align: middle;\n",
       "    }\n",
       "\n",
       "    .dataframe tbody tr th {\n",
       "        vertical-align: top;\n",
       "    }\n",
       "\n",
       "    .dataframe thead th {\n",
       "        text-align: right;\n",
       "    }\n",
       "</style>\n",
       "<table border=\"1\" class=\"dataframe\">\n",
       "  <thead>\n",
       "    <tr style=\"text-align: right;\">\n",
       "      <th></th>\n",
       "      <th>Gender</th>\n",
       "      <th>Age</th>\n",
       "      <th>Annual Income ($)</th>\n",
       "      <th>Spending Score (1-100)</th>\n",
       "      <th>Profession</th>\n",
       "      <th>Work Experience</th>\n",
       "      <th>Family Size</th>\n",
       "    </tr>\n",
       "    <tr>\n",
       "      <th>CustomerID</th>\n",
       "      <th></th>\n",
       "      <th></th>\n",
       "      <th></th>\n",
       "      <th></th>\n",
       "      <th></th>\n",
       "      <th></th>\n",
       "      <th></th>\n",
       "    </tr>\n",
       "  </thead>\n",
       "  <tbody>\n",
       "    <tr>\n",
       "      <th>80</th>\n",
       "      <td>Female</td>\n",
       "      <td>49</td>\n",
       "      <td>98000</td>\n",
       "      <td>42</td>\n",
       "      <td>NaN</td>\n",
       "      <td>1</td>\n",
       "      <td>1</td>\n",
       "    </tr>\n",
       "    <tr>\n",
       "      <th>119</th>\n",
       "      <td>Female</td>\n",
       "      <td>51</td>\n",
       "      <td>84000</td>\n",
       "      <td>43</td>\n",
       "      <td>NaN</td>\n",
       "      <td>2</td>\n",
       "      <td>7</td>\n",
       "    </tr>\n",
       "    <tr>\n",
       "      <th>220</th>\n",
       "      <td>Female</td>\n",
       "      <td>59</td>\n",
       "      <td>76000</td>\n",
       "      <td>61</td>\n",
       "      <td>NaN</td>\n",
       "      <td>9</td>\n",
       "      <td>1</td>\n",
       "    </tr>\n",
       "    <tr>\n",
       "      <th>238</th>\n",
       "      <td>Male</td>\n",
       "      <td>95</td>\n",
       "      <td>36000</td>\n",
       "      <td>35</td>\n",
       "      <td>NaN</td>\n",
       "      <td>0</td>\n",
       "      <td>4</td>\n",
       "    </tr>\n",
       "    <tr>\n",
       "      <th>438</th>\n",
       "      <td>Male</td>\n",
       "      <td>76</td>\n",
       "      <td>136259</td>\n",
       "      <td>14</td>\n",
       "      <td>NaN</td>\n",
       "      <td>0</td>\n",
       "      <td>7</td>\n",
       "    </tr>\n",
       "    <tr>\n",
       "      <th>441</th>\n",
       "      <td>Female</td>\n",
       "      <td>0</td>\n",
       "      <td>57373</td>\n",
       "      <td>29</td>\n",
       "      <td>NaN</td>\n",
       "      <td>0</td>\n",
       "      <td>7</td>\n",
       "    </tr>\n",
       "    <tr>\n",
       "      <th>499</th>\n",
       "      <td>Male</td>\n",
       "      <td>95</td>\n",
       "      <td>121725</td>\n",
       "      <td>3</td>\n",
       "      <td>NaN</td>\n",
       "      <td>12</td>\n",
       "      <td>3</td>\n",
       "    </tr>\n",
       "    <tr>\n",
       "      <th>546</th>\n",
       "      <td>Female</td>\n",
       "      <td>89</td>\n",
       "      <td>107359</td>\n",
       "      <td>26</td>\n",
       "      <td>NaN</td>\n",
       "      <td>10</td>\n",
       "      <td>6</td>\n",
       "    </tr>\n",
       "    <tr>\n",
       "      <th>602</th>\n",
       "      <td>Male</td>\n",
       "      <td>61</td>\n",
       "      <td>126370</td>\n",
       "      <td>20</td>\n",
       "      <td>NaN</td>\n",
       "      <td>11</td>\n",
       "      <td>4</td>\n",
       "    </tr>\n",
       "    <tr>\n",
       "      <th>642</th>\n",
       "      <td>Male</td>\n",
       "      <td>66</td>\n",
       "      <td>121377</td>\n",
       "      <td>19</td>\n",
       "      <td>NaN</td>\n",
       "      <td>7</td>\n",
       "      <td>7</td>\n",
       "    </tr>\n",
       "    <tr>\n",
       "      <th>666</th>\n",
       "      <td>Male</td>\n",
       "      <td>28</td>\n",
       "      <td>101414</td>\n",
       "      <td>64</td>\n",
       "      <td>NaN</td>\n",
       "      <td>8</td>\n",
       "      <td>1</td>\n",
       "    </tr>\n",
       "    <tr>\n",
       "      <th>704</th>\n",
       "      <td>Male</td>\n",
       "      <td>22</td>\n",
       "      <td>114011</td>\n",
       "      <td>40</td>\n",
       "      <td>NaN</td>\n",
       "      <td>5</td>\n",
       "      <td>7</td>\n",
       "    </tr>\n",
       "    <tr>\n",
       "      <th>802</th>\n",
       "      <td>Male</td>\n",
       "      <td>81</td>\n",
       "      <td>148208</td>\n",
       "      <td>36</td>\n",
       "      <td>NaN</td>\n",
       "      <td>5</td>\n",
       "      <td>7</td>\n",
       "    </tr>\n",
       "    <tr>\n",
       "      <th>818</th>\n",
       "      <td>Female</td>\n",
       "      <td>91</td>\n",
       "      <td>154456</td>\n",
       "      <td>71</td>\n",
       "      <td>NaN</td>\n",
       "      <td>0</td>\n",
       "      <td>7</td>\n",
       "    </tr>\n",
       "    <tr>\n",
       "      <th>851</th>\n",
       "      <td>Male</td>\n",
       "      <td>69</td>\n",
       "      <td>186655</td>\n",
       "      <td>32</td>\n",
       "      <td>NaN</td>\n",
       "      <td>7</td>\n",
       "      <td>2</td>\n",
       "    </tr>\n",
       "    <tr>\n",
       "      <th>904</th>\n",
       "      <td>Female</td>\n",
       "      <td>15</td>\n",
       "      <td>174501</td>\n",
       "      <td>37</td>\n",
       "      <td>NaN</td>\n",
       "      <td>9</td>\n",
       "      <td>7</td>\n",
       "    </tr>\n",
       "    <tr>\n",
       "      <th>928</th>\n",
       "      <td>Male</td>\n",
       "      <td>25</td>\n",
       "      <td>81367</td>\n",
       "      <td>87</td>\n",
       "      <td>NaN</td>\n",
       "      <td>0</td>\n",
       "      <td>3</td>\n",
       "    </tr>\n",
       "    <tr>\n",
       "      <th>1010</th>\n",
       "      <td>Male</td>\n",
       "      <td>69</td>\n",
       "      <td>61637</td>\n",
       "      <td>67</td>\n",
       "      <td>NaN</td>\n",
       "      <td>0</td>\n",
       "      <td>5</td>\n",
       "    </tr>\n",
       "    <tr>\n",
       "      <th>1068</th>\n",
       "      <td>Female</td>\n",
       "      <td>30</td>\n",
       "      <td>78821</td>\n",
       "      <td>46</td>\n",
       "      <td>NaN</td>\n",
       "      <td>1</td>\n",
       "      <td>4</td>\n",
       "    </tr>\n",
       "    <tr>\n",
       "      <th>1089</th>\n",
       "      <td>Female</td>\n",
       "      <td>10</td>\n",
       "      <td>162076</td>\n",
       "      <td>78</td>\n",
       "      <td>NaN</td>\n",
       "      <td>0</td>\n",
       "      <td>3</td>\n",
       "    </tr>\n",
       "    <tr>\n",
       "      <th>1093</th>\n",
       "      <td>Male</td>\n",
       "      <td>87</td>\n",
       "      <td>141383</td>\n",
       "      <td>3</td>\n",
       "      <td>NaN</td>\n",
       "      <td>7</td>\n",
       "      <td>5</td>\n",
       "    </tr>\n",
       "    <tr>\n",
       "      <th>1189</th>\n",
       "      <td>Female</td>\n",
       "      <td>99</td>\n",
       "      <td>122548</td>\n",
       "      <td>14</td>\n",
       "      <td>NaN</td>\n",
       "      <td>2</td>\n",
       "      <td>5</td>\n",
       "    </tr>\n",
       "    <tr>\n",
       "      <th>1224</th>\n",
       "      <td>Male</td>\n",
       "      <td>74</td>\n",
       "      <td>184838</td>\n",
       "      <td>18</td>\n",
       "      <td>NaN</td>\n",
       "      <td>8</td>\n",
       "      <td>5</td>\n",
       "    </tr>\n",
       "    <tr>\n",
       "      <th>1317</th>\n",
       "      <td>Female</td>\n",
       "      <td>33</td>\n",
       "      <td>109396</td>\n",
       "      <td>17</td>\n",
       "      <td>NaN</td>\n",
       "      <td>1</td>\n",
       "      <td>2</td>\n",
       "    </tr>\n",
       "    <tr>\n",
       "      <th>1335</th>\n",
       "      <td>Male</td>\n",
       "      <td>42</td>\n",
       "      <td>94844</td>\n",
       "      <td>64</td>\n",
       "      <td>NaN</td>\n",
       "      <td>7</td>\n",
       "      <td>6</td>\n",
       "    </tr>\n",
       "    <tr>\n",
       "      <th>1385</th>\n",
       "      <td>Female</td>\n",
       "      <td>50</td>\n",
       "      <td>104467</td>\n",
       "      <td>72</td>\n",
       "      <td>NaN</td>\n",
       "      <td>5</td>\n",
       "      <td>1</td>\n",
       "    </tr>\n",
       "    <tr>\n",
       "      <th>1418</th>\n",
       "      <td>Female</td>\n",
       "      <td>1</td>\n",
       "      <td>138656</td>\n",
       "      <td>27</td>\n",
       "      <td>NaN</td>\n",
       "      <td>3</td>\n",
       "      <td>4</td>\n",
       "    </tr>\n",
       "    <tr>\n",
       "      <th>1484</th>\n",
       "      <td>Female</td>\n",
       "      <td>19</td>\n",
       "      <td>147052</td>\n",
       "      <td>86</td>\n",
       "      <td>NaN</td>\n",
       "      <td>9</td>\n",
       "      <td>4</td>\n",
       "    </tr>\n",
       "    <tr>\n",
       "      <th>1507</th>\n",
       "      <td>Female</td>\n",
       "      <td>9</td>\n",
       "      <td>173233</td>\n",
       "      <td>18</td>\n",
       "      <td>NaN</td>\n",
       "      <td>5</td>\n",
       "      <td>1</td>\n",
       "    </tr>\n",
       "    <tr>\n",
       "      <th>1626</th>\n",
       "      <td>Female</td>\n",
       "      <td>78</td>\n",
       "      <td>130706</td>\n",
       "      <td>72</td>\n",
       "      <td>NaN</td>\n",
       "      <td>3</td>\n",
       "      <td>6</td>\n",
       "    </tr>\n",
       "    <tr>\n",
       "      <th>1635</th>\n",
       "      <td>Male</td>\n",
       "      <td>73</td>\n",
       "      <td>97455</td>\n",
       "      <td>55</td>\n",
       "      <td>NaN</td>\n",
       "      <td>6</td>\n",
       "      <td>4</td>\n",
       "    </tr>\n",
       "    <tr>\n",
       "      <th>1789</th>\n",
       "      <td>Female</td>\n",
       "      <td>58</td>\n",
       "      <td>51416</td>\n",
       "      <td>46</td>\n",
       "      <td>NaN</td>\n",
       "      <td>7</td>\n",
       "      <td>5</td>\n",
       "    </tr>\n",
       "    <tr>\n",
       "      <th>1885</th>\n",
       "      <td>Female</td>\n",
       "      <td>63</td>\n",
       "      <td>155638</td>\n",
       "      <td>81</td>\n",
       "      <td>NaN</td>\n",
       "      <td>1</td>\n",
       "      <td>4</td>\n",
       "    </tr>\n",
       "    <tr>\n",
       "      <th>1906</th>\n",
       "      <td>Female</td>\n",
       "      <td>52</td>\n",
       "      <td>164038</td>\n",
       "      <td>53</td>\n",
       "      <td>NaN</td>\n",
       "      <td>5</td>\n",
       "      <td>4</td>\n",
       "    </tr>\n",
       "    <tr>\n",
       "      <th>1933</th>\n",
       "      <td>Female</td>\n",
       "      <td>23</td>\n",
       "      <td>59905</td>\n",
       "      <td>79</td>\n",
       "      <td>NaN</td>\n",
       "      <td>7</td>\n",
       "      <td>5</td>\n",
       "    </tr>\n",
       "  </tbody>\n",
       "</table>\n",
       "</div>"
      ],
      "text/plain": [
       "            Gender  Age  Annual Income ($)  Spending Score (1-100) Profession  \\\n",
       "CustomerID                                                                      \n",
       "80          Female   49              98000                      42        NaN   \n",
       "119         Female   51              84000                      43        NaN   \n",
       "220         Female   59              76000                      61        NaN   \n",
       "238           Male   95              36000                      35        NaN   \n",
       "438           Male   76             136259                      14        NaN   \n",
       "441         Female    0              57373                      29        NaN   \n",
       "499           Male   95             121725                       3        NaN   \n",
       "546         Female   89             107359                      26        NaN   \n",
       "602           Male   61             126370                      20        NaN   \n",
       "642           Male   66             121377                      19        NaN   \n",
       "666           Male   28             101414                      64        NaN   \n",
       "704           Male   22             114011                      40        NaN   \n",
       "802           Male   81             148208                      36        NaN   \n",
       "818         Female   91             154456                      71        NaN   \n",
       "851           Male   69             186655                      32        NaN   \n",
       "904         Female   15             174501                      37        NaN   \n",
       "928           Male   25              81367                      87        NaN   \n",
       "1010          Male   69              61637                      67        NaN   \n",
       "1068        Female   30              78821                      46        NaN   \n",
       "1089        Female   10             162076                      78        NaN   \n",
       "1093          Male   87             141383                       3        NaN   \n",
       "1189        Female   99             122548                      14        NaN   \n",
       "1224          Male   74             184838                      18        NaN   \n",
       "1317        Female   33             109396                      17        NaN   \n",
       "1335          Male   42              94844                      64        NaN   \n",
       "1385        Female   50             104467                      72        NaN   \n",
       "1418        Female    1             138656                      27        NaN   \n",
       "1484        Female   19             147052                      86        NaN   \n",
       "1507        Female    9             173233                      18        NaN   \n",
       "1626        Female   78             130706                      72        NaN   \n",
       "1635          Male   73              97455                      55        NaN   \n",
       "1789        Female   58              51416                      46        NaN   \n",
       "1885        Female   63             155638                      81        NaN   \n",
       "1906        Female   52             164038                      53        NaN   \n",
       "1933        Female   23              59905                      79        NaN   \n",
       "\n",
       "            Work Experience  Family Size  \n",
       "CustomerID                                \n",
       "80                        1            1  \n",
       "119                       2            7  \n",
       "220                       9            1  \n",
       "238                       0            4  \n",
       "438                       0            7  \n",
       "441                       0            7  \n",
       "499                      12            3  \n",
       "546                      10            6  \n",
       "602                      11            4  \n",
       "642                       7            7  \n",
       "666                       8            1  \n",
       "704                       5            7  \n",
       "802                       5            7  \n",
       "818                       0            7  \n",
       "851                       7            2  \n",
       "904                       9            7  \n",
       "928                       0            3  \n",
       "1010                      0            5  \n",
       "1068                      1            4  \n",
       "1089                      0            3  \n",
       "1093                      7            5  \n",
       "1189                      2            5  \n",
       "1224                      8            5  \n",
       "1317                      1            2  \n",
       "1335                      7            6  \n",
       "1385                      5            1  \n",
       "1418                      3            4  \n",
       "1484                      9            4  \n",
       "1507                      5            1  \n",
       "1626                      3            6  \n",
       "1635                      6            4  \n",
       "1789                      7            5  \n",
       "1885                      1            4  \n",
       "1906                      5            4  \n",
       "1933                      7            5  "
      ]
     },
     "execution_count": 13,
     "metadata": {},
     "output_type": "execute_result"
    }
   ],
   "source": [
    "customers[customers['Profession'].isnull()]"
   ]
  },
  {
   "cell_type": "code",
   "execution_count": 14,
   "id": "21356f5f",
   "metadata": {},
   "outputs": [
    {
     "data": {
      "text/plain": [
       "{'Artist',\n",
       " 'Doctor',\n",
       " 'Engineer',\n",
       " 'Entertainment',\n",
       " 'Executive',\n",
       " 'Healthcare',\n",
       " 'Homemaker',\n",
       " 'Lawyer',\n",
       " 'Marketing',\n",
       " nan}"
      ]
     },
     "execution_count": 14,
     "metadata": {},
     "output_type": "execute_result"
    }
   ],
   "source": [
    "set(customers['Profession'].values)"
   ]
  },
  {
   "cell_type": "markdown",
   "id": "2a6498b1",
   "metadata": {},
   "source": [
    "En la variable Profession hemos encontramos 35 valores perdidos. Sin embargo al observar la frecuencia de cada profesión para menores de 14 años, encontramos que tienen asignado un trabajo. Con la experiencia laboral también se observa el mismo error, además de clientes que tienen más experiencia laboral que años.\n",
    "\n",
    "Entonces para los menores de 14 años vamos a cambiar el valor dado por 'Child', excepto para las profesiones 'Artist' y 'Entertainment'. Los NaN vamos a cambiarlos por la moda. Y la experiencia laboral para aquellos cuyo valor sea mayor que su edad se asignará el valor de 0."
   ]
  },
  {
   "cell_type": "code",
   "execution_count": 15,
   "id": "dfffce60",
   "metadata": {},
   "outputs": [],
   "source": [
    "customers_df=customers.copy()"
   ]
  },
  {
   "cell_type": "code",
   "execution_count": 16,
   "id": "5fcac968",
   "metadata": {},
   "outputs": [
    {
     "data": {
      "text/plain": [
       "81"
      ]
     },
     "execution_count": 16,
     "metadata": {},
     "output_type": "execute_result"
    }
   ],
   "source": [
    "(customers_df['Age'] < customers_df['Work Experience']).sum()"
   ]
  },
  {
   "cell_type": "code",
   "execution_count": 17,
   "id": "ffe9b49a",
   "metadata": {},
   "outputs": [],
   "source": [
    "customers_df['Profession'].fillna('Artist', inplace=True)"
   ]
  },
  {
   "cell_type": "code",
   "execution_count": 18,
   "id": "2271d873",
   "metadata": {},
   "outputs": [],
   "source": [
    "customers_df['Profession']=np.where(((customers_df['Age']<=14) & (customers_df['Profession']!='Artist') & (customers_df['Profession']!='Entertainment')), 'Child', customers_df['Profession'])"
   ]
  },
  {
   "cell_type": "code",
   "execution_count": 19,
   "id": "f455c849",
   "metadata": {},
   "outputs": [],
   "source": [
    "customers_14= customers_df[customers_df['Age']<=14]"
   ]
  },
  {
   "cell_type": "code",
   "execution_count": 20,
   "id": "13dce846",
   "metadata": {},
   "outputs": [
    {
     "data": {
      "text/plain": [
       "81"
      ]
     },
     "execution_count": 20,
     "metadata": {},
     "output_type": "execute_result"
    }
   ],
   "source": [
    "(customers_14['Age'] < customers_14['Work Experience']).sum()"
   ]
  },
  {
   "cell_type": "code",
   "execution_count": 21,
   "id": "b368d0c7",
   "metadata": {},
   "outputs": [
    {
     "data": {
      "text/plain": [
       "Profession\n",
       "Child            159\n",
       "Artist            82\n",
       "Entertainment     33\n",
       "Name: count, dtype: int64"
      ]
     },
     "execution_count": 21,
     "metadata": {},
     "output_type": "execute_result"
    }
   ],
   "source": [
    "customers_14['Profession'].value_counts()"
   ]
  },
  {
   "cell_type": "code",
   "execution_count": 22,
   "id": "6921860b",
   "metadata": {},
   "outputs": [],
   "source": [
    "customers_df['Work Experience']=np.where(((customers_df['Profession']=='Child') | (customers_df['Age'] < customers_df['Work Experience'])), 0, customers_df['Work Experience'])"
   ]
  },
  {
   "cell_type": "code",
   "execution_count": 23,
   "id": "2e73674a",
   "metadata": {},
   "outputs": [],
   "source": [
    "customers_14= customers_df[customers_df['Age']<=14]"
   ]
  },
  {
   "cell_type": "code",
   "execution_count": 24,
   "id": "e7fc4be3",
   "metadata": {},
   "outputs": [
    {
     "data": {
      "text/html": [
       "<div>\n",
       "<style scoped>\n",
       "    .dataframe tbody tr th:only-of-type {\n",
       "        vertical-align: middle;\n",
       "    }\n",
       "\n",
       "    .dataframe tbody tr th {\n",
       "        vertical-align: top;\n",
       "    }\n",
       "\n",
       "    .dataframe thead th {\n",
       "        text-align: right;\n",
       "    }\n",
       "</style>\n",
       "<table border=\"1\" class=\"dataframe\">\n",
       "  <thead>\n",
       "    <tr style=\"text-align: right;\">\n",
       "      <th></th>\n",
       "      <th>Gender</th>\n",
       "      <th>Age</th>\n",
       "      <th>Annual Income ($)</th>\n",
       "      <th>Spending Score (1-100)</th>\n",
       "      <th>Profession</th>\n",
       "      <th>Work Experience</th>\n",
       "      <th>Family Size</th>\n",
       "    </tr>\n",
       "    <tr>\n",
       "      <th>CustomerID</th>\n",
       "      <th></th>\n",
       "      <th></th>\n",
       "      <th></th>\n",
       "      <th></th>\n",
       "      <th></th>\n",
       "      <th></th>\n",
       "      <th></th>\n",
       "    </tr>\n",
       "  </thead>\n",
       "  <tbody>\n",
       "    <tr>\n",
       "      <th>211</th>\n",
       "      <td>Female</td>\n",
       "      <td>1</td>\n",
       "      <td>57000</td>\n",
       "      <td>93</td>\n",
       "      <td>Child</td>\n",
       "      <td>0</td>\n",
       "      <td>2</td>\n",
       "    </tr>\n",
       "    <tr>\n",
       "      <th>212</th>\n",
       "      <td>Female</td>\n",
       "      <td>0</td>\n",
       "      <td>22000</td>\n",
       "      <td>92</td>\n",
       "      <td>Artist</td>\n",
       "      <td>0</td>\n",
       "      <td>1</td>\n",
       "    </tr>\n",
       "    <tr>\n",
       "      <th>229</th>\n",
       "      <td>Male</td>\n",
       "      <td>0</td>\n",
       "      <td>33000</td>\n",
       "      <td>64</td>\n",
       "      <td>Child</td>\n",
       "      <td>0</td>\n",
       "      <td>1</td>\n",
       "    </tr>\n",
       "    <tr>\n",
       "      <th>231</th>\n",
       "      <td>Female</td>\n",
       "      <td>6</td>\n",
       "      <td>93000</td>\n",
       "      <td>53</td>\n",
       "      <td>Child</td>\n",
       "      <td>0</td>\n",
       "      <td>2</td>\n",
       "    </tr>\n",
       "    <tr>\n",
       "      <th>235</th>\n",
       "      <td>Female</td>\n",
       "      <td>4</td>\n",
       "      <td>84000</td>\n",
       "      <td>54</td>\n",
       "      <td>Artist</td>\n",
       "      <td>0</td>\n",
       "      <td>1</td>\n",
       "    </tr>\n",
       "    <tr>\n",
       "      <th>...</th>\n",
       "      <td>...</td>\n",
       "      <td>...</td>\n",
       "      <td>...</td>\n",
       "      <td>...</td>\n",
       "      <td>...</td>\n",
       "      <td>...</td>\n",
       "      <td>...</td>\n",
       "    </tr>\n",
       "    <tr>\n",
       "      <th>1975</th>\n",
       "      <td>Female</td>\n",
       "      <td>14</td>\n",
       "      <td>153145</td>\n",
       "      <td>59</td>\n",
       "      <td>Child</td>\n",
       "      <td>0</td>\n",
       "      <td>6</td>\n",
       "    </tr>\n",
       "    <tr>\n",
       "      <th>1980</th>\n",
       "      <td>Male</td>\n",
       "      <td>0</td>\n",
       "      <td>165321</td>\n",
       "      <td>93</td>\n",
       "      <td>Child</td>\n",
       "      <td>0</td>\n",
       "      <td>1</td>\n",
       "    </tr>\n",
       "    <tr>\n",
       "      <th>1981</th>\n",
       "      <td>Female</td>\n",
       "      <td>10</td>\n",
       "      <td>86925</td>\n",
       "      <td>76</td>\n",
       "      <td>Artist</td>\n",
       "      <td>7</td>\n",
       "      <td>2</td>\n",
       "    </tr>\n",
       "    <tr>\n",
       "      <th>1985</th>\n",
       "      <td>Female</td>\n",
       "      <td>2</td>\n",
       "      <td>153622</td>\n",
       "      <td>51</td>\n",
       "      <td>Child</td>\n",
       "      <td>0</td>\n",
       "      <td>6</td>\n",
       "    </tr>\n",
       "    <tr>\n",
       "      <th>1987</th>\n",
       "      <td>Female</td>\n",
       "      <td>4</td>\n",
       "      <td>68094</td>\n",
       "      <td>61</td>\n",
       "      <td>Child</td>\n",
       "      <td>0</td>\n",
       "      <td>7</td>\n",
       "    </tr>\n",
       "  </tbody>\n",
       "</table>\n",
       "<p>274 rows × 7 columns</p>\n",
       "</div>"
      ],
      "text/plain": [
       "            Gender  Age  Annual Income ($)  Spending Score (1-100) Profession  \\\n",
       "CustomerID                                                                      \n",
       "211         Female    1              57000                      93      Child   \n",
       "212         Female    0              22000                      92     Artist   \n",
       "229           Male    0              33000                      64      Child   \n",
       "231         Female    6              93000                      53      Child   \n",
       "235         Female    4              84000                      54     Artist   \n",
       "...            ...  ...                ...                     ...        ...   \n",
       "1975        Female   14             153145                      59      Child   \n",
       "1980          Male    0             165321                      93      Child   \n",
       "1981        Female   10              86925                      76     Artist   \n",
       "1985        Female    2             153622                      51      Child   \n",
       "1987        Female    4              68094                      61      Child   \n",
       "\n",
       "            Work Experience  Family Size  \n",
       "CustomerID                                \n",
       "211                       0            2  \n",
       "212                       0            1  \n",
       "229                       0            1  \n",
       "231                       0            2  \n",
       "235                       0            1  \n",
       "...                     ...          ...  \n",
       "1975                      0            6  \n",
       "1980                      0            1  \n",
       "1981                      7            2  \n",
       "1985                      0            6  \n",
       "1987                      0            7  \n",
       "\n",
       "[274 rows x 7 columns]"
      ]
     },
     "execution_count": 24,
     "metadata": {},
     "output_type": "execute_result"
    }
   ],
   "source": [
    "customers_14"
   ]
  },
  {
   "cell_type": "code",
   "execution_count": 25,
   "id": "893510e9",
   "metadata": {},
   "outputs": [
    {
     "data": {
      "text/plain": [
       "Gender                    0\n",
       "Age                       0\n",
       "Annual Income ($)         0\n",
       "Spending Score (1-100)    0\n",
       "Profession                0\n",
       "Work Experience           0\n",
       "Family Size               0\n",
       "dtype: int64"
      ]
     },
     "execution_count": 25,
     "metadata": {},
     "output_type": "execute_result"
    }
   ],
   "source": [
    "customers_df.isna().sum()"
   ]
  },
  {
   "cell_type": "code",
   "execution_count": 26,
   "id": "22dd61cf",
   "metadata": {},
   "outputs": [
    {
     "data": {
      "text/plain": [
       "0"
      ]
     },
     "execution_count": 26,
     "metadata": {},
     "output_type": "execute_result"
    }
   ],
   "source": [
    "(customers_df['Age'] < customers_df['Work Experience']).sum()"
   ]
  },
  {
   "cell_type": "code",
   "execution_count": 27,
   "id": "2d6b663d",
   "metadata": {},
   "outputs": [
    {
     "data": {
      "text/plain": [
       "{'Artist',\n",
       " 'Child',\n",
       " 'Doctor',\n",
       " 'Engineer',\n",
       " 'Entertainment',\n",
       " 'Executive',\n",
       " 'Healthcare',\n",
       " 'Homemaker',\n",
       " 'Lawyer',\n",
       " 'Marketing'}"
      ]
     },
     "execution_count": 27,
     "metadata": {},
     "output_type": "execute_result"
    }
   ],
   "source": [
    "set(customers_df['Profession'].values)"
   ]
  },
  {
   "cell_type": "markdown",
   "id": "0cc2c840",
   "metadata": {},
   "source": [
    "Ahora que están tratados todos los errores. Vamos a analizar cada una de las variables."
   ]
  },
  {
   "cell_type": "code",
   "execution_count": 28,
   "id": "a073781a",
   "metadata": {},
   "outputs": [
    {
     "data": {
      "image/png": "[encoded data removed]",
      "text/plain": [
       "<Figure size 400x400 with 1 Axes>"
      ]
     },
     "metadata": {},
     "output_type": "display_data"
    }
   ],
   "source": [
    "plot=customers_df['Gender'].value_counts().plot(kind='pie', \n",
    "                                                    figsize=(4,4), \n",
    "                                                    autopct='%1.2f%%',\n",
    "                                                   colors=['Pink', 'SteelBlue'],\n",
    "                                                   shadow=True,\n",
    "                                               explode =(0.2, 0))"
   ]
  },
  {
   "cell_type": "markdown",
   "id": "94e237ec",
   "metadata": {},
   "source": [
    "En el gráfico superior observamos que el 59.30% de los clientes son mujeres."
   ]
  },
  {
   "cell_type": "markdown",
   "id": "aa96afe7",
   "metadata": {},
   "source": [
    "fig, ax= plt.subplots(3,2, figsize=(14,20))\n",
    "ax=ax.flatten()\n",
    "sns.histplot(customers_df['Age'], kde=True, ax=ax[0])\n",
    "sns.histplot(customers_df['Annual Income ($)'], kde=True, ax=ax[1])\n",
    "sns.histplot(customers_df['Spending Score (1-100)'], kde=True, ax=ax[2])\n",
    "sns.histplot(customers_df['Profession'], kde=True, ax=ax[3])\n",
    "ax[3].tick_params(labelrotation=45)\n",
    "sns.histplot(customers_df['Work Experience'], kde=True, ax=ax[4])\n",
    "sns.histplot(customers_df['Family Size'], kde=True, ax=ax[5])\n",
    "plt.show()"
   ]
  },
  {
   "cell_type": "code",
   "execution_count": 29,
   "id": "a8bcff76",
   "metadata": {},
   "outputs": [
    {
     "data": {
      "image/png": "[encoded data removed]",
      "text/plain": [
       "<Figure size 640x480 with 2 Axes>"
      ]
     },
     "metadata": {},
     "output_type": "display_data"
    }
   ],
   "source": [
    "sns.heatmap(customers_df.corr(numeric_only=True), annot=True)\n",
    "plt.show()"
   ]
  },
  {
   "cell_type": "markdown",
   "id": "0756cacf",
   "metadata": {},
   "source": [
    "Al observar la amtriz de correlación vemos que la mayor correlación la encontramos entre la edad y los años de experiencia (correlación positiva de 0.17), aunque no es muy alta."
   ]
  },
  {
   "cell_type": "markdown",
   "id": "1703058e",
   "metadata": {},
   "source": [
    "# Preprocessing"
   ]
  },
  {
   "cell_type": "markdown",
   "id": "ced8c791",
   "metadata": {},
   "source": [
    "Antes de usar el modelo de machine learning hay que convertir las variables objeto en categóricas y estandarizar las características. Para ello vamos a utilizar LaberlEncoder y StandardScaler, respectivamente."
   ]
  },
  {
   "cell_type": "code",
   "execution_count": 30,
   "id": "8e95b8f6",
   "metadata": {},
   "outputs": [],
   "source": [
    "from sklearn.preprocessing import LabelEncoder\n",
    "from sklearn.preprocessing import StandardScaler"
   ]
  },
  {
   "cell_type": "code",
   "execution_count": 31,
   "id": "c668cbe0",
   "metadata": {},
   "outputs": [],
   "source": [
    "encoder=LabelEncoder()\n",
    "customers_df['Gender']=encoder.fit_transform(customers_df['Gender'])\n",
    "customers_df['Profession']=encoder.fit_transform(customers_df['Profession'])"
   ]
  },
  {
   "cell_type": "code",
   "execution_count": 32,
   "id": "b2f3beee",
   "metadata": {},
   "outputs": [
    {
     "data": {
      "text/plain": [
       "array(['Artist', 'Child', 'Doctor', 'Engineer', 'Entertainment',\n",
       "       'Executive', 'Healthcare', 'Homemaker', 'Lawyer', 'Marketing'],\n",
       "      dtype=object)"
      ]
     },
     "execution_count": 32,
     "metadata": {},
     "output_type": "execute_result"
    }
   ],
   "source": [
    "encoder.classes_"
   ]
  },
  {
   "cell_type": "code",
   "execution_count": 33,
   "id": "6a5fbcc5",
   "metadata": {},
   "outputs": [
    {
     "data": {
      "text/html": [
       "<div>\n",
       "<style scoped>\n",
       "    .dataframe tbody tr th:only-of-type {\n",
       "        vertical-align: middle;\n",
       "    }\n",
       "\n",
       "    .dataframe tbody tr th {\n",
       "        vertical-align: top;\n",
       "    }\n",
       "\n",
       "    .dataframe thead th {\n",
       "        text-align: right;\n",
       "    }\n",
       "</style>\n",
       "<table border=\"1\" class=\"dataframe\">\n",
       "  <thead>\n",
       "    <tr style=\"text-align: right;\">\n",
       "      <th></th>\n",
       "      <th>Gender</th>\n",
       "      <th>Age</th>\n",
       "      <th>Annual Income ($)</th>\n",
       "      <th>Spending Score (1-100)</th>\n",
       "      <th>Profession</th>\n",
       "      <th>Work Experience</th>\n",
       "      <th>Family Size</th>\n",
       "    </tr>\n",
       "    <tr>\n",
       "      <th>CustomerID</th>\n",
       "      <th></th>\n",
       "      <th></th>\n",
       "      <th></th>\n",
       "      <th></th>\n",
       "      <th></th>\n",
       "      <th></th>\n",
       "      <th></th>\n",
       "    </tr>\n",
       "  </thead>\n",
       "  <tbody>\n",
       "    <tr>\n",
       "      <th>1</th>\n",
       "      <td>1</td>\n",
       "      <td>19</td>\n",
       "      <td>15000</td>\n",
       "      <td>39</td>\n",
       "      <td>6</td>\n",
       "      <td>1</td>\n",
       "      <td>4</td>\n",
       "    </tr>\n",
       "    <tr>\n",
       "      <th>2</th>\n",
       "      <td>1</td>\n",
       "      <td>21</td>\n",
       "      <td>35000</td>\n",
       "      <td>81</td>\n",
       "      <td>3</td>\n",
       "      <td>3</td>\n",
       "      <td>3</td>\n",
       "    </tr>\n",
       "    <tr>\n",
       "      <th>3</th>\n",
       "      <td>0</td>\n",
       "      <td>20</td>\n",
       "      <td>86000</td>\n",
       "      <td>6</td>\n",
       "      <td>3</td>\n",
       "      <td>1</td>\n",
       "      <td>1</td>\n",
       "    </tr>\n",
       "    <tr>\n",
       "      <th>4</th>\n",
       "      <td>0</td>\n",
       "      <td>23</td>\n",
       "      <td>59000</td>\n",
       "      <td>77</td>\n",
       "      <td>8</td>\n",
       "      <td>0</td>\n",
       "      <td>2</td>\n",
       "    </tr>\n",
       "    <tr>\n",
       "      <th>5</th>\n",
       "      <td>0</td>\n",
       "      <td>31</td>\n",
       "      <td>38000</td>\n",
       "      <td>40</td>\n",
       "      <td>4</td>\n",
       "      <td>2</td>\n",
       "      <td>6</td>\n",
       "    </tr>\n",
       "  </tbody>\n",
       "</table>\n",
       "</div>"
      ],
      "text/plain": [
       "            Gender  Age  Annual Income ($)  Spending Score (1-100)  \\\n",
       "CustomerID                                                           \n",
       "1                1   19              15000                      39   \n",
       "2                1   21              35000                      81   \n",
       "3                0   20              86000                       6   \n",
       "4                0   23              59000                      77   \n",
       "5                0   31              38000                      40   \n",
       "\n",
       "            Profession  Work Experience  Family Size  \n",
       "CustomerID                                            \n",
       "1                    6                1            4  \n",
       "2                    3                3            3  \n",
       "3                    3                1            1  \n",
       "4                    8                0            2  \n",
       "5                    4                2            6  "
      ]
     },
     "execution_count": 33,
     "metadata": {},
     "output_type": "execute_result"
    }
   ],
   "source": [
    "customers_df.head()"
   ]
  },
  {
   "cell_type": "code",
   "execution_count": 34,
   "id": "484822ae",
   "metadata": {},
   "outputs": [],
   "source": [
    "scaler=StandardScaler()\n",
    "customers_scaled=pd.DataFrame(scaler.fit_transform(customers_df), columns=customers_df.columns)"
   ]
  },
  {
   "cell_type": "code",
   "execution_count": 35,
   "id": "51ed295e",
   "metadata": {},
   "outputs": [
    {
     "data": {
      "text/html": [
       "<div>\n",
       "<style scoped>\n",
       "    .dataframe tbody tr th:only-of-type {\n",
       "        vertical-align: middle;\n",
       "    }\n",
       "\n",
       "    .dataframe tbody tr th {\n",
       "        vertical-align: top;\n",
       "    }\n",
       "\n",
       "    .dataframe thead th {\n",
       "        text-align: right;\n",
       "    }\n",
       "</style>\n",
       "<table border=\"1\" class=\"dataframe\">\n",
       "  <thead>\n",
       "    <tr style=\"text-align: right;\">\n",
       "      <th></th>\n",
       "      <th>Gender</th>\n",
       "      <th>Age</th>\n",
       "      <th>Annual Income ($)</th>\n",
       "      <th>Spending Score (1-100)</th>\n",
       "      <th>Profession</th>\n",
       "      <th>Work Experience</th>\n",
       "      <th>Family Size</th>\n",
       "    </tr>\n",
       "  </thead>\n",
       "  <tbody>\n",
       "    <tr>\n",
       "      <th>0</th>\n",
       "      <td>1.207064</td>\n",
       "      <td>-1.054089</td>\n",
       "      <td>-2.093501</td>\n",
       "      <td>-0.428339</td>\n",
       "      <td>1.009093</td>\n",
       "      <td>-0.675899</td>\n",
       "      <td>0.117497</td>\n",
       "    </tr>\n",
       "    <tr>\n",
       "      <th>1</th>\n",
       "      <td>1.207064</td>\n",
       "      <td>-0.983723</td>\n",
       "      <td>-1.656133</td>\n",
       "      <td>1.075546</td>\n",
       "      <td>-0.039497</td>\n",
       "      <td>-0.159453</td>\n",
       "      <td>-0.390051</td>\n",
       "    </tr>\n",
       "    <tr>\n",
       "      <th>2</th>\n",
       "      <td>-0.828457</td>\n",
       "      <td>-1.018906</td>\n",
       "      <td>-0.540845</td>\n",
       "      <td>-1.609962</td>\n",
       "      <td>-0.039497</td>\n",
       "      <td>-0.675899</td>\n",
       "      <td>-1.405148</td>\n",
       "    </tr>\n",
       "    <tr>\n",
       "      <th>3</th>\n",
       "      <td>-0.828457</td>\n",
       "      <td>-0.913356</td>\n",
       "      <td>-1.131292</td>\n",
       "      <td>0.932319</td>\n",
       "      <td>1.708153</td>\n",
       "      <td>-0.934122</td>\n",
       "      <td>-0.897599</td>\n",
       "    </tr>\n",
       "    <tr>\n",
       "      <th>4</th>\n",
       "      <td>-0.828457</td>\n",
       "      <td>-0.631891</td>\n",
       "      <td>-1.590528</td>\n",
       "      <td>-0.392532</td>\n",
       "      <td>0.310033</td>\n",
       "      <td>-0.417676</td>\n",
       "      <td>1.132594</td>\n",
       "    </tr>\n",
       "  </tbody>\n",
       "</table>\n",
       "</div>"
      ],
      "text/plain": [
       "     Gender       Age  Annual Income ($)  Spending Score (1-100)  Profession  \\\n",
       "0  1.207064 -1.054089          -2.093501               -0.428339    1.009093   \n",
       "1  1.207064 -0.983723          -1.656133                1.075546   -0.039497   \n",
       "2 -0.828457 -1.018906          -0.540845               -1.609962   -0.039497   \n",
       "3 -0.828457 -0.913356          -1.131292                0.932319    1.708153   \n",
       "4 -0.828457 -0.631891          -1.590528               -0.392532    0.310033   \n",
       "\n",
       "   Work Experience  Family Size  \n",
       "0        -0.675899     0.117497  \n",
       "1        -0.159453    -0.390051  \n",
       "2        -0.675899    -1.405148  \n",
       "3        -0.934122    -0.897599  \n",
       "4        -0.417676     1.132594  "
      ]
     },
     "execution_count": 35,
     "metadata": {},
     "output_type": "execute_result"
    }
   ],
   "source": [
    "customers_scaled.head()"
   ]
  },
  {
   "cell_type": "markdown",
   "id": "f1ea797e",
   "metadata": {},
   "source": [
    "# Principal Component Analysis"
   ]
  },
  {
   "cell_type": "markdown",
   "id": "0fed6c9b",
   "metadata": {},
   "source": [
    "Lo primero que vamos a hacer es aplicar una reducción de dimensión."
   ]
  },
  {
   "cell_type": "code",
   "execution_count": 36,
   "id": "37a5ef8a",
   "metadata": {},
   "outputs": [
    {
     "data": {
      "text/html": [
       "<style>#sk-container-id-1 {color: black;background-color: white;}#sk-container-id-1 pre{padding: 0;}#sk-container-id-1 div.sk-toggleable {background-color: white;}#sk-container-id-1 label.sk-toggleable__label {cursor: pointer;display: block;width: 100%;margin-bottom: 0;padding: 0.3em;box-sizing: border-box;text-align: center;}#sk-container-id-1 label.sk-toggleable__label-arrow:before {content: \"▸\";float: left;margin-right: 0.25em;color: #696969;}#sk-container-id-1 label.sk-toggleable__label-arrow:hover:before {color: black;}#sk-container-id-1 div.sk-estimator:hover label.sk-toggleable__label-arrow:before {color: black;}#sk-container-id-1 div.sk-toggleable__content {max-height: 0;max-width: 0;overflow: hidden;text-align: left;background-color: #f0f8ff;}#sk-container-id-1 div.sk-toggleable__content pre {margin: 0.2em;color: black;border-radius: 0.25em;background-color: #f0f8ff;}#sk-container-id-1 input.sk-toggleable__control:checked~div.sk-toggleable__content {max-height: 200px;max-width: 100%;overflow: auto;}#sk-container-id-1 input.sk-toggleable__control:checked~label.sk-toggleable__label-arrow:before {content: \"▾\";}#sk-container-id-1 div.sk-estimator input.sk-toggleable__control:checked~label.sk-toggleable__label {background-color: #d4ebff;}#sk-container-id-1 div.sk-label input.sk-toggleable__control:checked~label.sk-toggleable__label {background-color: #d4ebff;}#sk-container-id-1 input.sk-hidden--visually {border: 0;clip: rect(1px 1px 1px 1px);clip: rect(1px, 1px, 1px, 1px);height: 1px;margin: -1px;overflow: hidden;padding: 0;position: absolute;width: 1px;}#sk-container-id-1 div.sk-estimator {font-family: monospace;background-color: #f0f8ff;border: 1px dotted black;border-radius: 0.25em;box-sizing: border-box;margin-bottom: 0.5em;}#sk-container-id-1 div.sk-estimator:hover {background-color: #d4ebff;}#sk-container-id-1 div.sk-parallel-item::after {content: \"\";width: 100%;border-bottom: 1px solid gray;flex-grow: 1;}#sk-container-id-1 div.sk-label:hover label.sk-toggleable__label {background-color: #d4ebff;}#sk-container-id-1 div.sk-serial::before {content: \"\";position: absolute;border-left: 1px solid gray;box-sizing: border-box;top: 0;bottom: 0;left: 50%;z-index: 0;}#sk-container-id-1 div.sk-serial {display: flex;flex-direction: column;align-items: center;background-color: white;padding-right: 0.2em;padding-left: 0.2em;position: relative;}#sk-container-id-1 div.sk-item {position: relative;z-index: 1;}#sk-container-id-1 div.sk-parallel {display: flex;align-items: stretch;justify-content: center;background-color: white;position: relative;}#sk-container-id-1 div.sk-item::before, #sk-container-id-1 div.sk-parallel-item::before {content: \"\";position: absolute;border-left: 1px solid gray;box-sizing: border-box;top: 0;bottom: 0;left: 50%;z-index: -1;}#sk-container-id-1 div.sk-parallel-item {display: flex;flex-direction: column;z-index: 1;position: relative;background-color: white;}#sk-container-id-1 div.sk-parallel-item:first-child::after {align-self: flex-end;width: 50%;}#sk-container-id-1 div.sk-parallel-item:last-child::after {align-self: flex-start;width: 50%;}#sk-container-id-1 div.sk-parallel-item:only-child::after {width: 0;}#sk-container-id-1 div.sk-dashed-wrapped {border: 1px dashed gray;margin: 0 0.4em 0.5em 0.4em;box-sizing: border-box;padding-bottom: 0.4em;background-color: white;}#sk-container-id-1 div.sk-label label {font-family: monospace;font-weight: bold;display: inline-block;line-height: 1.2em;}#sk-container-id-1 div.sk-label-container {text-align: center;}#sk-container-id-1 div.sk-container {/* jupyter's `normalize.less` sets `[hidden] { display: none; }` but bootstrap.min.css set `[hidden] { display: none !important; }` so we also need the `!important` here to be able to override the default hidden behavior on the sphinx rendered scikit-learn.org. See: https://github.com/scikit-learn/scikit-learn/issues/21755 */display: inline-block !important;position: relative;}#sk-container-id-1 div.sk-text-repr-fallback {display: none;}</style><div id=\"sk-container-id-1\" class=\"sk-top-container\"><div class=\"sk-text-repr-fallback\"><pre>PCA()</pre><b>In a Jupyter environment, please rerun this cell to show the HTML representation or trust the notebook. <br />On GitHub, the HTML representation is unable to render, please try loading this page with nbviewer.org.</b></div><div class=\"sk-container\" hidden><div class=\"sk-item\"><div class=\"sk-estimator sk-toggleable\"><input class=\"sk-toggleable__control sk-hidden--visually\" id=\"sk-estimator-id-1\" type=\"checkbox\" checked><label for=\"sk-estimator-id-1\" class=\"sk-toggleable__label sk-toggleable__label-arrow\">PCA</label><div class=\"sk-toggleable__content\"><pre>PCA()</pre></div></div></div></div></div>"
      ],
      "text/plain": [
       "PCA()"
      ]
     },
     "execution_count": 36,
     "metadata": {},
     "output_type": "execute_result"
    }
   ],
   "source": [
    "from sklearn.decomposition import PCA\n",
    "pca=PCA()\n",
    "pca.fit(customers_scaled)"
   ]
  },
  {
   "cell_type": "code",
   "execution_count": 37,
   "id": "c64b57c3",
   "metadata": {},
   "outputs": [
    {
     "name": "stdout",
     "output_type": "stream",
     "text": [
      "range(0, 7)\n"
     ]
    }
   ],
   "source": [
    "features=range(pca.n_components_)\n",
    "print(features)"
   ]
  },
  {
   "cell_type": "code",
   "execution_count": 38,
   "id": "df2fb650",
   "metadata": {},
   "outputs": [
    {
     "data": {
      "text/plain": [
       "array([0.18602485, 0.15666427, 0.1429423 , 0.13908864, 0.1358098 ,\n",
       "       0.12506924, 0.11440089])"
      ]
     },
     "execution_count": 38,
     "metadata": {},
     "output_type": "execute_result"
    }
   ],
   "source": [
    "pca.explained_variance_ratio_"
   ]
  },
  {
   "cell_type": "code",
   "execution_count": 39,
   "id": "88dc070d",
   "metadata": {},
   "outputs": [
    {
     "data": {
      "text/plain": [
       "Text(0, 0.5, 'Cumulative Explained Variance')"
      ]
     },
     "execution_count": 39,
     "metadata": {},
     "output_type": "execute_result"
    },
    {
     "data": {
      "image/png": "[encoded data removed]",
      "text/plain": [
       "<Figure size 400x400 with 1 Axes>"
      ]
     },
     "metadata": {},
     "output_type": "display_data"
    }
   ],
   "source": [
    "plt.figure(figsize=(4,4))\n",
    "plt.plot(features, pca.explained_variance_ratio_.cumsum(), marker='o', linestyle='--')\n",
    "plt.title('Explained Variance by Components')\n",
    "plt.xlabel('Number of Components')\n",
    "plt.ylabel('Cumulative Explained Variance')"
   ]
  },
  {
   "cell_type": "code",
   "execution_count": 40,
   "id": "4b1f3598",
   "metadata": {},
   "outputs": [
    {
     "data": {
      "text/plain": [
       "array([[ 0.07434739,  0.608027  ,  0.17427437, -0.20884649,  0.46875117,\n",
       "         0.53960116,  0.19972518],\n",
       "       [ 0.00436689,  0.10161676, -0.68718324, -0.33526936,  0.27022569,\n",
       "        -0.04505375, -0.57443612],\n",
       "       [ 0.96861574, -0.04767205,  0.00469855,  0.18834089, -0.02991675,\n",
       "         0.06797142, -0.13601995]])"
      ]
     },
     "execution_count": 40,
     "metadata": {},
     "output_type": "execute_result"
    }
   ],
   "source": [
    "pca=PCA(n_components=3)\n",
    "pca.fit(customers_scaled)\n",
    "pca.components_"
   ]
  },
  {
   "cell_type": "markdown",
   "id": "58ea765e",
   "metadata": {},
   "source": [
    "Hemos reducido nuestras características a 3 componentes de 7 que había. "
   ]
  },
  {
   "cell_type": "code",
   "execution_count": 41,
   "id": "1cac53e6",
   "metadata": {},
   "outputs": [
    {
     "data": {
      "text/html": [
       "<div>\n",
       "<style scoped>\n",
       "    .dataframe tbody tr th:only-of-type {\n",
       "        vertical-align: middle;\n",
       "    }\n",
       "\n",
       "    .dataframe tbody tr th {\n",
       "        vertical-align: top;\n",
       "    }\n",
       "\n",
       "    .dataframe thead th {\n",
       "        text-align: right;\n",
       "    }\n",
       "</style>\n",
       "<table border=\"1\" class=\"dataframe\">\n",
       "  <thead>\n",
       "    <tr style=\"text-align: right;\">\n",
       "      <th></th>\n",
       "      <th>Gender</th>\n",
       "      <th>Age</th>\n",
       "      <th>Annual Income ($)</th>\n",
       "      <th>Spending Score (1-100)</th>\n",
       "      <th>Profession</th>\n",
       "      <th>Work Experience</th>\n",
       "      <th>Family Size</th>\n",
       "    </tr>\n",
       "  </thead>\n",
       "  <tbody>\n",
       "    <tr>\n",
       "      <th>Component 1</th>\n",
       "      <td>0.074347</td>\n",
       "      <td>0.608027</td>\n",
       "      <td>0.174274</td>\n",
       "      <td>-0.208846</td>\n",
       "      <td>0.468751</td>\n",
       "      <td>0.539601</td>\n",
       "      <td>0.199725</td>\n",
       "    </tr>\n",
       "    <tr>\n",
       "      <th>Component 2</th>\n",
       "      <td>0.004367</td>\n",
       "      <td>0.101617</td>\n",
       "      <td>-0.687183</td>\n",
       "      <td>-0.335269</td>\n",
       "      <td>0.270226</td>\n",
       "      <td>-0.045054</td>\n",
       "      <td>-0.574436</td>\n",
       "    </tr>\n",
       "    <tr>\n",
       "      <th>Component 3</th>\n",
       "      <td>0.968616</td>\n",
       "      <td>-0.047672</td>\n",
       "      <td>0.004699</td>\n",
       "      <td>0.188341</td>\n",
       "      <td>-0.029917</td>\n",
       "      <td>0.067971</td>\n",
       "      <td>-0.136020</td>\n",
       "    </tr>\n",
       "  </tbody>\n",
       "</table>\n",
       "</div>"
      ],
      "text/plain": [
       "               Gender       Age  Annual Income ($)  Spending Score (1-100)  \\\n",
       "Component 1  0.074347  0.608027           0.174274               -0.208846   \n",
       "Component 2  0.004367  0.101617          -0.687183               -0.335269   \n",
       "Component 3  0.968616 -0.047672           0.004699                0.188341   \n",
       "\n",
       "             Profession  Work Experience  Family Size  \n",
       "Component 1    0.468751         0.539601     0.199725  \n",
       "Component 2    0.270226        -0.045054    -0.574436  \n",
       "Component 3   -0.029917         0.067971    -0.136020  "
      ]
     },
     "execution_count": 41,
     "metadata": {},
     "output_type": "execute_result"
    }
   ],
   "source": [
    "df_pca_comp= pd.DataFrame(data=pca.components_,\n",
    "                         columns= customers_df.columns,\n",
    "                          index=['Component 1', 'Component 2', 'Component 3'])\n",
    "df_pca_comp"
   ]
  },
  {
   "cell_type": "code",
   "execution_count": 52,
   "id": "3bed29bd",
   "metadata": {},
   "outputs": [
    {
     "data": {
      "image/png": "[encoded data removed]",
      "text/plain": [
       "<Figure size 800x600 with 2 Axes>"
      ]
     },
     "metadata": {},
     "output_type": "display_data"
    }
   ],
   "source": [
    "plt.figure(figsize=(8,6))\n",
    "sns.heatmap(df_pca_comp,\n",
    "           vmin=-1,\n",
    "           vmax=1,\n",
    "           annot= True)\n",
    "plt.yticks([0, 1, 2],\n",
    "          ['Component 1', 'Component 2', 'Component 3'],rotation=45)\n",
    "plt.title('Components vs Original Features', fontsize= 10)\n",
    "plt.show()"
   ]
  },
  {
   "cell_type": "markdown",
   "id": "f4157854",
   "metadata": {},
   "source": [
    "Vemos que hay una correlación positiva entre el Componente 1 y 'Edad', 'Profession' y 'Work Experience'. Este componente muestra la orientación profesional del cliente. \n",
    "\n",
    "El Componente 2 tiene una correlación negativa con 'Annual Income ($)', 'Spending Score (1-100)' y 'Family Size'. Este componente muestra el dinero disponible del cliente.\n",
    "\n",
    "Finalmente, el Componente 3 tiene una correlación positiva de casi 1 con el género."
   ]
  },
  {
   "cell_type": "code",
   "execution_count": 43,
   "id": "1a6c66ad",
   "metadata": {},
   "outputs": [
    {
     "data": {
      "text/plain": [
       "array([[-0.69479423,  1.71602546,  1.03680871],\n",
       "       [-1.20409168,  0.90334788,  1.45426282],\n",
       "       [-1.10300988,  1.63122116, -0.9132779 ],\n",
       "       ...,\n",
       "       [ 2.14829272,  1.60778817,  1.04045095],\n",
       "       [ 1.91400705,  0.25116613,  0.97450337],\n",
       "       [ 1.11815048,  0.72468155,  1.24441199]])"
      ]
     },
     "execution_count": 43,
     "metadata": {},
     "output_type": "execute_result"
    }
   ],
   "source": [
    "pca.transform(customers_scaled)\n",
    "scores_pca= pca.transform(customers_scaled)\n",
    "scores_pca"
   ]
  },
  {
   "cell_type": "markdown",
   "id": "e2d34a66",
   "metadata": {},
   "source": [
    "# K-Means"
   ]
  },
  {
   "cell_type": "markdown",
   "id": "5027bf16",
   "metadata": {},
   "source": [
    "Antes de utilizar el algoritmo K-Means necesitamos elegir el número de clusters. Para ello vamos a utilizar la suma de cuadrados de conglomerados internos (wcss) y el Elbow Method."
   ]
  },
  {
   "cell_type": "code",
   "execution_count": 44,
   "id": "a302ac78",
   "metadata": {},
   "outputs": [],
   "source": [
    "from sklearn.cluster import KMeans"
   ]
  },
  {
   "cell_type": "code",
   "execution_count": 45,
   "id": "ffeea8de",
   "metadata": {},
   "outputs": [],
   "source": [
    "wcss=[]\n",
    "for k in range(1, 11):\n",
    "    kmeans_pca=KMeans(n_clusters=k, init='k-means++', n_init='auto',\n",
    "                     random_state=4)\n",
    "    kmeans_pca.fit(scores_pca)\n",
    "    wcss.append(kmeans_pca.inertia_)"
   ]
  },
  {
   "cell_type": "code",
   "execution_count": 46,
   "id": "7a60b070",
   "metadata": {},
   "outputs": [
    {
     "data": {
      "image/png": "[encoded data removed]",
      "text/plain": [
       "<Figure size 400x400 with 1 Axes>"
      ]
     },
     "metadata": {},
     "output_type": "display_data"
    }
   ],
   "source": [
    "plt.figure(figsize = (4,4))\n",
    "plt.plot(range(1, 11), wcss, marker = 'o', linestyle = '-.',color='red')\n",
    "plt.xlabel('Number of Clusters')\n",
    "plt.ylabel('WCSS')\n",
    "plt.title('K-means Clustering')\n",
    "plt.show()"
   ]
  },
  {
   "cell_type": "markdown",
   "id": "0b24a4c0",
   "metadata": {},
   "source": [
    "Vamos a utlizar 3 clusters."
   ]
  },
  {
   "cell_type": "code",
   "execution_count": 47,
   "id": "8178a757",
   "metadata": {},
   "outputs": [
    {
     "data": {
      "text/html": [
       "<style>#sk-container-id-2 {color: black;background-color: white;}#sk-container-id-2 pre{padding: 0;}#sk-container-id-2 div.sk-toggleable {background-color: white;}#sk-container-id-2 label.sk-toggleable__label {cursor: pointer;display: block;width: 100%;margin-bottom: 0;padding: 0.3em;box-sizing: border-box;text-align: center;}#sk-container-id-2 label.sk-toggleable__label-arrow:before {content: \"▸\";float: left;margin-right: 0.25em;color: #696969;}#sk-container-id-2 label.sk-toggleable__label-arrow:hover:before {color: black;}#sk-container-id-2 div.sk-estimator:hover label.sk-toggleable__label-arrow:before {color: black;}#sk-container-id-2 div.sk-toggleable__content {max-height: 0;max-width: 0;overflow: hidden;text-align: left;background-color: #f0f8ff;}#sk-container-id-2 div.sk-toggleable__content pre {margin: 0.2em;color: black;border-radius: 0.25em;background-color: #f0f8ff;}#sk-container-id-2 input.sk-toggleable__control:checked~div.sk-toggleable__content {max-height: 200px;max-width: 100%;overflow: auto;}#sk-container-id-2 input.sk-toggleable__control:checked~label.sk-toggleable__label-arrow:before {content: \"▾\";}#sk-container-id-2 div.sk-estimator input.sk-toggleable__control:checked~label.sk-toggleable__label {background-color: #d4ebff;}#sk-container-id-2 div.sk-label input.sk-toggleable__control:checked~label.sk-toggleable__label {background-color: #d4ebff;}#sk-container-id-2 input.sk-hidden--visually {border: 0;clip: rect(1px 1px 1px 1px);clip: rect(1px, 1px, 1px, 1px);height: 1px;margin: -1px;overflow: hidden;padding: 0;position: absolute;width: 1px;}#sk-container-id-2 div.sk-estimator {font-family: monospace;background-color: #f0f8ff;border: 1px dotted black;border-radius: 0.25em;box-sizing: border-box;margin-bottom: 0.5em;}#sk-container-id-2 div.sk-estimator:hover {background-color: #d4ebff;}#sk-container-id-2 div.sk-parallel-item::after {content: \"\";width: 100%;border-bottom: 1px solid gray;flex-grow: 1;}#sk-container-id-2 div.sk-label:hover label.sk-toggleable__label {background-color: #d4ebff;}#sk-container-id-2 div.sk-serial::before {content: \"\";position: absolute;border-left: 1px solid gray;box-sizing: border-box;top: 0;bottom: 0;left: 50%;z-index: 0;}#sk-container-id-2 div.sk-serial {display: flex;flex-direction: column;align-items: center;background-color: white;padding-right: 0.2em;padding-left: 0.2em;position: relative;}#sk-container-id-2 div.sk-item {position: relative;z-index: 1;}#sk-container-id-2 div.sk-parallel {display: flex;align-items: stretch;justify-content: center;background-color: white;position: relative;}#sk-container-id-2 div.sk-item::before, #sk-container-id-2 div.sk-parallel-item::before {content: \"\";position: absolute;border-left: 1px solid gray;box-sizing: border-box;top: 0;bottom: 0;left: 50%;z-index: -1;}#sk-container-id-2 div.sk-parallel-item {display: flex;flex-direction: column;z-index: 1;position: relative;background-color: white;}#sk-container-id-2 div.sk-parallel-item:first-child::after {align-self: flex-end;width: 50%;}#sk-container-id-2 div.sk-parallel-item:last-child::after {align-self: flex-start;width: 50%;}#sk-container-id-2 div.sk-parallel-item:only-child::after {width: 0;}#sk-container-id-2 div.sk-dashed-wrapped {border: 1px dashed gray;margin: 0 0.4em 0.5em 0.4em;box-sizing: border-box;padding-bottom: 0.4em;background-color: white;}#sk-container-id-2 div.sk-label label {font-family: monospace;font-weight: bold;display: inline-block;line-height: 1.2em;}#sk-container-id-2 div.sk-label-container {text-align: center;}#sk-container-id-2 div.sk-container {/* jupyter's `normalize.less` sets `[hidden] { display: none; }` but bootstrap.min.css set `[hidden] { display: none !important; }` so we also need the `!important` here to be able to override the default hidden behavior on the sphinx rendered scikit-learn.org. See: https://github.com/scikit-learn/scikit-learn/issues/21755 */display: inline-block !important;position: relative;}#sk-container-id-2 div.sk-text-repr-fallback {display: none;}</style><div id=\"sk-container-id-2\" class=\"sk-top-container\"><div class=\"sk-text-repr-fallback\"><pre>KMeans(n_clusters=3, n_init=&#x27;auto&#x27;, random_state=4)</pre><b>In a Jupyter environment, please rerun this cell to show the HTML representation or trust the notebook. <br />On GitHub, the HTML representation is unable to render, please try loading this page with nbviewer.org.</b></div><div class=\"sk-container\" hidden><div class=\"sk-item\"><div class=\"sk-estimator sk-toggleable\"><input class=\"sk-toggleable__control sk-hidden--visually\" id=\"sk-estimator-id-2\" type=\"checkbox\" checked><label for=\"sk-estimator-id-2\" class=\"sk-toggleable__label sk-toggleable__label-arrow\">KMeans</label><div class=\"sk-toggleable__content\"><pre>KMeans(n_clusters=3, n_init=&#x27;auto&#x27;, random_state=4)</pre></div></div></div></div></div>"
      ],
      "text/plain": [
       "KMeans(n_clusters=3, n_init='auto', random_state=4)"
      ]
     },
     "execution_count": 47,
     "metadata": {},
     "output_type": "execute_result"
    }
   ],
   "source": [
    "kmeans_pca=KMeans(n_clusters=3, init='k-means++', n_init='auto', random_state=4)\n",
    "kmeans_pca.fit(scores_pca)"
   ]
  },
  {
   "cell_type": "code",
   "execution_count": 48,
   "id": "facbbbaf",
   "metadata": {},
   "outputs": [
    {
     "data": {
      "text/html": [
       "<div>\n",
       "<style scoped>\n",
       "    .dataframe tbody tr th:only-of-type {\n",
       "        vertical-align: middle;\n",
       "    }\n",
       "\n",
       "    .dataframe tbody tr th {\n",
       "        vertical-align: top;\n",
       "    }\n",
       "\n",
       "    .dataframe thead th {\n",
       "        text-align: right;\n",
       "    }\n",
       "</style>\n",
       "<table border=\"1\" class=\"dataframe\">\n",
       "  <thead>\n",
       "    <tr style=\"text-align: right;\">\n",
       "      <th></th>\n",
       "      <th>Gender</th>\n",
       "      <th>Age</th>\n",
       "      <th>Annual Income ($)</th>\n",
       "      <th>Spending Score (1-100)</th>\n",
       "      <th>Profession</th>\n",
       "      <th>Work Experience</th>\n",
       "      <th>Family Size</th>\n",
       "      <th>Component 1</th>\n",
       "      <th>Component 2</th>\n",
       "      <th>Component 3</th>\n",
       "      <th>Segment K-means PCA</th>\n",
       "    </tr>\n",
       "  </thead>\n",
       "  <tbody>\n",
       "    <tr>\n",
       "      <th>0</th>\n",
       "      <td>1</td>\n",
       "      <td>19</td>\n",
       "      <td>15000</td>\n",
       "      <td>39</td>\n",
       "      <td>6</td>\n",
       "      <td>1</td>\n",
       "      <td>4</td>\n",
       "      <td>-0.694794</td>\n",
       "      <td>1.716025</td>\n",
       "      <td>1.036809</td>\n",
       "      <td>1</td>\n",
       "    </tr>\n",
       "    <tr>\n",
       "      <th>1</th>\n",
       "      <td>1</td>\n",
       "      <td>21</td>\n",
       "      <td>35000</td>\n",
       "      <td>81</td>\n",
       "      <td>3</td>\n",
       "      <td>3</td>\n",
       "      <td>3</td>\n",
       "      <td>-1.204092</td>\n",
       "      <td>0.903348</td>\n",
       "      <td>1.454263</td>\n",
       "      <td>0</td>\n",
       "    </tr>\n",
       "    <tr>\n",
       "      <th>2</th>\n",
       "      <td>0</td>\n",
       "      <td>20</td>\n",
       "      <td>86000</td>\n",
       "      <td>6</td>\n",
       "      <td>3</td>\n",
       "      <td>1</td>\n",
       "      <td>1</td>\n",
       "      <td>-1.103010</td>\n",
       "      <td>1.631221</td>\n",
       "      <td>-0.913278</td>\n",
       "      <td>1</td>\n",
       "    </tr>\n",
       "    <tr>\n",
       "      <th>3</th>\n",
       "      <td>0</td>\n",
       "      <td>23</td>\n",
       "      <td>59000</td>\n",
       "      <td>77</td>\n",
       "      <td>8</td>\n",
       "      <td>0</td>\n",
       "      <td>2</td>\n",
       "      <td>-0.891433</td>\n",
       "      <td>1.387683</td>\n",
       "      <td>-0.581141</td>\n",
       "      <td>1</td>\n",
       "    </tr>\n",
       "    <tr>\n",
       "      <th>4</th>\n",
       "      <td>0</td>\n",
       "      <td>31</td>\n",
       "      <td>38000</td>\n",
       "      <td>40</td>\n",
       "      <td>4</td>\n",
       "      <td>2</td>\n",
       "      <td>6</td>\n",
       "      <td>-0.494852</td>\n",
       "      <td>0.608753</td>\n",
       "      <td>-1.045456</td>\n",
       "      <td>1</td>\n",
       "    </tr>\n",
       "  </tbody>\n",
       "</table>\n",
       "</div>"
      ],
      "text/plain": [
       "   Gender  Age  Annual Income ($)  Spending Score (1-100)  Profession  \\\n",
       "0       1   19              15000                      39           6   \n",
       "1       1   21              35000                      81           3   \n",
       "2       0   20              86000                       6           3   \n",
       "3       0   23              59000                      77           8   \n",
       "4       0   31              38000                      40           4   \n",
       "\n",
       "   Work Experience  Family Size  Component 1  Component 2  Component 3  \\\n",
       "0                1            4    -0.694794     1.716025     1.036809   \n",
       "1                3            3    -1.204092     0.903348     1.454263   \n",
       "2                1            1    -1.103010     1.631221    -0.913278   \n",
       "3                0            2    -0.891433     1.387683    -0.581141   \n",
       "4                2            6    -0.494852     0.608753    -1.045456   \n",
       "\n",
       "   Segment K-means PCA  \n",
       "0                    1  \n",
       "1                    0  \n",
       "2                    1  \n",
       "3                    1  \n",
       "4                    1  "
      ]
     },
     "execution_count": 48,
     "metadata": {},
     "output_type": "execute_result"
    }
   ],
   "source": [
    "df_segm_pca_kmeans = pd.concat([customers_df.reset_index(drop = True), pd.DataFrame(scores_pca)], axis = 1)\n",
    "df_segm_pca_kmeans.columns.values[-3: ] = ['Component 1', 'Component 2', 'Component 3']\n",
    "df_segm_pca_kmeans['Segment K-means PCA'] = kmeans_pca.labels_\n",
    "df_segm_pca_kmeans.head()"
   ]
  },
  {
   "cell_type": "code",
   "execution_count": 49,
   "id": "502d3027",
   "metadata": {},
   "outputs": [
    {
     "data": {
      "text/html": [
       "<div>\n",
       "<style scoped>\n",
       "    .dataframe tbody tr th:only-of-type {\n",
       "        vertical-align: middle;\n",
       "    }\n",
       "\n",
       "    .dataframe tbody tr th {\n",
       "        vertical-align: top;\n",
       "    }\n",
       "\n",
       "    .dataframe thead th {\n",
       "        text-align: right;\n",
       "    }\n",
       "</style>\n",
       "<table border=\"1\" class=\"dataframe\">\n",
       "  <thead>\n",
       "    <tr style=\"text-align: right;\">\n",
       "      <th></th>\n",
       "      <th>Gender</th>\n",
       "      <th>Age</th>\n",
       "      <th>Annual Income ($)</th>\n",
       "      <th>Spending Score (1-100)</th>\n",
       "      <th>Profession</th>\n",
       "      <th>Work Experience</th>\n",
       "      <th>Family Size</th>\n",
       "      <th>Component 1</th>\n",
       "      <th>Component 2</th>\n",
       "      <th>Component 3</th>\n",
       "    </tr>\n",
       "    <tr>\n",
       "      <th>Segment K-means PCA</th>\n",
       "      <th></th>\n",
       "      <th></th>\n",
       "      <th></th>\n",
       "      <th></th>\n",
       "      <th></th>\n",
       "      <th></th>\n",
       "      <th></th>\n",
       "      <th></th>\n",
       "      <th></th>\n",
       "      <th></th>\n",
       "    </tr>\n",
       "  </thead>\n",
       "  <tbody>\n",
       "    <tr>\n",
       "      <th>0</th>\n",
       "      <td>0.389062</td>\n",
       "      <td>25.198438</td>\n",
       "      <td>108430.618750</td>\n",
       "      <td>60.776562</td>\n",
       "      <td>1.184375</td>\n",
       "      <td>1.295313</td>\n",
       "      <td>3.526562</td>\n",
       "      <td>-1.257275</td>\n",
       "      <td>-0.252956</td>\n",
       "      <td>0.066548</td>\n",
       "    </tr>\n",
       "    <tr>\n",
       "      <th>1</th>\n",
       "      <td>0.494845</td>\n",
       "      <td>58.022091</td>\n",
       "      <td>83055.730486</td>\n",
       "      <td>39.580265</td>\n",
       "      <td>4.525773</td>\n",
       "      <td>4.154639</td>\n",
       "      <td>2.701031</td>\n",
       "      <td>0.384901</td>\n",
       "      <td>1.024143</td>\n",
       "      <td>0.146745</td>\n",
       "    </tr>\n",
       "    <tr>\n",
       "      <th>2</th>\n",
       "      <td>0.336270</td>\n",
       "      <td>62.255507</td>\n",
       "      <td>140489.289280</td>\n",
       "      <td>53.088106</td>\n",
       "      <td>3.516887</td>\n",
       "      <td>5.264317</td>\n",
       "      <td>5.060206</td>\n",
       "      <td>0.797809</td>\n",
       "      <td>-0.783408</td>\n",
       "      <td>-0.208855</td>\n",
       "    </tr>\n",
       "  </tbody>\n",
       "</table>\n",
       "</div>"
      ],
      "text/plain": [
       "                       Gender        Age  Annual Income ($)  \\\n",
       "Segment K-means PCA                                           \n",
       "0                    0.389062  25.198438      108430.618750   \n",
       "1                    0.494845  58.022091       83055.730486   \n",
       "2                    0.336270  62.255507      140489.289280   \n",
       "\n",
       "                     Spending Score (1-100)  Profession  Work Experience  \\\n",
       "Segment K-means PCA                                                        \n",
       "0                                 60.776562    1.184375         1.295313   \n",
       "1                                 39.580265    4.525773         4.154639   \n",
       "2                                 53.088106    3.516887         5.264317   \n",
       "\n",
       "                     Family Size  Component 1  Component 2  Component 3  \n",
       "Segment K-means PCA                                                      \n",
       "0                       3.526562    -1.257275    -0.252956     0.066548  \n",
       "1                       2.701031     0.384901     1.024143     0.146745  \n",
       "2                       5.060206     0.797809    -0.783408    -0.208855  "
      ]
     },
     "execution_count": 49,
     "metadata": {},
     "output_type": "execute_result"
    }
   ],
   "source": [
    "df_segm_pca_kmeans_freq = df_segm_pca_kmeans.groupby(['Segment K-means PCA']).mean()\n",
    "df_segm_pca_kmeans_freq"
   ]
  },
  {
   "cell_type": "markdown",
   "id": "14340698",
   "metadata": {},
   "source": [
    "En la tabla de arriba vemos nuestros datos agrupados por Segmentos K-Means."
   ]
  },
  {
   "cell_type": "markdown",
   "id": "2b3e6598",
   "metadata": {},
   "source": [
    "El primer segmento está formado por clientes con una edad media de unos 25 años, siendo el segmento más joven. Es el segmento en el que el ratio de gasto es superior. Este primer segmento lo vamos a etiquetar como clientes promedio.\n",
    "\n",
    "El segundo segmento está formado por clientes con menos ingresos anuales que en los otrs dos segmentos. Está formado por casi el mismo número de mujeres que de hombres. Es el segmento en el que el ratio de gasto es menor, así como el tamaño familiar. Este segmento lo vamos a etiquetar como clientes con menos oportunidades.\n",
    "\n",
    "El tercer segmento está formado por más mujeres que hombres y es el segmento con valores más altos de ingresos anuales, así como experiencia laboral y tamaño familiar. Este último segmento los vamos a etiquetar como clientes bien pagados."
   ]
  },
  {
   "cell_type": "code",
   "execution_count": 50,
   "id": "24c1afc4",
   "metadata": {},
   "outputs": [
    {
     "data": {
      "text/html": [
       "<div>\n",
       "<style scoped>\n",
       "    .dataframe tbody tr th:only-of-type {\n",
       "        vertical-align: middle;\n",
       "    }\n",
       "\n",
       "    .dataframe tbody tr th {\n",
       "        vertical-align: top;\n",
       "    }\n",
       "\n",
       "    .dataframe thead th {\n",
       "        text-align: right;\n",
       "    }\n",
       "</style>\n",
       "<table border=\"1\" class=\"dataframe\">\n",
       "  <thead>\n",
       "    <tr style=\"text-align: right;\">\n",
       "      <th></th>\n",
       "      <th>Gender</th>\n",
       "      <th>Age</th>\n",
       "      <th>Annual Income ($)</th>\n",
       "      <th>Spending Score (1-100)</th>\n",
       "      <th>Profession</th>\n",
       "      <th>Work Experience</th>\n",
       "      <th>Family Size</th>\n",
       "      <th>Component 1</th>\n",
       "      <th>Component 2</th>\n",
       "      <th>Component 3</th>\n",
       "      <th>N Obs</th>\n",
       "      <th>Prop Obs</th>\n",
       "    </tr>\n",
       "    <tr>\n",
       "      <th>Segment K-means PCA</th>\n",
       "      <th></th>\n",
       "      <th></th>\n",
       "      <th></th>\n",
       "      <th></th>\n",
       "      <th></th>\n",
       "      <th></th>\n",
       "      <th></th>\n",
       "      <th></th>\n",
       "      <th></th>\n",
       "      <th></th>\n",
       "      <th></th>\n",
       "      <th></th>\n",
       "    </tr>\n",
       "  </thead>\n",
       "  <tbody>\n",
       "    <tr>\n",
       "      <th>standard</th>\n",
       "      <td>0.389062</td>\n",
       "      <td>25.198438</td>\n",
       "      <td>108430.618750</td>\n",
       "      <td>60.776562</td>\n",
       "      <td>1.184375</td>\n",
       "      <td>1.295313</td>\n",
       "      <td>3.526562</td>\n",
       "      <td>-1.257275</td>\n",
       "      <td>-0.252956</td>\n",
       "      <td>0.066548</td>\n",
       "      <td>640</td>\n",
       "      <td>0.3200</td>\n",
       "    </tr>\n",
       "    <tr>\n",
       "      <th>fewer opportunities</th>\n",
       "      <td>0.494845</td>\n",
       "      <td>58.022091</td>\n",
       "      <td>83055.730486</td>\n",
       "      <td>39.580265</td>\n",
       "      <td>4.525773</td>\n",
       "      <td>4.154639</td>\n",
       "      <td>2.701031</td>\n",
       "      <td>0.384901</td>\n",
       "      <td>1.024143</td>\n",
       "      <td>0.146745</td>\n",
       "      <td>679</td>\n",
       "      <td>0.3395</td>\n",
       "    </tr>\n",
       "    <tr>\n",
       "      <th>well-off</th>\n",
       "      <td>0.336270</td>\n",
       "      <td>62.255507</td>\n",
       "      <td>140489.289280</td>\n",
       "      <td>53.088106</td>\n",
       "      <td>3.516887</td>\n",
       "      <td>5.264317</td>\n",
       "      <td>5.060206</td>\n",
       "      <td>0.797809</td>\n",
       "      <td>-0.783408</td>\n",
       "      <td>-0.208855</td>\n",
       "      <td>681</td>\n",
       "      <td>0.3405</td>\n",
       "    </tr>\n",
       "  </tbody>\n",
       "</table>\n",
       "</div>"
      ],
      "text/plain": [
       "                       Gender        Age  Annual Income ($)  \\\n",
       "Segment K-means PCA                                           \n",
       "standard             0.389062  25.198438      108430.618750   \n",
       "fewer opportunities  0.494845  58.022091       83055.730486   \n",
       "well-off             0.336270  62.255507      140489.289280   \n",
       "\n",
       "                     Spending Score (1-100)  Profession  Work Experience  \\\n",
       "Segment K-means PCA                                                        \n",
       "standard                          60.776562    1.184375         1.295313   \n",
       "fewer opportunities               39.580265    4.525773         4.154639   \n",
       "well-off                          53.088106    3.516887         5.264317   \n",
       "\n",
       "                     Family Size  Component 1  Component 2  Component 3  \\\n",
       "Segment K-means PCA                                                       \n",
       "standard                3.526562    -1.257275    -0.252956     0.066548   \n",
       "fewer opportunities     2.701031     0.384901     1.024143     0.146745   \n",
       "well-off                5.060206     0.797809    -0.783408    -0.208855   \n",
       "\n",
       "                     N Obs  Prop Obs  \n",
       "Segment K-means PCA                   \n",
       "standard               640    0.3200  \n",
       "fewer opportunities    679    0.3395  \n",
       "well-off               681    0.3405  "
      ]
     },
     "execution_count": 50,
     "metadata": {},
     "output_type": "execute_result"
    }
   ],
   "source": [
    "df_segm_pca_kmeans_freq['N Obs']= df_segm_pca_kmeans[['Segment K-means PCA', 'Gender']].groupby(['Segment K-means PCA']).count()\n",
    "df_segm_pca_kmeans_freq['Prop Obs']=df_segm_pca_kmeans_freq['N Obs']/df_segm_pca_kmeans_freq['N Obs'].sum()\n",
    "df_segm_pca_kmeans_freq= df_segm_pca_kmeans_freq.rename({0: 'standard',\n",
    "                                                        1: 'fewer opportunities',\n",
    "                                                        2: 'well-off'})\n",
    "df_segm_pca_kmeans_freq"
   ]
  },
  {
   "cell_type": "code",
   "execution_count": 51,
   "id": "fd793a2e",
   "metadata": {},
   "outputs": [
    {
     "data": {
      "image/png": "[encoded data removed]",
      "text/plain": [
       "<Figure size 800x600 with 1 Axes>"
      ]
     },
     "metadata": {},
     "output_type": "display_data"
    }
   ],
   "source": [
    "df_segm_pca_kmeans['Legend'] = df_segm_pca_kmeans['Segment K-means PCA'].map({0: 'standard',\n",
    "                                                        1: 'fewer opportunities',\n",
    "                                                        2: 'well-off'})\n",
    "plt.figure(figsize = (8, 6))\n",
    "sns.scatterplot(x=df_segm_pca_kmeans['Component 2'], y=df_segm_pca_kmeans['Component 1'], hue = df_segm_pca_kmeans['Legend'])\n",
    "plt.title('Clusters by PCA Components')\n",
    "plt.show()"
   ]
  },
  {
   "cell_type": "markdown",
   "id": "01a2204f",
   "metadata": {},
   "source": [
    "En el gráfico superior podemos distinguir claramente los 3 tipos de segmentos."
   ]
  },
  {
   "cell_type": "code",
   "execution_count": null,
   "id": "8247699f",
   "metadata": {},
   "outputs": [],
   "source": []
  }
 ],
 "metadata": {
  "kernelspec": {
   "display_name": "Python 3 (ipykernel)",
   "language": "python",
   "name": "python3"
  },
  "language_info": {
   "codemirror_mode": {
    "name": "ipython",
    "version": 3
   },
   "file_extension": ".py",
   "mimetype": "text/x-python",
   "name": "python",
   "nbconvert_exporter": "python",
   "pygments_lexer": "ipython3",
   "version": "3.9.13"
  }
 },
 "nbformat": 4,
 "nbformat_minor": 5
}
